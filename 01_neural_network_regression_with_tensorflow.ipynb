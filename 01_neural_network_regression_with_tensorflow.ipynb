{
  "nbformat": 4,
  "nbformat_minor": 0,
  "metadata": {
    "colab": {
      "provenance": [],
      "authorship_tag": "ABX9TyMkbLewV2KzxEwjMZqGMUpd"
    },
    "kernelspec": {
      "name": "python3",
      "display_name": "Python 3"
    },
    "language_info": {
      "name": "python"
    }
  },
  "cells": [
    {
      "cell_type": "markdown",
      "source": [
        "### Introduction to Regression with Neural Network in Tensorflow"
      ],
      "metadata": {
        "id": "Z0ZD7o5IzEUw"
      }
    },
    {
      "cell_type": "code",
      "execution_count": null,
      "metadata": {
        "id": "uCMhFBa-pUTO"
      },
      "outputs": [],
      "source": [
        "import tensorflow as tf"
      ]
    },
    {
      "cell_type": "code",
      "source": [
        "import numpy as np\n",
        "import matplotlib.pyplot as plt\n",
        "\n",
        "# Create features (using tensors)\n",
        "X = tf.constant([-7.0, -4.0, -1.0, 2.0, 5.0, 8.0, 11.0, 14.0])\n",
        "\n",
        "# Create labels (using tensors)\n",
        "y = tf.constant([3.0, 6.0, 9.0, 12.0, 15.0, 18.0, 21.0, 24.0])\n",
        "\n",
        "# Visualize it\n",
        "plt.scatter(X, y);"
      ],
      "metadata": {
        "colab": {
          "base_uri": "https://localhost:8080/",
          "height": 435
        },
        "id": "lmksFPwDpZs6",
        "outputId": "8008b8f9-221a-4449-9729-8f2e239f971a"
      },
      "execution_count": null,
      "outputs": [
        {
          "output_type": "display_data",
          "data": {
            "text/plain": [
              "<Figure size 640x480 with 1 Axes>"
            ],
            "image/png": "[encoded data removed]"
          },
          "metadata": {}
        }
      ]
    },
    {
      "cell_type": "markdown",
      "source": [
        "## Input and Output shapes"
      ],
      "metadata": {
        "id": "FGjqL3Q9z8eD"
      }
    },
    {
      "cell_type": "code",
      "source": [
        "# Create a demo tensor for out housing price prediction problem\n",
        "house_info = tf.constant(['bedroom', 'bathroom', 'garage'])\n",
        "\n",
        "house_price = tf.constant([939700])"
      ],
      "metadata": {
        "id": "3nw3SaNs0kdB"
      },
      "execution_count": null,
      "outputs": []
    },
    {
      "cell_type": "code",
      "source": [
        "# Set random seed\n",
        "tf.random.set_seed(42)\n",
        "\n",
        "# Create a model using the Sequential API\n",
        "model = tf.keras.Sequential([\n",
        "  tf.keras.layers.Dense(1)\n",
        "])\n",
        "\n",
        "# Compile the model\n",
        "model.compile(loss=tf.keras.losses.mae, # mae is short for mean absolute error\n",
        "              optimizer=tf.keras.optimizers.SGD(), # SGD is short for stochastic gradient descent\n",
        "              metrics=[\"mae\"])\n",
        "\n",
        "# Fit the model\n",
        "# model.fit(X, y, epochs=5) # this will break with TensorFlow 2.7.0+\n",
        "model.fit(tf.expand_dims(X, axis=-1), y, epochs=5)"
      ],
      "metadata": {
        "id": "T0ekgQDF1bYM",
        "colab": {
          "base_uri": "https://localhost:8080/"
        },
        "outputId": "30ae042a-f4b8-49c9-96e1-92a1e5338723"
      },
      "execution_count": null,
      "outputs": [
        {
          "output_type": "stream",
          "name": "stdout",
          "text": [
            "Epoch 1/5\n",
            "1/1 [==============================] - 1s 1s/step - loss: 19.9869 - mae: 19.9869\n",
            "Epoch 2/5\n",
            "1/1 [==============================] - 0s 21ms/step - loss: 19.7056 - mae: 19.7056\n",
            "Epoch 3/5\n",
            "1/1 [==============================] - 0s 27ms/step - loss: 19.4244 - mae: 19.4244\n",
            "Epoch 4/5\n",
            "1/1 [==============================] - 0s 21ms/step - loss: 19.1431 - mae: 19.1431\n",
            "Epoch 5/5\n",
            "1/1 [==============================] - 0s 24ms/step - loss: 18.8619 - mae: 18.8619\n"
          ]
        },
        {
          "output_type": "execute_result",
          "data": {
            "text/plain": [
              "<keras.src.callbacks.History at 0x7af16cdc6fe0>"
            ]
          },
          "metadata": {},
          "execution_count": 4
        }
      ]
    },
    {
      "cell_type": "code",
      "source": [
        "model.predict([17.0])"
      ],
      "metadata": {
        "colab": {
          "base_uri": "https://localhost:8080/"
        },
        "id": "iKwIHTn55Vdt",
        "outputId": "eb4ba5a0-75e4-4c36-d014-0e06ed837707"
      },
      "execution_count": null,
      "outputs": [
        {
          "output_type": "stream",
          "name": "stdout",
          "text": [
            "1/1 [==============================] - 0s 234ms/step\n"
          ]
        },
        {
          "output_type": "execute_result",
          "data": {
            "text/plain": [
              "array([[-18.933716]], dtype=float32)"
            ]
          },
          "metadata": {},
          "execution_count": 5
        }
      ]
    },
    {
      "cell_type": "markdown",
      "source": [
        "## Improving the model\n",
        "We can improve the model by altering the steps we took to create a model\n",
        "\n",
        "1. Creating a model -> increase the number of hidden units, change the activation functions of each layer.\n",
        "2. Compiling a model -> change the optimization function or perhaps the learning rate of optimization function\n",
        "3. Fitting the model -> more epochs or on more data"
      ],
      "metadata": {
        "id": "h4ps1RLI5X7m"
      }
    },
    {
      "cell_type": "code",
      "source": [
        "# Let's rebuild our model\n",
        "\n",
        "# Create a model using the Sequential API\n",
        "model = tf.keras.Sequential([\n",
        "  tf.keras.layers.Dense(1)\n",
        "])\n",
        "\n",
        "# Compile the model\n",
        "model.compile(loss=tf.keras.losses.mae, # mae is short for mean absolute error\n",
        "              optimizer=tf.keras.optimizers.SGD(), # SGD is short for stochastic gradient descent\n",
        "              metrics=[\"mae\"])\n",
        "\n",
        "# Fit the model\n",
        "# model.fit(X, y, epochs=5) # this will break with TensorFlow 2.7.0+\n",
        "model.fit(tf.expand_dims(X, axis=-1), y, epochs=100)"
      ],
      "metadata": {
        "colab": {
          "base_uri": "https://localhost:8080/"
        },
        "id": "Prex4kKH8gkX",
        "outputId": "e4eeaf07-32ef-4470-8c07-983cfab2796e"
      },
      "execution_count": null,
      "outputs": [
        {
          "output_type": "stream",
          "name": "stdout",
          "text": [
            "Epoch 1/100\n",
            "1/1 [==============================] - 1s 952ms/step - loss: 18.0824 - mae: 18.0824\n",
            "Epoch 2/100\n",
            "1/1 [==============================] - 0s 21ms/step - loss: 17.8012 - mae: 17.8012\n",
            "Epoch 3/100\n",
            "1/1 [==============================] - 0s 36ms/step - loss: 17.5199 - mae: 17.5199\n",
            "Epoch 4/100\n",
            "1/1 [==============================] - 0s 18ms/step - loss: 17.2387 - mae: 17.2387\n",
            "Epoch 5/100\n",
            "1/1 [==============================] - 0s 26ms/step - loss: 16.9574 - mae: 16.9574\n",
            "Epoch 6/100\n",
            "1/1 [==============================] - 0s 17ms/step - loss: 16.6762 - mae: 16.6762\n",
            "Epoch 7/100\n",
            "1/1 [==============================] - 0s 28ms/step - loss: 16.3949 - mae: 16.3949\n",
            "Epoch 8/100\n",
            "1/1 [==============================] - 0s 26ms/step - loss: 16.1137 - mae: 16.1137\n",
            "Epoch 9/100\n",
            "1/1 [==============================] - 0s 21ms/step - loss: 15.8324 - mae: 15.8324\n",
            "Epoch 10/100\n",
            "1/1 [==============================] - 0s 23ms/step - loss: 15.5512 - mae: 15.5512\n",
            "Epoch 11/100\n",
            "1/1 [==============================] - 0s 16ms/step - loss: 15.2699 - mae: 15.2699\n",
            "Epoch 12/100\n",
            "1/1 [==============================] - 0s 16ms/step - loss: 14.9887 - mae: 14.9887\n",
            "Epoch 13/100\n",
            "1/1 [==============================] - 0s 26ms/step - loss: 14.7599 - mae: 14.7599\n",
            "Epoch 14/100\n",
            "1/1 [==============================] - 0s 23ms/step - loss: 14.6274 - mae: 14.6274\n",
            "Epoch 15/100\n",
            "1/1 [==============================] - 0s 26ms/step - loss: 14.4949 - mae: 14.4949\n",
            "Epoch 16/100\n",
            "1/1 [==============================] - 0s 23ms/step - loss: 14.3624 - mae: 14.3624\n",
            "Epoch 17/100\n",
            "1/1 [==============================] - 0s 27ms/step - loss: 14.2299 - mae: 14.2299\n",
            "Epoch 18/100\n",
            "1/1 [==============================] - 0s 31ms/step - loss: 14.0974 - mae: 14.0974\n",
            "Epoch 19/100\n",
            "1/1 [==============================] - 0s 30ms/step - loss: 13.9649 - mae: 13.9649\n",
            "Epoch 20/100\n",
            "1/1 [==============================] - 0s 34ms/step - loss: 13.8324 - mae: 13.8324\n",
            "Epoch 21/100\n",
            "1/1 [==============================] - 0s 23ms/step - loss: 13.6999 - mae: 13.6999\n",
            "Epoch 22/100\n",
            "1/1 [==============================] - 0s 19ms/step - loss: 13.5674 - mae: 13.5674\n",
            "Epoch 23/100\n",
            "1/1 [==============================] - 0s 24ms/step - loss: 13.4349 - mae: 13.4349\n",
            "Epoch 24/100\n",
            "1/1 [==============================] - 0s 27ms/step - loss: 13.3024 - mae: 13.3024\n",
            "Epoch 25/100\n",
            "1/1 [==============================] - 0s 19ms/step - loss: 13.1699 - mae: 13.1699\n",
            "Epoch 26/100\n",
            "1/1 [==============================] - 0s 14ms/step - loss: 13.0374 - mae: 13.0374\n",
            "Epoch 27/100\n",
            "1/1 [==============================] - 0s 15ms/step - loss: 12.9049 - mae: 12.9049\n",
            "Epoch 28/100\n",
            "1/1 [==============================] - 0s 16ms/step - loss: 12.7724 - mae: 12.7724\n",
            "Epoch 29/100\n",
            "1/1 [==============================] - 0s 23ms/step - loss: 12.6399 - mae: 12.6399\n",
            "Epoch 30/100\n",
            "1/1 [==============================] - 0s 24ms/step - loss: 12.5074 - mae: 12.5074\n",
            "Epoch 31/100\n",
            "1/1 [==============================] - 0s 40ms/step - loss: 12.3749 - mae: 12.3749\n",
            "Epoch 32/100\n",
            "1/1 [==============================] - 0s 21ms/step - loss: 12.2424 - mae: 12.2424\n",
            "Epoch 33/100\n",
            "1/1 [==============================] - 0s 25ms/step - loss: 12.1099 - mae: 12.1099\n",
            "Epoch 34/100\n",
            "1/1 [==============================] - 0s 21ms/step - loss: 11.9774 - mae: 11.9774\n",
            "Epoch 35/100\n",
            "1/1 [==============================] - 0s 19ms/step - loss: 11.8449 - mae: 11.8449\n",
            "Epoch 36/100\n",
            "1/1 [==============================] - 0s 17ms/step - loss: 11.7124 - mae: 11.7124\n",
            "Epoch 37/100\n",
            "1/1 [==============================] - 0s 13ms/step - loss: 11.5799 - mae: 11.5799\n",
            "Epoch 38/100\n",
            "1/1 [==============================] - 0s 11ms/step - loss: 11.4474 - mae: 11.4474\n",
            "Epoch 39/100\n",
            "1/1 [==============================] - 0s 14ms/step - loss: 11.3149 - mae: 11.3149\n",
            "Epoch 40/100\n",
            "1/1 [==============================] - 0s 12ms/step - loss: 11.1824 - mae: 11.1824\n",
            "Epoch 41/100\n",
            "1/1 [==============================] - 0s 15ms/step - loss: 11.0499 - mae: 11.0499\n",
            "Epoch 42/100\n",
            "1/1 [==============================] - 0s 12ms/step - loss: 10.9174 - mae: 10.9174\n",
            "Epoch 43/100\n",
            "1/1 [==============================] - 0s 14ms/step - loss: 10.7849 - mae: 10.7849\n",
            "Epoch 44/100\n",
            "1/1 [==============================] - 0s 19ms/step - loss: 10.6524 - mae: 10.6524\n",
            "Epoch 45/100\n",
            "1/1 [==============================] - 0s 23ms/step - loss: 10.5199 - mae: 10.5199\n",
            "Epoch 46/100\n",
            "1/1 [==============================] - 0s 22ms/step - loss: 10.3874 - mae: 10.3874\n",
            "Epoch 47/100\n",
            "1/1 [==============================] - 0s 18ms/step - loss: 10.2549 - mae: 10.2549\n",
            "Epoch 48/100\n",
            "1/1 [==============================] - 0s 18ms/step - loss: 10.1224 - mae: 10.1224\n",
            "Epoch 49/100\n",
            "1/1 [==============================] - 0s 20ms/step - loss: 9.9899 - mae: 9.9899\n",
            "Epoch 50/100\n",
            "1/1 [==============================] - 0s 24ms/step - loss: 9.8574 - mae: 9.8574\n",
            "Epoch 51/100\n",
            "1/1 [==============================] - 0s 21ms/step - loss: 9.7249 - mae: 9.7249\n",
            "Epoch 52/100\n",
            "1/1 [==============================] - 0s 40ms/step - loss: 9.5924 - mae: 9.5924\n",
            "Epoch 53/100\n",
            "1/1 [==============================] - 0s 52ms/step - loss: 9.4599 - mae: 9.4599\n",
            "Epoch 54/100\n",
            "1/1 [==============================] - 0s 38ms/step - loss: 9.3274 - mae: 9.3274\n",
            "Epoch 55/100\n",
            "1/1 [==============================] - 0s 31ms/step - loss: 9.1949 - mae: 9.1949\n",
            "Epoch 56/100\n",
            "1/1 [==============================] - 0s 20ms/step - loss: 9.0624 - mae: 9.0624\n",
            "Epoch 57/100\n",
            "1/1 [==============================] - 0s 19ms/step - loss: 8.9299 - mae: 8.9299\n",
            "Epoch 58/100\n",
            "1/1 [==============================] - 0s 21ms/step - loss: 8.7974 - mae: 8.7974\n",
            "Epoch 59/100\n",
            "1/1 [==============================] - 0s 22ms/step - loss: 8.6649 - mae: 8.6649\n",
            "Epoch 60/100\n",
            "1/1 [==============================] - 0s 30ms/step - loss: 8.5324 - mae: 8.5324\n",
            "Epoch 61/100\n",
            "1/1 [==============================] - 0s 23ms/step - loss: 8.3999 - mae: 8.3999\n",
            "Epoch 62/100\n",
            "1/1 [==============================] - 0s 23ms/step - loss: 8.2674 - mae: 8.2674\n",
            "Epoch 63/100\n",
            "1/1 [==============================] - 0s 30ms/step - loss: 8.1349 - mae: 8.1349\n",
            "Epoch 64/100\n",
            "1/1 [==============================] - 0s 19ms/step - loss: 8.0024 - mae: 8.0024\n",
            "Epoch 65/100\n",
            "1/1 [==============================] - 0s 23ms/step - loss: 7.8699 - mae: 7.8699\n",
            "Epoch 66/100\n",
            "1/1 [==============================] - 0s 35ms/step - loss: 7.7374 - mae: 7.7374\n",
            "Epoch 67/100\n",
            "1/1 [==============================] - 0s 18ms/step - loss: 7.6049 - mae: 7.6049\n",
            "Epoch 68/100\n",
            "1/1 [==============================] - 0s 28ms/step - loss: 7.4724 - mae: 7.4724\n",
            "Epoch 69/100\n",
            "1/1 [==============================] - 0s 31ms/step - loss: 7.3399 - mae: 7.3399\n",
            "Epoch 70/100\n",
            "1/1 [==============================] - 0s 23ms/step - loss: 7.2074 - mae: 7.2074\n",
            "Epoch 71/100\n",
            "1/1 [==============================] - 0s 14ms/step - loss: 7.0749 - mae: 7.0749\n",
            "Epoch 72/100\n",
            "1/1 [==============================] - 0s 15ms/step - loss: 6.9900 - mae: 6.9900\n",
            "Epoch 73/100\n",
            "1/1 [==============================] - 0s 25ms/step - loss: 6.9844 - mae: 6.9844\n",
            "Epoch 74/100\n",
            "1/1 [==============================] - 0s 50ms/step - loss: 6.9788 - mae: 6.9788\n",
            "Epoch 75/100\n",
            "1/1 [==============================] - 0s 18ms/step - loss: 6.9731 - mae: 6.9731\n",
            "Epoch 76/100\n",
            "1/1 [==============================] - 0s 48ms/step - loss: 6.9675 - mae: 6.9675\n",
            "Epoch 77/100\n",
            "1/1 [==============================] - 0s 44ms/step - loss: 6.9619 - mae: 6.9619\n",
            "Epoch 78/100\n",
            "1/1 [==============================] - 0s 40ms/step - loss: 6.9563 - mae: 6.9563\n",
            "Epoch 79/100\n",
            "1/1 [==============================] - 0s 30ms/step - loss: 6.9506 - mae: 6.9506\n",
            "Epoch 80/100\n",
            "1/1 [==============================] - 0s 19ms/step - loss: 6.9450 - mae: 6.9450\n",
            "Epoch 81/100\n",
            "1/1 [==============================] - 0s 21ms/step - loss: 6.9394 - mae: 6.9394\n",
            "Epoch 82/100\n",
            "1/1 [==============================] - 0s 15ms/step - loss: 6.9338 - mae: 6.9338\n",
            "Epoch 83/100\n",
            "1/1 [==============================] - 0s 21ms/step - loss: 6.9281 - mae: 6.9281\n",
            "Epoch 84/100\n",
            "1/1 [==============================] - 0s 29ms/step - loss: 6.9225 - mae: 6.9225\n",
            "Epoch 85/100\n",
            "1/1 [==============================] - 0s 27ms/step - loss: 6.9169 - mae: 6.9169\n",
            "Epoch 86/100\n",
            "1/1 [==============================] - 0s 15ms/step - loss: 6.9113 - mae: 6.9113\n",
            "Epoch 87/100\n",
            "1/1 [==============================] - 0s 19ms/step - loss: 6.9056 - mae: 6.9056\n",
            "Epoch 88/100\n",
            "1/1 [==============================] - 0s 22ms/step - loss: 6.9000 - mae: 6.9000\n",
            "Epoch 89/100\n",
            "1/1 [==============================] - 0s 30ms/step - loss: 6.8944 - mae: 6.8944\n",
            "Epoch 90/100\n",
            "1/1 [==============================] - 0s 42ms/step - loss: 6.8888 - mae: 6.8888\n",
            "Epoch 91/100\n",
            "1/1 [==============================] - 0s 29ms/step - loss: 6.8831 - mae: 6.8831\n",
            "Epoch 92/100\n",
            "1/1 [==============================] - 0s 45ms/step - loss: 6.8775 - mae: 6.8775\n",
            "Epoch 93/100\n",
            "1/1 [==============================] - 0s 25ms/step - loss: 6.8719 - mae: 6.8719\n",
            "Epoch 94/100\n",
            "1/1 [==============================] - 0s 37ms/step - loss: 6.8663 - mae: 6.8663\n",
            "Epoch 95/100\n",
            "1/1 [==============================] - 0s 33ms/step - loss: 6.8606 - mae: 6.8606\n",
            "Epoch 96/100\n",
            "1/1 [==============================] - 0s 39ms/step - loss: 6.8550 - mae: 6.8550\n",
            "Epoch 97/100\n",
            "1/1 [==============================] - 0s 26ms/step - loss: 6.8494 - mae: 6.8494\n",
            "Epoch 98/100\n",
            "1/1 [==============================] - 0s 18ms/step - loss: 6.8438 - mae: 6.8438\n",
            "Epoch 99/100\n",
            "1/1 [==============================] - 0s 17ms/step - loss: 6.8381 - mae: 6.8381\n",
            "Epoch 100/100\n",
            "1/1 [==============================] - 0s 22ms/step - loss: 6.8325 - mae: 6.8325\n"
          ]
        },
        {
          "output_type": "execute_result",
          "data": {
            "text/plain": [
              "<keras.src.callbacks.History at 0x7af169034580>"
            ]
          },
          "metadata": {},
          "execution_count": 6
        }
      ]
    },
    {
      "cell_type": "code",
      "source": [
        "model.predict([17.0])"
      ],
      "metadata": {
        "colab": {
          "base_uri": "https://localhost:8080/"
        },
        "id": "7A89DLwI-8VC",
        "outputId": "2e4b88a4-0d12-43fd-b5e0-140018bd00c1"
      },
      "execution_count": null,
      "outputs": [
        {
          "output_type": "stream",
          "name": "stdout",
          "text": [
            "1/1 [==============================] - 0s 95ms/step\n"
          ]
        },
        {
          "output_type": "execute_result",
          "data": {
            "text/plain": [
              "array([[29.44564]], dtype=float32)"
            ]
          },
          "metadata": {},
          "execution_count": 7
        }
      ]
    },
    {
      "cell_type": "code",
      "source": [
        "# Let's rebuild out data\n",
        "\n",
        "# Create a model using the Sequential API\n",
        "model = tf.keras.Sequential([\n",
        "  tf.keras.layers.Dense(100,activation='relu'),\n",
        "  tf.keras.layers.Dense(1)\n",
        "])\n",
        "\n",
        "# Compile the model\n",
        "model.compile(loss=\"mae\", # mae is short for mean absolute error\n",
        "              optimizer=tf.keras.optimizers.SGD(), # SGD is short for stochastic gradient descent\n",
        "              metrics=[\"mae\"])\n",
        "\n",
        "# Fit the model\n",
        "# model.fit(X, y, epochs=5) # this will break with TensorFlow 2.7.0+\n",
        "model.fit(tf.expand_dims(X, axis=-1), y, epochs=100)"
      ],
      "metadata": {
        "colab": {
          "base_uri": "https://localhost:8080/"
        },
        "id": "ZRKMwPaj_F7C",
        "outputId": "2d7e0ca1-3105-49eb-c3ff-3a3c9f372ed7"
      },
      "execution_count": null,
      "outputs": [
        {
          "output_type": "stream",
          "name": "stdout",
          "text": [
            "Epoch 1/100\n",
            "1/1 [==============================] - 1s 1s/step - loss: 14.0679 - mae: 14.0679\n",
            "Epoch 2/100\n",
            "1/1 [==============================] - 0s 22ms/step - loss: 13.5734 - mae: 13.5734\n",
            "Epoch 3/100\n",
            "1/1 [==============================] - 0s 26ms/step - loss: 13.0830 - mae: 13.0830\n",
            "Epoch 4/100\n",
            "1/1 [==============================] - 0s 35ms/step - loss: 12.5914 - mae: 12.5914\n",
            "Epoch 5/100\n",
            "1/1 [==============================] - 0s 23ms/step - loss: 12.0948 - mae: 12.0948\n",
            "Epoch 6/100\n",
            "1/1 [==============================] - 0s 45ms/step - loss: 11.5924 - mae: 11.5924\n",
            "Epoch 7/100\n",
            "1/1 [==============================] - 0s 27ms/step - loss: 11.0981 - mae: 11.0981\n",
            "Epoch 8/100\n",
            "1/1 [==============================] - 0s 24ms/step - loss: 10.5915 - mae: 10.5915\n",
            "Epoch 9/100\n",
            "1/1 [==============================] - 0s 27ms/step - loss: 10.0740 - mae: 10.0740\n",
            "Epoch 10/100\n",
            "1/1 [==============================] - 0s 21ms/step - loss: 9.5351 - mae: 9.5351\n",
            "Epoch 11/100\n",
            "1/1 [==============================] - 0s 25ms/step - loss: 8.9629 - mae: 8.9629\n",
            "Epoch 12/100\n",
            "1/1 [==============================] - 0s 21ms/step - loss: 8.3511 - mae: 8.3511\n",
            "Epoch 13/100\n",
            "1/1 [==============================] - 0s 26ms/step - loss: 7.6971 - mae: 7.6971\n",
            "Epoch 14/100\n",
            "1/1 [==============================] - 0s 31ms/step - loss: 7.0014 - mae: 7.0014\n",
            "Epoch 15/100\n",
            "1/1 [==============================] - 0s 24ms/step - loss: 6.2470 - mae: 6.2470\n",
            "Epoch 16/100\n",
            "1/1 [==============================] - 0s 22ms/step - loss: 5.4272 - mae: 5.4272\n",
            "Epoch 17/100\n",
            "1/1 [==============================] - 0s 28ms/step - loss: 4.5361 - mae: 4.5361\n",
            "Epoch 18/100\n",
            "1/1 [==============================] - 0s 20ms/step - loss: 4.0978 - mae: 4.0978\n",
            "Epoch 19/100\n",
            "1/1 [==============================] - 0s 25ms/step - loss: 4.0217 - mae: 4.0217\n",
            "Epoch 20/100\n",
            "1/1 [==============================] - 0s 24ms/step - loss: 3.9829 - mae: 3.9829\n",
            "Epoch 21/100\n",
            "1/1 [==============================] - 0s 29ms/step - loss: 3.9380 - mae: 3.9380\n",
            "Epoch 22/100\n",
            "1/1 [==============================] - 0s 31ms/step - loss: 3.8977 - mae: 3.8977\n",
            "Epoch 23/100\n",
            "1/1 [==============================] - 0s 39ms/step - loss: 3.9308 - mae: 3.9308\n",
            "Epoch 24/100\n",
            "1/1 [==============================] - 0s 18ms/step - loss: 3.8731 - mae: 3.8731\n",
            "Epoch 25/100\n",
            "1/1 [==============================] - 0s 34ms/step - loss: 3.9376 - mae: 3.9376\n",
            "Epoch 26/100\n",
            "1/1 [==============================] - 0s 23ms/step - loss: 3.8729 - mae: 3.8729\n",
            "Epoch 27/100\n",
            "1/1 [==============================] - 0s 25ms/step - loss: 3.9244 - mae: 3.9244\n",
            "Epoch 28/100\n",
            "1/1 [==============================] - 0s 17ms/step - loss: 3.8872 - mae: 3.8872\n",
            "Epoch 29/100\n",
            "1/1 [==============================] - 0s 23ms/step - loss: 3.9016 - mae: 3.9016\n",
            "Epoch 30/100\n",
            "1/1 [==============================] - 0s 24ms/step - loss: 3.8940 - mae: 3.8940\n",
            "Epoch 31/100\n",
            "1/1 [==============================] - 0s 40ms/step - loss: 3.8769 - mae: 3.8769\n",
            "Epoch 32/100\n",
            "1/1 [==============================] - 0s 52ms/step - loss: 3.9009 - mae: 3.9009\n",
            "Epoch 33/100\n",
            "1/1 [==============================] - 0s 40ms/step - loss: 3.8521 - mae: 3.8521\n",
            "Epoch 34/100\n",
            "1/1 [==============================] - 0s 29ms/step - loss: 3.9079 - mae: 3.9079\n",
            "Epoch 35/100\n",
            "1/1 [==============================] - 0s 50ms/step - loss: 3.8465 - mae: 3.8465\n",
            "Epoch 36/100\n",
            "1/1 [==============================] - 0s 39ms/step - loss: 3.9045 - mae: 3.9045\n",
            "Epoch 37/100\n",
            "1/1 [==============================] - 0s 29ms/step - loss: 3.8581 - mae: 3.8581\n",
            "Epoch 38/100\n",
            "1/1 [==============================] - 0s 20ms/step - loss: 3.8798 - mae: 3.8798\n",
            "Epoch 39/100\n",
            "1/1 [==============================] - 0s 48ms/step - loss: 3.8650 - mae: 3.8650\n",
            "Epoch 40/100\n",
            "1/1 [==============================] - 0s 17ms/step - loss: 3.8548 - mae: 3.8548\n",
            "Epoch 41/100\n",
            "1/1 [==============================] - 0s 16ms/step - loss: 3.8721 - mae: 3.8721\n",
            "Epoch 42/100\n",
            "1/1 [==============================] - 0s 23ms/step - loss: 3.8297 - mae: 3.8297\n",
            "Epoch 43/100\n",
            "1/1 [==============================] - 0s 17ms/step - loss: 3.8798 - mae: 3.8798\n",
            "Epoch 44/100\n",
            "1/1 [==============================] - 0s 22ms/step - loss: 3.8230 - mae: 3.8230\n",
            "Epoch 45/100\n",
            "1/1 [==============================] - 0s 26ms/step - loss: 3.8817 - mae: 3.8817\n",
            "Epoch 46/100\n",
            "1/1 [==============================] - 0s 54ms/step - loss: 3.8301 - mae: 3.8301\n",
            "Epoch 47/100\n",
            "1/1 [==============================] - 0s 45ms/step - loss: 3.8567 - mae: 3.8567\n",
            "Epoch 48/100\n",
            "1/1 [==============================] - 0s 42ms/step - loss: 3.8373 - mae: 3.8373\n",
            "Epoch 49/100\n",
            "1/1 [==============================] - 0s 46ms/step - loss: 3.8315 - mae: 3.8315\n",
            "Epoch 50/100\n",
            "1/1 [==============================] - 0s 36ms/step - loss: 3.8446 - mae: 3.8446\n",
            "Epoch 51/100\n",
            "1/1 [==============================] - 0s 35ms/step - loss: 3.8061 - mae: 3.8061\n",
            "Epoch 52/100\n",
            "1/1 [==============================] - 0s 43ms/step - loss: 3.8572 - mae: 3.8572\n",
            "Epoch 53/100\n",
            "1/1 [==============================] - 0s 59ms/step - loss: 3.7960 - mae: 3.7960\n",
            "Epoch 54/100\n",
            "1/1 [==============================] - 0s 40ms/step - loss: 3.8576 - mae: 3.8576\n",
            "Epoch 55/100\n",
            "1/1 [==============================] - 0s 32ms/step - loss: 3.8033 - mae: 3.8033\n",
            "Epoch 56/100\n",
            "1/1 [==============================] - 0s 27ms/step - loss: 3.8323 - mae: 3.8323\n",
            "Epoch 57/100\n",
            "1/1 [==============================] - 0s 34ms/step - loss: 3.8107 - mae: 3.8107\n",
            "Epoch 58/100\n",
            "1/1 [==============================] - 0s 26ms/step - loss: 3.8069 - mae: 3.8069\n",
            "Epoch 59/100\n",
            "1/1 [==============================] - 0s 18ms/step - loss: 3.8182 - mae: 3.8182\n",
            "Epoch 60/100\n",
            "1/1 [==============================] - 0s 29ms/step - loss: 3.7841 - mae: 3.7841\n",
            "Epoch 61/100\n",
            "1/1 [==============================] - 0s 32ms/step - loss: 3.8334 - mae: 3.8334\n",
            "Epoch 62/100\n",
            "1/1 [==============================] - 0s 46ms/step - loss: 3.7701 - mae: 3.7701\n",
            "Epoch 63/100\n",
            "1/1 [==============================] - 0s 32ms/step - loss: 3.8323 - mae: 3.8323\n",
            "Epoch 64/100\n",
            "1/1 [==============================] - 0s 26ms/step - loss: 3.7776 - mae: 3.7776\n",
            "Epoch 65/100\n",
            "1/1 [==============================] - 0s 22ms/step - loss: 3.8067 - mae: 3.8067\n",
            "Epoch 66/100\n",
            "1/1 [==============================] - 0s 18ms/step - loss: 3.7852 - mae: 3.7852\n",
            "Epoch 67/100\n",
            "1/1 [==============================] - 0s 19ms/step - loss: 3.7809 - mae: 3.7809\n",
            "Epoch 68/100\n",
            "1/1 [==============================] - 0s 17ms/step - loss: 3.7929 - mae: 3.7929\n",
            "Epoch 69/100\n",
            "1/1 [==============================] - 0s 19ms/step - loss: 3.7623 - mae: 3.7623\n",
            "Epoch 70/100\n",
            "1/1 [==============================] - 0s 23ms/step - loss: 3.8082 - mae: 3.8082\n",
            "Epoch 71/100\n",
            "1/1 [==============================] - 0s 26ms/step - loss: 3.7453 - mae: 3.7453\n",
            "Epoch 72/100\n",
            "1/1 [==============================] - 0s 20ms/step - loss: 3.8056 - mae: 3.8056\n",
            "Epoch 73/100\n",
            "1/1 [==============================] - 0s 16ms/step - loss: 3.7530 - mae: 3.7530\n",
            "Epoch 74/100\n",
            "1/1 [==============================] - 0s 15ms/step - loss: 3.7797 - mae: 3.7797\n",
            "Epoch 75/100\n",
            "1/1 [==============================] - 0s 23ms/step - loss: 3.7608 - mae: 3.7608\n",
            "Epoch 76/100\n",
            "1/1 [==============================] - 0s 18ms/step - loss: 3.7537 - mae: 3.7537\n",
            "Epoch 77/100\n",
            "1/1 [==============================] - 0s 26ms/step - loss: 3.7728 - mae: 3.7728\n",
            "Epoch 78/100\n",
            "1/1 [==============================] - 0s 23ms/step - loss: 3.7343 - mae: 3.7343\n",
            "Epoch 79/100\n",
            "1/1 [==============================] - 0s 23ms/step - loss: 3.7842 - mae: 3.7842\n",
            "Epoch 80/100\n",
            "1/1 [==============================] - 0s 22ms/step - loss: 3.7215 - mae: 3.7215\n",
            "Epoch 81/100\n",
            "1/1 [==============================] - 0s 21ms/step - loss: 3.7777 - mae: 3.7777\n",
            "Epoch 82/100\n",
            "1/1 [==============================] - 0s 18ms/step - loss: 3.7294 - mae: 3.7294\n",
            "Epoch 83/100\n",
            "1/1 [==============================] - 0s 15ms/step - loss: 3.7515 - mae: 3.7515\n",
            "Epoch 84/100\n",
            "1/1 [==============================] - 0s 21ms/step - loss: 3.7374 - mae: 3.7374\n",
            "Epoch 85/100\n",
            "1/1 [==============================] - 0s 14ms/step - loss: 3.7266 - mae: 3.7266\n",
            "Epoch 86/100\n",
            "1/1 [==============================] - 0s 36ms/step - loss: 3.7530 - mae: 3.7530\n",
            "Epoch 87/100\n",
            "1/1 [==============================] - 0s 43ms/step - loss: 3.7054 - mae: 3.7054\n",
            "Epoch 88/100\n",
            "1/1 [==============================] - 0s 41ms/step - loss: 3.7611 - mae: 3.7611\n",
            "Epoch 89/100\n",
            "1/1 [==============================] - 0s 35ms/step - loss: 3.6988 - mae: 3.6988\n",
            "Epoch 90/100\n",
            "1/1 [==============================] - 0s 32ms/step - loss: 3.7484 - mae: 3.7484\n",
            "Epoch 91/100\n",
            "1/1 [==============================] - 0s 19ms/step - loss: 3.7068 - mae: 3.7068\n",
            "Epoch 92/100\n",
            "1/1 [==============================] - 0s 37ms/step - loss: 3.7219 - mae: 3.7219\n",
            "Epoch 93/100\n",
            "1/1 [==============================] - 0s 62ms/step - loss: 3.7150 - mae: 3.7150\n",
            "Epoch 94/100\n",
            "1/1 [==============================] - 0s 44ms/step - loss: 3.7008 - mae: 3.7008\n",
            "Epoch 95/100\n",
            "1/1 [==============================] - 0s 61ms/step - loss: 3.7308 - mae: 3.7308\n",
            "Epoch 96/100\n",
            "1/1 [==============================] - 0s 44ms/step - loss: 3.6752 - mae: 3.6752\n",
            "Epoch 97/100\n",
            "1/1 [==============================] - 0s 46ms/step - loss: 3.7391 - mae: 3.7391\n",
            "Epoch 98/100\n",
            "1/1 [==============================] - 0s 39ms/step - loss: 3.6770 - mae: 3.6770\n",
            "Epoch 99/100\n",
            "1/1 [==============================] - 0s 36ms/step - loss: 3.7178 - mae: 3.7178\n",
            "Epoch 100/100\n",
            "1/1 [==============================] - 0s 20ms/step - loss: 3.6852 - mae: 3.6852\n"
          ]
        },
        {
          "output_type": "execute_result",
          "data": {
            "text/plain": [
              "<keras.src.callbacks.History at 0x7af168695e70>"
            ]
          },
          "metadata": {},
          "execution_count": 8
        }
      ]
    },
    {
      "cell_type": "code",
      "source": [
        "model.predict([17.0])"
      ],
      "metadata": {
        "id": "ekY6trkGAZrj",
        "colab": {
          "base_uri": "https://localhost:8080/"
        },
        "outputId": "e1203ecf-2814-4197-e6e4-8379a4e8a7ec"
      },
      "execution_count": null,
      "outputs": [
        {
          "output_type": "stream",
          "name": "stdout",
          "text": [
            "1/1 [==============================] - 0s 307ms/step\n"
          ]
        },
        {
          "output_type": "execute_result",
          "data": {
            "text/plain": [
              "array([[31.514975]], dtype=float32)"
            ]
          },
          "metadata": {},
          "execution_count": 9
        }
      ]
    },
    {
      "cell_type": "code",
      "source": [
        "# Let's rebuild out data\n",
        "\n",
        "# Create a model using the Sequential API\n",
        "model = tf.keras.Sequential([\n",
        "  tf.keras.layers.Dense(100,activation='relu'),\n",
        "  tf.keras.layers.Dense(50,activation='relu'),\n",
        "  tf.keras.layers.Dense(1)\n",
        "])\n",
        "\n",
        "# Compile the model\n",
        "model.compile(loss=\"mae\", # mae is short for mean absolute error\n",
        "              optimizer=tf.keras.optimizers.SGD(), # SGD is short for stochastic gradient descent\n",
        "              metrics=[\"mae\"])\n",
        "\n",
        "# Fit the model\n",
        "# model.fit(X, y, epochs=5) # this will break with TensorFlow 2.7.0+\n",
        "model.fit(tf.expand_dims(X, axis=-1), y, epochs=100)"
      ],
      "metadata": {
        "id": "rmjTw9vTAgVi",
        "colab": {
          "base_uri": "https://localhost:8080/"
        },
        "outputId": "5543dcea-2d60-414a-e406-893c5dc07b9a"
      },
      "execution_count": null,
      "outputs": [
        {
          "output_type": "stream",
          "name": "stdout",
          "text": [
            "Epoch 1/100\n",
            "1/1 [==============================] - 2s 2s/step - loss: 13.2670 - mae: 13.2670\n",
            "Epoch 2/100\n",
            "1/1 [==============================] - 0s 21ms/step - loss: 12.7062 - mae: 12.7062\n",
            "Epoch 3/100\n",
            "1/1 [==============================] - 0s 24ms/step - loss: 12.2126 - mae: 12.2126\n",
            "Epoch 4/100\n",
            "1/1 [==============================] - 0s 19ms/step - loss: 11.7125 - mae: 11.7125\n",
            "Epoch 5/100\n",
            "1/1 [==============================] - 0s 15ms/step - loss: 11.2018 - mae: 11.2018\n",
            "Epoch 6/100\n",
            "1/1 [==============================] - 0s 31ms/step - loss: 10.6378 - mae: 10.6378\n",
            "Epoch 7/100\n",
            "1/1 [==============================] - 0s 23ms/step - loss: 9.9586 - mae: 9.9586\n",
            "Epoch 8/100\n",
            "1/1 [==============================] - 0s 21ms/step - loss: 9.1900 - mae: 9.1900\n",
            "Epoch 9/100\n",
            "1/1 [==============================] - 0s 17ms/step - loss: 8.3773 - mae: 8.3773\n",
            "Epoch 10/100\n",
            "1/1 [==============================] - 0s 17ms/step - loss: 7.4390 - mae: 7.4390\n",
            "Epoch 11/100\n",
            "1/1 [==============================] - 0s 15ms/step - loss: 6.3147 - mae: 6.3147\n",
            "Epoch 12/100\n",
            "1/1 [==============================] - 0s 16ms/step - loss: 4.9516 - mae: 4.9516\n",
            "Epoch 13/100\n",
            "1/1 [==============================] - 0s 21ms/step - loss: 3.9098 - mae: 3.9098\n",
            "Epoch 14/100\n",
            "1/1 [==============================] - 0s 13ms/step - loss: 4.0226 - mae: 4.0226\n",
            "Epoch 15/100\n",
            "1/1 [==============================] - 0s 13ms/step - loss: 3.8899 - mae: 3.8899\n",
            "Epoch 16/100\n",
            "1/1 [==============================] - 0s 19ms/step - loss: 4.0050 - mae: 4.0050\n",
            "Epoch 17/100\n",
            "1/1 [==============================] - 0s 17ms/step - loss: 3.8993 - mae: 3.8993\n",
            "Epoch 18/100\n",
            "1/1 [==============================] - 0s 15ms/step - loss: 3.9631 - mae: 3.9631\n",
            "Epoch 19/100\n",
            "1/1 [==============================] - 0s 14ms/step - loss: 3.9092 - mae: 3.9092\n",
            "Epoch 20/100\n",
            "1/1 [==============================] - 0s 14ms/step - loss: 3.9206 - mae: 3.9206\n",
            "Epoch 21/100\n",
            "1/1 [==============================] - 0s 17ms/step - loss: 3.9198 - mae: 3.9198\n",
            "Epoch 22/100\n",
            "1/1 [==============================] - 0s 15ms/step - loss: 3.8889 - mae: 3.8889\n",
            "Epoch 23/100\n",
            "1/1 [==============================] - 0s 19ms/step - loss: 3.9539 - mae: 3.9539\n",
            "Epoch 24/100\n",
            "1/1 [==============================] - 0s 20ms/step - loss: 3.8365 - mae: 3.8365\n",
            "Epoch 25/100\n",
            "1/1 [==============================] - 0s 21ms/step - loss: 3.9647 - mae: 3.9647\n",
            "Epoch 26/100\n",
            "1/1 [==============================] - 0s 30ms/step - loss: 3.8370 - mae: 3.8370\n",
            "Epoch 27/100\n",
            "1/1 [==============================] - 0s 35ms/step - loss: 3.9274 - mae: 3.9274\n",
            "Epoch 28/100\n",
            "1/1 [==============================] - 0s 14ms/step - loss: 3.8486 - mae: 3.8486\n",
            "Epoch 29/100\n",
            "1/1 [==============================] - 0s 30ms/step - loss: 3.8822 - mae: 3.8822\n",
            "Epoch 30/100\n",
            "1/1 [==============================] - 0s 38ms/step - loss: 3.8608 - mae: 3.8608\n",
            "Epoch 31/100\n",
            "1/1 [==============================] - 0s 25ms/step - loss: 3.8586 - mae: 3.8586\n",
            "Epoch 32/100\n",
            "1/1 [==============================] - 0s 14ms/step - loss: 3.8965 - mae: 3.8965\n",
            "Epoch 33/100\n",
            "1/1 [==============================] - 0s 14ms/step - loss: 3.7934 - mae: 3.7934\n",
            "Epoch 34/100\n",
            "1/1 [==============================] - 0s 13ms/step - loss: 3.9095 - mae: 3.9095\n",
            "Epoch 35/100\n",
            "1/1 [==============================] - 0s 14ms/step - loss: 3.7771 - mae: 3.7771\n",
            "Epoch 36/100\n",
            "1/1 [==============================] - 0s 21ms/step - loss: 3.8869 - mae: 3.8869\n",
            "Epoch 37/100\n",
            "1/1 [==============================] - 0s 19ms/step - loss: 3.7898 - mae: 3.7898\n",
            "Epoch 38/100\n",
            "1/1 [==============================] - 0s 14ms/step - loss: 3.8457 - mae: 3.8457\n",
            "Epoch 39/100\n",
            "1/1 [==============================] - 0s 14ms/step - loss: 3.8261 - mae: 3.8261\n",
            "Epoch 40/100\n",
            "1/1 [==============================] - 0s 15ms/step - loss: 3.7966 - mae: 3.7966\n",
            "Epoch 41/100\n",
            "1/1 [==============================] - 0s 17ms/step - loss: 3.8395 - mae: 3.8395\n",
            "Epoch 42/100\n",
            "1/1 [==============================] - 0s 19ms/step - loss: 3.7484 - mae: 3.7484\n",
            "Epoch 43/100\n",
            "1/1 [==============================] - 0s 19ms/step - loss: 3.8535 - mae: 3.8535\n",
            "Epoch 44/100\n",
            "1/1 [==============================] - 0s 15ms/step - loss: 3.7227 - mae: 3.7227\n",
            "Epoch 45/100\n",
            "1/1 [==============================] - 0s 17ms/step - loss: 3.8401 - mae: 3.8401\n",
            "Epoch 46/100\n",
            "1/1 [==============================] - 0s 15ms/step - loss: 3.7408 - mae: 3.7408\n",
            "Epoch 47/100\n",
            "1/1 [==============================] - 0s 15ms/step - loss: 3.8003 - mae: 3.8003\n",
            "Epoch 48/100\n",
            "1/1 [==============================] - 0s 12ms/step - loss: 3.7776 - mae: 3.7776\n",
            "Epoch 49/100\n",
            "1/1 [==============================] - 0s 32ms/step - loss: 3.7402 - mae: 3.7402\n",
            "Epoch 50/100\n",
            "1/1 [==============================] - 0s 16ms/step - loss: 3.7918 - mae: 3.7918\n",
            "Epoch 51/100\n",
            "1/1 [==============================] - 0s 13ms/step - loss: 3.6899 - mae: 3.6899\n",
            "Epoch 52/100\n",
            "1/1 [==============================] - 0s 22ms/step - loss: 3.8064 - mae: 3.8064\n",
            "Epoch 53/100\n",
            "1/1 [==============================] - 0s 15ms/step - loss: 3.6770 - mae: 3.6770\n",
            "Epoch 54/100\n",
            "1/1 [==============================] - 0s 35ms/step - loss: 3.7784 - mae: 3.7784\n",
            "Epoch 55/100\n",
            "1/1 [==============================] - 0s 28ms/step - loss: 3.6916 - mae: 3.6916\n",
            "Epoch 56/100\n",
            "1/1 [==============================] - 0s 22ms/step - loss: 3.7494 - mae: 3.7494\n",
            "Epoch 57/100\n",
            "1/1 [==============================] - 0s 23ms/step - loss: 3.7291 - mae: 3.7291\n",
            "Epoch 58/100\n",
            "1/1 [==============================] - 0s 22ms/step - loss: 3.6794 - mae: 3.6794\n",
            "Epoch 59/100\n",
            "1/1 [==============================] - 0s 15ms/step - loss: 3.7442 - mae: 3.7442\n",
            "Epoch 60/100\n",
            "1/1 [==============================] - 0s 20ms/step - loss: 3.6265 - mae: 3.6265\n",
            "Epoch 61/100\n",
            "1/1 [==============================] - 0s 21ms/step - loss: 3.7596 - mae: 3.7596\n",
            "Epoch 62/100\n",
            "1/1 [==============================] - 0s 20ms/step - loss: 3.6310 - mae: 3.6310\n",
            "Epoch 63/100\n",
            "1/1 [==============================] - 0s 19ms/step - loss: 3.7138 - mae: 3.7138\n",
            "Epoch 64/100\n",
            "1/1 [==============================] - 0s 12ms/step - loss: 3.6688 - mae: 3.6688\n",
            "Epoch 65/100\n",
            "1/1 [==============================] - 0s 13ms/step - loss: 3.6627 - mae: 3.6627\n",
            "Epoch 66/100\n",
            "1/1 [==============================] - 0s 18ms/step - loss: 3.6844 - mae: 3.6844\n",
            "Epoch 67/100\n",
            "1/1 [==============================] - 0s 15ms/step - loss: 3.6084 - mae: 3.6084\n",
            "Epoch 68/100\n",
            "1/1 [==============================] - 0s 15ms/step - loss: 3.7006 - mae: 3.7006\n",
            "Epoch 69/100\n",
            "1/1 [==============================] - 0s 15ms/step - loss: 3.5743 - mae: 3.5743\n",
            "Epoch 70/100\n",
            "1/1 [==============================] - 0s 17ms/step - loss: 3.6915 - mae: 3.6915\n",
            "Epoch 71/100\n",
            "1/1 [==============================] - 0s 11ms/step - loss: 3.5903 - mae: 3.5903\n",
            "Epoch 72/100\n",
            "1/1 [==============================] - 0s 12ms/step - loss: 3.6415 - mae: 3.6415\n",
            "Epoch 73/100\n",
            "1/1 [==============================] - 0s 15ms/step - loss: 3.6292 - mae: 3.6292\n",
            "Epoch 74/100\n",
            "1/1 [==============================] - 0s 30ms/step - loss: 3.5847 - mae: 3.5847\n",
            "Epoch 75/100\n",
            "1/1 [==============================] - 0s 34ms/step - loss: 3.6462 - mae: 3.6462\n",
            "Epoch 76/100\n",
            "1/1 [==============================] - 0s 19ms/step - loss: 3.5280 - mae: 3.5280\n",
            "Epoch 77/100\n",
            "1/1 [==============================] - 0s 19ms/step - loss: 3.6616 - mae: 3.6616\n",
            "Epoch 78/100\n",
            "1/1 [==============================] - 0s 68ms/step - loss: 3.5339 - mae: 3.5339\n",
            "Epoch 79/100\n",
            "1/1 [==============================] - 0s 38ms/step - loss: 3.6061 - mae: 3.6061\n",
            "Epoch 80/100\n",
            "1/1 [==============================] - 0s 31ms/step - loss: 3.5513 - mae: 3.5513\n",
            "Epoch 81/100\n",
            "1/1 [==============================] - 0s 28ms/step - loss: 3.5542 - mae: 3.5542\n",
            "Epoch 82/100\n",
            "1/1 [==============================] - 0s 19ms/step - loss: 3.5923 - mae: 3.5923\n",
            "Epoch 83/100\n",
            "1/1 [==============================] - 0s 22ms/step - loss: 3.4944 - mae: 3.4944\n",
            "Epoch 84/100\n",
            "1/1 [==============================] - 0s 18ms/step - loss: 3.6104 - mae: 3.6104\n",
            "Epoch 85/100\n",
            "1/1 [==============================] - 0s 14ms/step - loss: 3.4854 - mae: 3.4854\n",
            "Epoch 86/100\n",
            "1/1 [==============================] - 0s 21ms/step - loss: 3.5732 - mae: 3.5732\n",
            "Epoch 87/100\n",
            "1/1 [==============================] - 0s 27ms/step - loss: 3.5031 - mae: 3.5031\n",
            "Epoch 88/100\n",
            "1/1 [==============================] - 0s 24ms/step - loss: 3.5140 - mae: 3.5140\n",
            "Epoch 89/100\n",
            "1/1 [==============================] - 0s 39ms/step - loss: 3.5216 - mae: 3.5216\n",
            "Epoch 90/100\n",
            "1/1 [==============================] - 0s 30ms/step - loss: 3.4585 - mae: 3.4585\n",
            "Epoch 91/100\n",
            "1/1 [==============================] - 0s 27ms/step - loss: 3.5640 - mae: 3.5640\n",
            "Epoch 92/100\n",
            "1/1 [==============================] - 0s 21ms/step - loss: 3.4400 - mae: 3.4400\n",
            "Epoch 93/100\n",
            "1/1 [==============================] - 0s 17ms/step - loss: 3.5353 - mae: 3.5353\n",
            "Epoch 94/100\n",
            "1/1 [==============================] - 0s 14ms/step - loss: 3.4581 - mae: 3.4581\n",
            "Epoch 95/100\n",
            "1/1 [==============================] - 0s 40ms/step - loss: 3.4743 - mae: 3.4743\n",
            "Epoch 96/100\n",
            "1/1 [==============================] - 0s 27ms/step - loss: 3.4770 - mae: 3.4770\n",
            "Epoch 97/100\n",
            "1/1 [==============================] - 0s 26ms/step - loss: 3.4121 - mae: 3.4121\n",
            "Epoch 98/100\n",
            "1/1 [==============================] - 0s 18ms/step - loss: 3.4967 - mae: 3.4967\n",
            "Epoch 99/100\n",
            "1/1 [==============================] - 0s 34ms/step - loss: 3.3774 - mae: 3.3774\n",
            "Epoch 100/100\n",
            "1/1 [==============================] - 0s 39ms/step - loss: 3.4906 - mae: 3.4906\n"
          ]
        },
        {
          "output_type": "execute_result",
          "data": {
            "text/plain": [
              "<keras.src.callbacks.History at 0x7af16808d540>"
            ]
          },
          "metadata": {},
          "execution_count": 10
        }
      ]
    },
    {
      "cell_type": "code",
      "source": [
        "model.predict([17.0])"
      ],
      "metadata": {
        "id": "76mq-VcoBjpY",
        "colab": {
          "base_uri": "https://localhost:8080/"
        },
        "outputId": "10e8daba-352b-49be-d264-fa365e1a3984"
      },
      "execution_count": null,
      "outputs": [
        {
          "output_type": "stream",
          "name": "stdout",
          "text": [
            "1/1 [==============================] - 0s 220ms/step\n"
          ]
        },
        {
          "output_type": "execute_result",
          "data": {
            "text/plain": [
              "array([[32.259968]], dtype=float32)"
            ]
          },
          "metadata": {},
          "execution_count": 11
        }
      ]
    },
    {
      "cell_type": "code",
      "source": [
        "# Let's rebuild out data\n",
        "\n",
        "# Create a model using the Sequential API\n",
        "model = tf.keras.Sequential([\n",
        "  tf.keras.layers.Dense(100,activation='relu'),\n",
        "  tf.keras.layers.Dense(50,activation='relu'),\n",
        "  tf.keras.layers.Dense(1)\n",
        "])\n",
        "\n",
        "# Compile the model\n",
        "model.compile(loss=\"mae\", # mae is short for mean absolute error\n",
        "              optimizer=tf.keras.optimizers.Adam(),\n",
        "              metrics=[\"mae\"])\n",
        "\n",
        "# Fit the model\n",
        "# model.fit(X, y, epochs=5) # this will break with TensorFlow 2.7.0+\n",
        "model.fit(tf.expand_dims(X, axis=-1), y, epochs=100)"
      ],
      "metadata": {
        "id": "cLTqWWgMBlnU",
        "colab": {
          "base_uri": "https://localhost:8080/"
        },
        "outputId": "e4a08977-6534-4994-b5f0-30df6cf19223"
      },
      "execution_count": null,
      "outputs": [
        {
          "output_type": "stream",
          "name": "stdout",
          "text": [
            "Epoch 1/100\n",
            "1/1 [==============================] - 2s 2s/step - loss: 13.1529 - mae: 13.1529\n",
            "Epoch 2/100\n",
            "1/1 [==============================] - 0s 16ms/step - loss: 12.9183 - mae: 12.9183\n",
            "Epoch 3/100\n",
            "1/1 [==============================] - 0s 14ms/step - loss: 12.6872 - mae: 12.6872\n",
            "Epoch 4/100\n",
            "1/1 [==============================] - 0s 17ms/step - loss: 12.4605 - mae: 12.4605\n",
            "Epoch 5/100\n",
            "1/1 [==============================] - 0s 16ms/step - loss: 12.2403 - mae: 12.2403\n",
            "Epoch 6/100\n",
            "1/1 [==============================] - 0s 30ms/step - loss: 12.0206 - mae: 12.0206\n",
            "Epoch 7/100\n",
            "1/1 [==============================] - 0s 23ms/step - loss: 11.8001 - mae: 11.8001\n",
            "Epoch 8/100\n",
            "1/1 [==============================] - 0s 18ms/step - loss: 11.5799 - mae: 11.5799\n",
            "Epoch 9/100\n",
            "1/1 [==============================] - 0s 23ms/step - loss: 11.3595 - mae: 11.3595\n",
            "Epoch 10/100\n",
            "1/1 [==============================] - 0s 19ms/step - loss: 11.1396 - mae: 11.1396\n",
            "Epoch 11/100\n",
            "1/1 [==============================] - 0s 28ms/step - loss: 10.9316 - mae: 10.9316\n",
            "Epoch 12/100\n",
            "1/1 [==============================] - 0s 21ms/step - loss: 10.7293 - mae: 10.7293\n",
            "Epoch 13/100\n",
            "1/1 [==============================] - 0s 26ms/step - loss: 10.5275 - mae: 10.5275\n",
            "Epoch 14/100\n",
            "1/1 [==============================] - 0s 15ms/step - loss: 10.3352 - mae: 10.3352\n",
            "Epoch 15/100\n",
            "1/1 [==============================] - 0s 16ms/step - loss: 10.1851 - mae: 10.1851\n",
            "Epoch 16/100\n",
            "1/1 [==============================] - 0s 15ms/step - loss: 10.0319 - mae: 10.0319\n",
            "Epoch 17/100\n",
            "1/1 [==============================] - 0s 50ms/step - loss: 9.8757 - mae: 9.8757\n",
            "Epoch 18/100\n",
            "1/1 [==============================] - 0s 18ms/step - loss: 9.7168 - mae: 9.7168\n",
            "Epoch 19/100\n",
            "1/1 [==============================] - 0s 19ms/step - loss: 9.5603 - mae: 9.5603\n",
            "Epoch 20/100\n",
            "1/1 [==============================] - 0s 17ms/step - loss: 9.3998 - mae: 9.3998\n",
            "Epoch 21/100\n",
            "1/1 [==============================] - 0s 24ms/step - loss: 9.2367 - mae: 9.2367\n",
            "Epoch 22/100\n",
            "1/1 [==============================] - 0s 21ms/step - loss: 9.0700 - mae: 9.0700\n",
            "Epoch 23/100\n",
            "1/1 [==============================] - 0s 16ms/step - loss: 8.9016 - mae: 8.9016\n",
            "Epoch 24/100\n",
            "1/1 [==============================] - 0s 17ms/step - loss: 8.7335 - mae: 8.7335\n",
            "Epoch 25/100\n",
            "1/1 [==============================] - 0s 28ms/step - loss: 8.5613 - mae: 8.5613\n",
            "Epoch 26/100\n",
            "1/1 [==============================] - 0s 18ms/step - loss: 8.3888 - mae: 8.3888\n",
            "Epoch 27/100\n",
            "1/1 [==============================] - 0s 18ms/step - loss: 8.2133 - mae: 8.2133\n",
            "Epoch 28/100\n",
            "1/1 [==============================] - 0s 20ms/step - loss: 8.0341 - mae: 8.0341\n",
            "Epoch 29/100\n",
            "1/1 [==============================] - 0s 14ms/step - loss: 7.8565 - mae: 7.8565\n",
            "Epoch 30/100\n",
            "1/1 [==============================] - 0s 17ms/step - loss: 7.6771 - mae: 7.6771\n",
            "Epoch 31/100\n",
            "1/1 [==============================] - 0s 15ms/step - loss: 7.4933 - mae: 7.4933\n",
            "Epoch 32/100\n",
            "1/1 [==============================] - 0s 16ms/step - loss: 7.3043 - mae: 7.3043\n",
            "Epoch 33/100\n",
            "1/1 [==============================] - 0s 18ms/step - loss: 7.1125 - mae: 7.1125\n",
            "Epoch 34/100\n",
            "1/1 [==============================] - 0s 24ms/step - loss: 6.9160 - mae: 6.9160\n",
            "Epoch 35/100\n",
            "1/1 [==============================] - 0s 16ms/step - loss: 6.7142 - mae: 6.7142\n",
            "Epoch 36/100\n",
            "1/1 [==============================] - 0s 21ms/step - loss: 6.5082 - mae: 6.5082\n",
            "Epoch 37/100\n",
            "1/1 [==============================] - 0s 17ms/step - loss: 6.2972 - mae: 6.2972\n",
            "Epoch 38/100\n",
            "1/1 [==============================] - 0s 25ms/step - loss: 6.0809 - mae: 6.0809\n",
            "Epoch 39/100\n",
            "1/1 [==============================] - 0s 17ms/step - loss: 5.8592 - mae: 5.8592\n",
            "Epoch 40/100\n",
            "1/1 [==============================] - 0s 17ms/step - loss: 5.6325 - mae: 5.6325\n",
            "Epoch 41/100\n",
            "1/1 [==============================] - 0s 16ms/step - loss: 5.4003 - mae: 5.4003\n",
            "Epoch 42/100\n",
            "1/1 [==============================] - 0s 17ms/step - loss: 5.1627 - mae: 5.1627\n",
            "Epoch 43/100\n",
            "1/1 [==============================] - 0s 21ms/step - loss: 4.9219 - mae: 4.9219\n",
            "Epoch 44/100\n",
            "1/1 [==============================] - 0s 17ms/step - loss: 4.6758 - mae: 4.6758\n",
            "Epoch 45/100\n",
            "1/1 [==============================] - 0s 22ms/step - loss: 4.4250 - mae: 4.4250\n",
            "Epoch 46/100\n",
            "1/1 [==============================] - 0s 12ms/step - loss: 4.1675 - mae: 4.1675\n",
            "Epoch 47/100\n",
            "1/1 [==============================] - 0s 10ms/step - loss: 4.0458 - mae: 4.0458\n",
            "Epoch 48/100\n",
            "1/1 [==============================] - 0s 19ms/step - loss: 3.9633 - mae: 3.9633\n",
            "Epoch 49/100\n",
            "1/1 [==============================] - 0s 19ms/step - loss: 3.8838 - mae: 3.8838\n",
            "Epoch 50/100\n",
            "1/1 [==============================] - 0s 12ms/step - loss: 3.8069 - mae: 3.8069\n",
            "Epoch 51/100\n",
            "1/1 [==============================] - 0s 18ms/step - loss: 3.8534 - mae: 3.8534\n",
            "Epoch 52/100\n",
            "1/1 [==============================] - 0s 13ms/step - loss: 3.8945 - mae: 3.8945\n",
            "Epoch 53/100\n",
            "1/1 [==============================] - 0s 15ms/step - loss: 3.9295 - mae: 3.9295\n",
            "Epoch 54/100\n",
            "1/1 [==============================] - 0s 12ms/step - loss: 3.9588 - mae: 3.9588\n",
            "Epoch 55/100\n",
            "1/1 [==============================] - 0s 17ms/step - loss: 3.9829 - mae: 3.9829\n",
            "Epoch 56/100\n",
            "1/1 [==============================] - 0s 17ms/step - loss: 4.0023 - mae: 4.0023\n",
            "Epoch 57/100\n",
            "1/1 [==============================] - 0s 28ms/step - loss: 4.0174 - mae: 4.0174\n",
            "Epoch 58/100\n",
            "1/1 [==============================] - 0s 16ms/step - loss: 4.0284 - mae: 4.0284\n",
            "Epoch 59/100\n",
            "1/1 [==============================] - 0s 17ms/step - loss: 4.0358 - mae: 4.0358\n",
            "Epoch 60/100\n",
            "1/1 [==============================] - 0s 18ms/step - loss: 4.0393 - mae: 4.0393\n",
            "Epoch 61/100\n",
            "1/1 [==============================] - 0s 19ms/step - loss: 4.0397 - mae: 4.0397\n",
            "Epoch 62/100\n",
            "1/1 [==============================] - 0s 23ms/step - loss: 4.0373 - mae: 4.0373\n",
            "Epoch 63/100\n",
            "1/1 [==============================] - 0s 22ms/step - loss: 4.0322 - mae: 4.0322\n",
            "Epoch 64/100\n",
            "1/1 [==============================] - 0s 31ms/step - loss: 4.0247 - mae: 4.0247\n",
            "Epoch 65/100\n",
            "1/1 [==============================] - 0s 25ms/step - loss: 4.0151 - mae: 4.0151\n",
            "Epoch 66/100\n",
            "1/1 [==============================] - 0s 24ms/step - loss: 4.0033 - mae: 4.0033\n",
            "Epoch 67/100\n",
            "1/1 [==============================] - 0s 17ms/step - loss: 3.9895 - mae: 3.9895\n",
            "Epoch 68/100\n",
            "1/1 [==============================] - 0s 17ms/step - loss: 3.9886 - mae: 3.9886\n",
            "Epoch 69/100\n",
            "1/1 [==============================] - 0s 22ms/step - loss: 3.9713 - mae: 3.9713\n",
            "Epoch 70/100\n",
            "1/1 [==============================] - 0s 41ms/step - loss: 3.9443 - mae: 3.9443\n",
            "Epoch 71/100\n",
            "1/1 [==============================] - 0s 23ms/step - loss: 3.9288 - mae: 3.9288\n",
            "Epoch 72/100\n",
            "1/1 [==============================] - 0s 22ms/step - loss: 3.9120 - mae: 3.9120\n",
            "Epoch 73/100\n",
            "1/1 [==============================] - 0s 27ms/step - loss: 3.8938 - mae: 3.8938\n",
            "Epoch 74/100\n",
            "1/1 [==============================] - 0s 17ms/step - loss: 3.8744 - mae: 3.8744\n",
            "Epoch 75/100\n",
            "1/1 [==============================] - 0s 15ms/step - loss: 3.8539 - mae: 3.8539\n",
            "Epoch 76/100\n",
            "1/1 [==============================] - 0s 14ms/step - loss: 3.8325 - mae: 3.8325\n",
            "Epoch 77/100\n",
            "1/1 [==============================] - 0s 15ms/step - loss: 3.8100 - mae: 3.8100\n",
            "Epoch 78/100\n",
            "1/1 [==============================] - 0s 12ms/step - loss: 3.7868 - mae: 3.7868\n",
            "Epoch 79/100\n",
            "1/1 [==============================] - 0s 16ms/step - loss: 3.7630 - mae: 3.7630\n",
            "Epoch 80/100\n",
            "1/1 [==============================] - 0s 18ms/step - loss: 3.7387 - mae: 3.7387\n",
            "Epoch 81/100\n",
            "1/1 [==============================] - 0s 18ms/step - loss: 3.7141 - mae: 3.7141\n",
            "Epoch 82/100\n",
            "1/1 [==============================] - 0s 16ms/step - loss: 3.6945 - mae: 3.6945\n",
            "Epoch 83/100\n",
            "1/1 [==============================] - 0s 22ms/step - loss: 3.6658 - mae: 3.6658\n",
            "Epoch 84/100\n",
            "1/1 [==============================] - 0s 17ms/step - loss: 3.6652 - mae: 3.6652\n",
            "Epoch 85/100\n",
            "1/1 [==============================] - 0s 19ms/step - loss: 3.6809 - mae: 3.6809\n",
            "Epoch 86/100\n",
            "1/1 [==============================] - 0s 15ms/step - loss: 3.6890 - mae: 3.6890\n",
            "Epoch 87/100\n",
            "1/1 [==============================] - 0s 14ms/step - loss: 3.6935 - mae: 3.6935\n",
            "Epoch 88/100\n",
            "1/1 [==============================] - 0s 12ms/step - loss: 3.6900 - mae: 3.6900\n",
            "Epoch 89/100\n",
            "1/1 [==============================] - 0s 28ms/step - loss: 3.6838 - mae: 3.6838\n",
            "Epoch 90/100\n",
            "1/1 [==============================] - 0s 13ms/step - loss: 3.6728 - mae: 3.6728\n",
            "Epoch 91/100\n",
            "1/1 [==============================] - 0s 14ms/step - loss: 3.6575 - mae: 3.6575\n",
            "Epoch 92/100\n",
            "1/1 [==============================] - 0s 16ms/step - loss: 3.6382 - mae: 3.6382\n",
            "Epoch 93/100\n",
            "1/1 [==============================] - 0s 13ms/step - loss: 3.6152 - mae: 3.6152\n",
            "Epoch 94/100\n",
            "1/1 [==============================] - 0s 16ms/step - loss: 3.6159 - mae: 3.6159\n",
            "Epoch 95/100\n",
            "1/1 [==============================] - 0s 17ms/step - loss: 3.6214 - mae: 3.6214\n",
            "Epoch 96/100\n",
            "1/1 [==============================] - 0s 15ms/step - loss: 3.6228 - mae: 3.6228\n",
            "Epoch 97/100\n",
            "1/1 [==============================] - 0s 22ms/step - loss: 3.6208 - mae: 3.6208\n",
            "Epoch 98/100\n",
            "1/1 [==============================] - 0s 15ms/step - loss: 3.6212 - mae: 3.6212\n",
            "Epoch 99/100\n",
            "1/1 [==============================] - 0s 31ms/step - loss: 3.6050 - mae: 3.6050\n",
            "Epoch 100/100\n",
            "1/1 [==============================] - 0s 22ms/step - loss: 3.5972 - mae: 3.5972\n"
          ]
        },
        {
          "output_type": "execute_result",
          "data": {
            "text/plain": [
              "<keras.src.callbacks.History at 0x7af16816fdc0>"
            ]
          },
          "metadata": {},
          "execution_count": 12
        }
      ]
    },
    {
      "cell_type": "code",
      "source": [
        "model.predict([17.0])"
      ],
      "metadata": {
        "id": "jZ_MtlhwByzp",
        "colab": {
          "base_uri": "https://localhost:8080/"
        },
        "outputId": "111eaabd-3cc8-4183-89fd-88134ecead78"
      },
      "execution_count": null,
      "outputs": [
        {
          "output_type": "stream",
          "name": "stderr",
          "text": [
            "WARNING:tensorflow:5 out of the last 5 calls to <function Model.make_predict_function.<locals>.predict_function at 0x7af1687077f0> triggered tf.function retracing. Tracing is expensive and the excessive number of tracings could be due to (1) creating @tf.function repeatedly in a loop, (2) passing tensors with different shapes, (3) passing Python objects instead of tensors. For (1), please define your @tf.function outside of the loop. For (2), @tf.function has reduce_retracing=True option that can avoid unnecessary retracing. For (3), please refer to https://www.tensorflow.org/guide/function#controlling_retracing and https://www.tensorflow.org/api_docs/python/tf/function for  more details.\n"
          ]
        },
        {
          "output_type": "stream",
          "name": "stdout",
          "text": [
            "1/1 [==============================] - 0s 113ms/step\n"
          ]
        },
        {
          "output_type": "execute_result",
          "data": {
            "text/plain": [
              "array([[32.22884]], dtype=float32)"
            ]
          },
          "metadata": {},
          "execution_count": 13
        }
      ]
    },
    {
      "cell_type": "code",
      "source": [
        "# Let's rebuild out data\n",
        "\n",
        "# Create a model using the Sequential API\n",
        "model = tf.keras.Sequential([\n",
        "  tf.keras.layers.Dense(100,activation='relu'),\n",
        "  tf.keras.layers.Dense(50,activation='relu'),\n",
        "  tf.keras.layers.Dense(1)\n",
        "])\n",
        "\n",
        "# Compile the model\n",
        "model.compile(loss=\"mae\", # mae is short for mean absolute error\n",
        "              optimizer=tf.keras.optimizers.Adam(lr=0.01), # SGD is short for stochastic gradient descent\n",
        "              metrics=[\"mae\"])\n",
        "\n",
        "# Fit the model\n",
        "# model.fit(X, y, epochs=5) # this will break with TensorFlow 2.7.0+\n",
        "model.fit(tf.expand_dims(X, axis=-1), y, epochs=100)"
      ],
      "metadata": {
        "id": "mvhezVM_B1b2",
        "colab": {
          "base_uri": "https://localhost:8080/"
        },
        "outputId": "2244bdac-0c8f-419d-b4e4-7374ae3b4d4a"
      },
      "execution_count": null,
      "outputs": [
        {
          "output_type": "stream",
          "name": "stderr",
          "text": [
            "WARNING:absl:`lr` is deprecated in Keras optimizer, please use `learning_rate` or use the legacy optimizer, e.g.,tf.keras.optimizers.legacy.Adam.\n"
          ]
        },
        {
          "output_type": "stream",
          "name": "stdout",
          "text": [
            "Epoch 1/100\n",
            "1/1 [==============================] - 2s 2s/step - loss: 13.9197 - mae: 13.9197\n",
            "Epoch 2/100\n",
            "1/1 [==============================] - 0s 20ms/step - loss: 13.7172 - mae: 13.7172\n",
            "Epoch 3/100\n",
            "1/1 [==============================] - 0s 22ms/step - loss: 13.5188 - mae: 13.5188\n",
            "Epoch 4/100\n",
            "1/1 [==============================] - 0s 18ms/step - loss: 13.3284 - mae: 13.3284\n",
            "Epoch 5/100\n",
            "1/1 [==============================] - 0s 18ms/step - loss: 13.1408 - mae: 13.1408\n",
            "Epoch 6/100\n",
            "1/1 [==============================] - 0s 16ms/step - loss: 12.9585 - mae: 12.9585\n",
            "Epoch 7/100\n",
            "1/1 [==============================] - 0s 16ms/step - loss: 12.7783 - mae: 12.7783\n",
            "Epoch 8/100\n",
            "1/1 [==============================] - 0s 28ms/step - loss: 12.5999 - mae: 12.5999\n",
            "Epoch 9/100\n",
            "1/1 [==============================] - 0s 52ms/step - loss: 12.4206 - mae: 12.4206\n",
            "Epoch 10/100\n",
            "1/1 [==============================] - 0s 29ms/step - loss: 12.2437 - mae: 12.2437\n",
            "Epoch 11/100\n",
            "1/1 [==============================] - 0s 30ms/step - loss: 12.0686 - mae: 12.0686\n",
            "Epoch 12/100\n",
            "1/1 [==============================] - 0s 24ms/step - loss: 11.8923 - mae: 11.8923\n",
            "Epoch 13/100\n",
            "1/1 [==============================] - 0s 20ms/step - loss: 11.7142 - mae: 11.7142\n",
            "Epoch 14/100\n",
            "1/1 [==============================] - 0s 21ms/step - loss: 11.5427 - mae: 11.5427\n",
            "Epoch 15/100\n",
            "1/1 [==============================] - 0s 22ms/step - loss: 11.3886 - mae: 11.3886\n",
            "Epoch 16/100\n",
            "1/1 [==============================] - 0s 31ms/step - loss: 11.2699 - mae: 11.2699\n",
            "Epoch 17/100\n",
            "1/1 [==============================] - 0s 39ms/step - loss: 11.1495 - mae: 11.1495\n",
            "Epoch 18/100\n",
            "1/1 [==============================] - 0s 26ms/step - loss: 11.0261 - mae: 11.0261\n",
            "Epoch 19/100\n",
            "1/1 [==============================] - 0s 31ms/step - loss: 10.8997 - mae: 10.8997\n",
            "Epoch 20/100\n",
            "1/1 [==============================] - 0s 24ms/step - loss: 10.7707 - mae: 10.7707\n",
            "Epoch 21/100\n",
            "1/1 [==============================] - 0s 29ms/step - loss: 10.6387 - mae: 10.6387\n",
            "Epoch 22/100\n",
            "1/1 [==============================] - 0s 27ms/step - loss: 10.5109 - mae: 10.5109\n",
            "Epoch 23/100\n",
            "1/1 [==============================] - 0s 34ms/step - loss: 10.3829 - mae: 10.3829\n",
            "Epoch 24/100\n",
            "1/1 [==============================] - 0s 26ms/step - loss: 10.2515 - mae: 10.2515\n",
            "Epoch 25/100\n",
            "1/1 [==============================] - 0s 38ms/step - loss: 10.1188 - mae: 10.1188\n",
            "Epoch 26/100\n",
            "1/1 [==============================] - 0s 27ms/step - loss: 9.9906 - mae: 9.9906\n",
            "Epoch 27/100\n",
            "1/1 [==============================] - 0s 22ms/step - loss: 9.8594 - mae: 9.8594\n",
            "Epoch 28/100\n",
            "1/1 [==============================] - 0s 31ms/step - loss: 9.7243 - mae: 9.7243\n",
            "Epoch 29/100\n",
            "1/1 [==============================] - 0s 24ms/step - loss: 9.5854 - mae: 9.5854\n",
            "Epoch 30/100\n",
            "1/1 [==============================] - 0s 20ms/step - loss: 9.4424 - mae: 9.4424\n",
            "Epoch 31/100\n",
            "1/1 [==============================] - 0s 20ms/step - loss: 9.2948 - mae: 9.2948\n",
            "Epoch 32/100\n",
            "1/1 [==============================] - 0s 33ms/step - loss: 9.1444 - mae: 9.1444\n",
            "Epoch 33/100\n",
            "1/1 [==============================] - 0s 20ms/step - loss: 8.9896 - mae: 8.9896\n",
            "Epoch 34/100\n",
            "1/1 [==============================] - 0s 33ms/step - loss: 8.8303 - mae: 8.8303\n",
            "Epoch 35/100\n",
            "1/1 [==============================] - 0s 26ms/step - loss: 8.6664 - mae: 8.6664\n",
            "Epoch 36/100\n",
            "1/1 [==============================] - 0s 23ms/step - loss: 8.4977 - mae: 8.4977\n",
            "Epoch 37/100\n",
            "1/1 [==============================] - 0s 33ms/step - loss: 8.3242 - mae: 8.3242\n",
            "Epoch 38/100\n",
            "1/1 [==============================] - 0s 24ms/step - loss: 8.1456 - mae: 8.1456\n",
            "Epoch 39/100\n",
            "1/1 [==============================] - 0s 28ms/step - loss: 7.9615 - mae: 7.9615\n",
            "Epoch 40/100\n",
            "1/1 [==============================] - 0s 20ms/step - loss: 7.7715 - mae: 7.7715\n",
            "Epoch 41/100\n",
            "1/1 [==============================] - 0s 24ms/step - loss: 7.5725 - mae: 7.5725\n",
            "Epoch 42/100\n",
            "1/1 [==============================] - 0s 37ms/step - loss: 7.3606 - mae: 7.3606\n",
            "Epoch 43/100\n",
            "1/1 [==============================] - 0s 22ms/step - loss: 7.1392 - mae: 7.1392\n",
            "Epoch 44/100\n",
            "1/1 [==============================] - 0s 31ms/step - loss: 6.9093 - mae: 6.9093\n",
            "Epoch 45/100\n",
            "1/1 [==============================] - 0s 20ms/step - loss: 6.6723 - mae: 6.6723\n",
            "Epoch 46/100\n",
            "1/1 [==============================] - 0s 19ms/step - loss: 6.4277 - mae: 6.4277\n",
            "Epoch 47/100\n",
            "1/1 [==============================] - 0s 24ms/step - loss: 6.1756 - mae: 6.1756\n",
            "Epoch 48/100\n",
            "1/1 [==============================] - 0s 25ms/step - loss: 5.9156 - mae: 5.9156\n",
            "Epoch 49/100\n",
            "1/1 [==============================] - 0s 28ms/step - loss: 5.6488 - mae: 5.6488\n",
            "Epoch 50/100\n",
            "1/1 [==============================] - 0s 13ms/step - loss: 5.3784 - mae: 5.3784\n",
            "Epoch 51/100\n",
            "1/1 [==============================] - 0s 29ms/step - loss: 5.1000 - mae: 5.1000\n",
            "Epoch 52/100\n",
            "1/1 [==============================] - 0s 24ms/step - loss: 4.8133 - mae: 4.8133\n",
            "Epoch 53/100\n",
            "1/1 [==============================] - 0s 37ms/step - loss: 4.5180 - mae: 4.5180\n",
            "Epoch 54/100\n",
            "1/1 [==============================] - 0s 27ms/step - loss: 4.2144 - mae: 4.2144\n",
            "Epoch 55/100\n",
            "1/1 [==============================] - 0s 28ms/step - loss: 4.0166 - mae: 4.0166\n",
            "Epoch 56/100\n",
            "1/1 [==============================] - 0s 29ms/step - loss: 3.9181 - mae: 3.9181\n",
            "Epoch 57/100\n",
            "1/1 [==============================] - 0s 32ms/step - loss: 3.8228 - mae: 3.8228\n",
            "Epoch 58/100\n",
            "1/1 [==============================] - 0s 36ms/step - loss: 3.7907 - mae: 3.7907\n",
            "Epoch 59/100\n",
            "1/1 [==============================] - 0s 26ms/step - loss: 3.8418 - mae: 3.8418\n",
            "Epoch 60/100\n",
            "1/1 [==============================] - 0s 43ms/step - loss: 3.8848 - mae: 3.8848\n",
            "Epoch 61/100\n",
            "1/1 [==============================] - 0s 21ms/step - loss: 3.9213 - mae: 3.9213\n",
            "Epoch 62/100\n",
            "1/1 [==============================] - 0s 27ms/step - loss: 3.9527 - mae: 3.9527\n",
            "Epoch 63/100\n",
            "1/1 [==============================] - 0s 17ms/step - loss: 3.9775 - mae: 3.9775\n",
            "Epoch 64/100\n",
            "1/1 [==============================] - 0s 16ms/step - loss: 3.9960 - mae: 3.9960\n",
            "Epoch 65/100\n",
            "1/1 [==============================] - 0s 20ms/step - loss: 4.0102 - mae: 4.0102\n",
            "Epoch 66/100\n",
            "1/1 [==============================] - 0s 19ms/step - loss: 4.0200 - mae: 4.0200\n",
            "Epoch 67/100\n",
            "1/1 [==============================] - 0s 20ms/step - loss: 4.0251 - mae: 4.0251\n",
            "Epoch 68/100\n",
            "1/1 [==============================] - 0s 57ms/step - loss: 4.0257 - mae: 4.0257\n",
            "Epoch 69/100\n",
            "1/1 [==============================] - 0s 50ms/step - loss: 4.0227 - mae: 4.0227\n",
            "Epoch 70/100\n",
            "1/1 [==============================] - 0s 42ms/step - loss: 4.0171 - mae: 4.0171\n",
            "Epoch 71/100\n",
            "1/1 [==============================] - 0s 41ms/step - loss: 4.0078 - mae: 4.0078\n",
            "Epoch 72/100\n",
            "1/1 [==============================] - 0s 33ms/step - loss: 3.9972 - mae: 3.9972\n",
            "Epoch 73/100\n",
            "1/1 [==============================] - 0s 40ms/step - loss: 3.9879 - mae: 3.9879\n",
            "Epoch 74/100\n",
            "1/1 [==============================] - 0s 45ms/step - loss: 3.9721 - mae: 3.9721\n",
            "Epoch 75/100\n",
            "1/1 [==============================] - 0s 31ms/step - loss: 3.9566 - mae: 3.9566\n",
            "Epoch 76/100\n",
            "1/1 [==============================] - 0s 44ms/step - loss: 3.9400 - mae: 3.9400\n",
            "Epoch 77/100\n",
            "1/1 [==============================] - 0s 38ms/step - loss: 3.9215 - mae: 3.9215\n",
            "Epoch 78/100\n",
            "1/1 [==============================] - 0s 41ms/step - loss: 3.9013 - mae: 3.9013\n",
            "Epoch 79/100\n",
            "1/1 [==============================] - 0s 44ms/step - loss: 3.8798 - mae: 3.8798\n",
            "Epoch 80/100\n",
            "1/1 [==============================] - 0s 40ms/step - loss: 3.8567 - mae: 3.8567\n",
            "Epoch 81/100\n",
            "1/1 [==============================] - 0s 49ms/step - loss: 3.8325 - mae: 3.8325\n",
            "Epoch 82/100\n",
            "1/1 [==============================] - 0s 51ms/step - loss: 3.8076 - mae: 3.8076\n",
            "Epoch 83/100\n",
            "1/1 [==============================] - 0s 38ms/step - loss: 3.7817 - mae: 3.7817\n",
            "Epoch 84/100\n",
            "1/1 [==============================] - 0s 51ms/step - loss: 3.7620 - mae: 3.7620\n",
            "Epoch 85/100\n",
            "1/1 [==============================] - 0s 22ms/step - loss: 3.7302 - mae: 3.7302\n",
            "Epoch 86/100\n",
            "1/1 [==============================] - 0s 22ms/step - loss: 3.7044 - mae: 3.7044\n",
            "Epoch 87/100\n",
            "1/1 [==============================] - 0s 21ms/step - loss: 3.6780 - mae: 3.6780\n",
            "Epoch 88/100\n",
            "1/1 [==============================] - 0s 19ms/step - loss: 3.6512 - mae: 3.6512\n",
            "Epoch 89/100\n",
            "1/1 [==============================] - 0s 20ms/step - loss: 3.6237 - mae: 3.6237\n",
            "Epoch 90/100\n",
            "1/1 [==============================] - 0s 23ms/step - loss: 3.6250 - mae: 3.6250\n",
            "Epoch 91/100\n",
            "1/1 [==============================] - 0s 21ms/step - loss: 3.6439 - mae: 3.6439\n",
            "Epoch 92/100\n",
            "1/1 [==============================] - 0s 21ms/step - loss: 3.6549 - mae: 3.6549\n",
            "Epoch 93/100\n",
            "1/1 [==============================] - 0s 24ms/step - loss: 3.6593 - mae: 3.6593\n",
            "Epoch 94/100\n",
            "1/1 [==============================] - 0s 21ms/step - loss: 3.6567 - mae: 3.6567\n",
            "Epoch 95/100\n",
            "1/1 [==============================] - 0s 22ms/step - loss: 3.6477 - mae: 3.6477\n",
            "Epoch 96/100\n",
            "1/1 [==============================] - 0s 40ms/step - loss: 3.6328 - mae: 3.6328\n",
            "Epoch 97/100\n",
            "1/1 [==============================] - 0s 33ms/step - loss: 3.6121 - mae: 3.6121\n",
            "Epoch 98/100\n",
            "1/1 [==============================] - 0s 29ms/step - loss: 3.5877 - mae: 3.5877\n",
            "Epoch 99/100\n",
            "1/1 [==============================] - 0s 29ms/step - loss: 3.5604 - mae: 3.5604\n",
            "Epoch 100/100\n",
            "1/1 [==============================] - 0s 27ms/step - loss: 3.5654 - mae: 3.5654\n"
          ]
        },
        {
          "output_type": "execute_result",
          "data": {
            "text/plain": [
              "<keras.src.callbacks.History at 0x7af159e3a6e0>"
            ]
          },
          "metadata": {},
          "execution_count": 14
        }
      ]
    },
    {
      "cell_type": "code",
      "source": [
        "model.predict([17.0])"
      ],
      "metadata": {
        "id": "5il1iGmNCNwQ",
        "colab": {
          "base_uri": "https://localhost:8080/"
        },
        "outputId": "5843acd4-36c6-4ac7-d770-8cd8d2c64d29"
      },
      "execution_count": null,
      "outputs": [
        {
          "output_type": "stream",
          "name": "stderr",
          "text": [
            "WARNING:tensorflow:6 out of the last 6 calls to <function Model.make_predict_function.<locals>.predict_function at 0x7af159e216c0> triggered tf.function retracing. Tracing is expensive and the excessive number of tracings could be due to (1) creating @tf.function repeatedly in a loop, (2) passing tensors with different shapes, (3) passing Python objects instead of tensors. For (1), please define your @tf.function outside of the loop. For (2), @tf.function has reduce_retracing=True option that can avoid unnecessary retracing. For (3), please refer to https://www.tensorflow.org/guide/function#controlling_retracing and https://www.tensorflow.org/api_docs/python/tf/function for  more details.\n"
          ]
        },
        {
          "output_type": "stream",
          "name": "stdout",
          "text": [
            "1/1 [==============================] - 0s 150ms/step\n"
          ]
        },
        {
          "output_type": "execute_result",
          "data": {
            "text/plain": [
              "array([[32.05278]], dtype=float32)"
            ]
          },
          "metadata": {},
          "execution_count": 15
        }
      ]
    },
    {
      "cell_type": "markdown",
      "source": [
        "## Evaulating the model\n",
        "\n",
        "In practive, a typical workflow you'll go through when building neural networks is:\n",
        "\n",
        "Build a model -> fit it -> evaulate it -> tweak it -> fit it -> evaulate it -> tweak it -> ......."
      ],
      "metadata": {
        "id": "Q4ZD03zDCQ5C"
      }
    },
    {
      "cell_type": "markdown",
      "source": [
        "When it comes to evaluation .... there are 3 words you should memorize:\n",
        "\n",
        "Visualize, visualize, visulize"
      ],
      "metadata": {
        "id": "fdrFrRIQ-HvI"
      }
    },
    {
      "cell_type": "code",
      "source": [
        "X = tf.range(-100, 100, 4)\n",
        "X"
      ],
      "metadata": {
        "id": "HGddx-GO-THv",
        "colab": {
          "base_uri": "https://localhost:8080/"
        },
        "outputId": "2b7cd420-9fd7-4c37-d867-5200660e8c9e"
      },
      "execution_count": null,
      "outputs": [
        {
          "output_type": "execute_result",
          "data": {
            "text/plain": [
              "<tf.Tensor: shape=(50,), dtype=int32, numpy=\n",
              "array([-100,  -96,  -92,  -88,  -84,  -80,  -76,  -72,  -68,  -64,  -60,\n",
              "        -56,  -52,  -48,  -44,  -40,  -36,  -32,  -28,  -24,  -20,  -16,\n",
              "        -12,   -8,   -4,    0,    4,    8,   12,   16,   20,   24,   28,\n",
              "         32,   36,   40,   44,   48,   52,   56,   60,   64,   68,   72,\n",
              "         76,   80,   84,   88,   92,   96], dtype=int32)>"
            ]
          },
          "metadata": {},
          "execution_count": 16
        }
      ]
    },
    {
      "cell_type": "code",
      "source": [
        "y = X + 10\n",
        "y"
      ],
      "metadata": {
        "id": "-hFlHQZU-tME",
        "colab": {
          "base_uri": "https://localhost:8080/"
        },
        "outputId": "4270f45f-1623-4f5f-9aed-d1fb7ea07f87"
      },
      "execution_count": null,
      "outputs": [
        {
          "output_type": "execute_result",
          "data": {
            "text/plain": [
              "<tf.Tensor: shape=(50,), dtype=int32, numpy=\n",
              "array([-90, -86, -82, -78, -74, -70, -66, -62, -58, -54, -50, -46, -42,\n",
              "       -38, -34, -30, -26, -22, -18, -14, -10,  -6,  -2,   2,   6,  10,\n",
              "        14,  18,  22,  26,  30,  34,  38,  42,  46,  50,  54,  58,  62,\n",
              "        66,  70,  74,  78,  82,  86,  90,  94,  98, 102, 106], dtype=int32)>"
            ]
          },
          "metadata": {},
          "execution_count": 17
        }
      ]
    },
    {
      "cell_type": "code",
      "source": [
        "plt.scatter(X, y)"
      ],
      "metadata": {
        "id": "ocO8poWX-_Fq",
        "colab": {
          "base_uri": "https://localhost:8080/",
          "height": 447
        },
        "outputId": "ba06c6ca-5726-43cc-8f1f-64594a307f72"
      },
      "execution_count": null,
      "outputs": [
        {
          "output_type": "execute_result",
          "data": {
            "text/plain": [
              "<matplotlib.collections.PathCollection at 0x7af159d7fd60>"
            ]
          },
          "metadata": {},
          "execution_count": 18
        },
        {
          "output_type": "display_data",
          "data": {
            "text/plain": [
              "<Figure size 640x480 with 1 Axes>"
            ],
            "image/png": "[encoded data removed]"
          },
          "metadata": {}
        }
      ]
    },
    {
      "cell_type": "code",
      "source": [
        "### The 3 sets...\n",
        "X_train = X[:40]\n",
        "X_test = X[40:]\n",
        "y_train = y[:40]\n",
        "y_test = y[40:]"
      ],
      "metadata": {
        "id": "m0BU5b0e_BuH"
      },
      "execution_count": null,
      "outputs": []
    },
    {
      "cell_type": "markdown",
      "source": [
        "### Visualizing the data\n",
        "Now we've got out data in training and test sets... Let's visualize the data"
      ],
      "metadata": {
        "id": "KraSlbAs_WaV"
      }
    },
    {
      "cell_type": "code",
      "source": [
        "plt.figure(figsize=(10,7))\n",
        "# Plot training data in blue\n",
        "plt.scatter(X_train, y_train,c='b',label='Training data')\n",
        "plt.scatter(X_test,y_test,c='g',label='Testing data')\n",
        "plt.legend()"
      ],
      "metadata": {
        "id": "mL-LEkWlAHKc",
        "colab": {
          "base_uri": "https://localhost:8080/",
          "height": 616
        },
        "outputId": "0db28bef-50d4-42dd-fa3f-983ec8f4ce27"
      },
      "execution_count": null,
      "outputs": [
        {
          "output_type": "execute_result",
          "data": {
            "text/plain": [
              "<matplotlib.legend.Legend at 0x7af159c1f370>"
            ]
          },
          "metadata": {},
          "execution_count": 20
        },
        {
          "output_type": "display_data",
          "data": {
            "text/plain": [
              "<Figure size 1000x700 with 1 Axes>"
            ],
            "image/png": "[encoded data removed]"
          },
          "metadata": {}
        }
      ]
    },
    {
      "cell_type": "code",
      "source": [
        "model = tf.keras.Sequential([\n",
        "    tf.keras.layers.Dense(1, input_shape=[1])\n",
        "])\n",
        "\n",
        "model.compile(loss=tf.keras.losses.mae,\n",
        "              optimizer=tf.keras.optimizers.SGD(),\n",
        "              metrics=['mae'])\n"
      ],
      "metadata": {
        "id": "TPywdcq6Ad2E"
      },
      "execution_count": null,
      "outputs": []
    },
    {
      "cell_type": "code",
      "source": [
        "model.summary()"
      ],
      "metadata": {
        "id": "nNpUfGU4BaYr",
        "colab": {
          "base_uri": "https://localhost:8080/"
        },
        "outputId": "d987b6ca-5f98-4b7f-dae8-19e891037d54"
      },
      "execution_count": null,
      "outputs": [
        {
          "output_type": "stream",
          "name": "stdout",
          "text": [
            "Model: \"sequential_6\"\n",
            "_________________________________________________________________\n",
            " Layer (type)                Output Shape              Param #   \n",
            "=================================================================\n",
            " dense_13 (Dense)            (None, 1)                 2         \n",
            "                                                                 \n",
            "=================================================================\n",
            "Total params: 2 (8.00 Byte)\n",
            "Trainable params: 2 (8.00 Byte)\n",
            "Non-trainable params: 0 (0.00 Byte)\n",
            "_________________________________________________________________\n"
          ]
        }
      ]
    },
    {
      "cell_type": "code",
      "source": [
        "model.fit(X_train, y_train, epochs=10, verbose=0)"
      ],
      "metadata": {
        "id": "pRGtqxmBBoXP",
        "colab": {
          "base_uri": "https://localhost:8080/"
        },
        "outputId": "480f6499-9db0-474f-90d9-06d5246e7320"
      },
      "execution_count": null,
      "outputs": [
        {
          "output_type": "execute_result",
          "data": {
            "text/plain": [
              "<keras.src.callbacks.History at 0x7af168766a10>"
            ]
          },
          "metadata": {},
          "execution_count": 23
        }
      ]
    },
    {
      "cell_type": "code",
      "source": [
        "model.summary()"
      ],
      "metadata": {
        "id": "2xh5kTpkD4kG",
        "colab": {
          "base_uri": "https://localhost:8080/"
        },
        "outputId": "ee115b35-e0cd-4640-eff1-bff1e2d4f584"
      },
      "execution_count": null,
      "outputs": [
        {
          "output_type": "stream",
          "name": "stdout",
          "text": [
            "Model: \"sequential_6\"\n",
            "_________________________________________________________________\n",
            " Layer (type)                Output Shape              Param #   \n",
            "=================================================================\n",
            " dense_13 (Dense)            (None, 1)                 2         \n",
            "                                                                 \n",
            "=================================================================\n",
            "Total params: 2 (8.00 Byte)\n",
            "Trainable params: 2 (8.00 Byte)\n",
            "Non-trainable params: 0 (0.00 Byte)\n",
            "_________________________________________________________________\n"
          ]
        }
      ]
    },
    {
      "cell_type": "code",
      "source": [
        "from tensorflow.keras.utils import plot_model\n",
        "\n",
        "plot_model(model=model, show_shapes=True)"
      ],
      "metadata": {
        "id": "jGghJq81EHI3",
        "colab": {
          "base_uri": "https://localhost:8080/",
          "height": 201
        },
        "outputId": "3fcc8812-f57b-4462-873e-8314915612cd"
      },
      "execution_count": null,
      "outputs": [
        {
          "output_type": "execute_result",
          "data": {
            "image/png": "[encoded data removed]",
            "text/plain": [
              "<IPython.core.display.Image object>"
            ]
          },
          "metadata": {},
          "execution_count": 25
        }
      ]
    },
    {
      "cell_type": "markdown",
      "source": [
        "### Visualizing model predication"
      ],
      "metadata": {
        "id": "VHc7fQnQEh57"
      }
    },
    {
      "cell_type": "code",
      "source": [
        "y_pred = model.predict(X_test)\n",
        "y_pred"
      ],
      "metadata": {
        "id": "BETwGR6FFEYr",
        "colab": {
          "base_uri": "https://localhost:8080/"
        },
        "outputId": "95b45e2a-8391-44e7-da30-5a6c10e830de"
      },
      "execution_count": null,
      "outputs": [
        {
          "output_type": "stream",
          "name": "stdout",
          "text": [
            "1/1 [==============================] - 0s 184ms/step\n"
          ]
        },
        {
          "output_type": "execute_result",
          "data": {
            "text/plain": [
              "array([[58.378517],\n",
              "       [62.264084],\n",
              "       [66.14965 ],\n",
              "       [70.03522 ],\n",
              "       [73.920784],\n",
              "       [77.80635 ],\n",
              "       [81.691925],\n",
              "       [85.57749 ],\n",
              "       [89.46306 ],\n",
              "       [93.348625]], dtype=float32)"
            ]
          },
          "metadata": {},
          "execution_count": 26
        }
      ]
    },
    {
      "cell_type": "code",
      "source": [
        "def plot_predictions(train_data = X_train,\n",
        "                     train_labels = y_train,\n",
        "                     test_data = X_test,\n",
        "                     test_labels = y_test,\n",
        "                     predictions = y_pred):\n",
        "  plt.figure(figsize=(10, 7))\n",
        "  plt.scatter(train_data, train_labels, c='b', label='Training data')\n",
        "  plt.scatter(test_data, test_labels, c='g', label='Testing data')\n",
        "  plt.scatter(test_data, predictions, c='r', label='Predictions')\n",
        "  plt.legend()\n"
      ],
      "metadata": {
        "id": "QyiiV0iUFmgW"
      },
      "execution_count": null,
      "outputs": []
    },
    {
      "cell_type": "code",
      "source": [
        "plot_predictions(X_train,y_train, X_test, y_test, y_pred)"
      ],
      "metadata": {
        "id": "XQtX5Rg3Gjsc",
        "colab": {
          "base_uri": "https://localhost:8080/",
          "height": 599
        },
        "outputId": "201391b0-f5b6-47e8-d9f0-20602e969717"
      },
      "execution_count": null,
      "outputs": [
        {
          "output_type": "display_data",
          "data": {
            "text/plain": [
              "<Figure size 1000x700 with 1 Axes>"
            ],
            "image/png": "[encoded data removed]"
          },
          "metadata": {}
        }
      ]
    },
    {
      "cell_type": "markdown",
      "source": [
        "### Evaluting our model's prediction with regression evaluation matrics\n",
        "\n",
        "1. MAE\n",
        "2. MSE\n",
        "3. RMSE"
      ],
      "metadata": {
        "id": "6zBYkFlQGqff"
      }
    },
    {
      "cell_type": "code",
      "source": [
        "model.evaluate(X_test, y_test)"
      ],
      "metadata": {
        "id": "_9IC6YQIHbx8",
        "colab": {
          "base_uri": "https://localhost:8080/"
        },
        "outputId": "40f6b1ee-ef54-4159-ac8f-218156ecbda3"
      },
      "execution_count": null,
      "outputs": [
        {
          "output_type": "stream",
          "name": "stdout",
          "text": [
            "1/1 [==============================] - 0s 193ms/step - loss: 12.1364 - mae: 12.1364\n"
          ]
        },
        {
          "output_type": "execute_result",
          "data": {
            "text/plain": [
              "[12.136429786682129, 12.136429786682129]"
            ]
          },
          "metadata": {},
          "execution_count": 29
        }
      ]
    },
    {
      "cell_type": "code",
      "source": [
        "mae = tf.metrics.mean_absolute_error(y_test, y_pred)\n",
        "mae"
      ],
      "metadata": {
        "id": "F8eUyZ2ZINtR",
        "colab": {
          "base_uri": "https://localhost:8080/"
        },
        "outputId": "48fc342c-690d-457f-f5c7-ef1ec85f60bf"
      },
      "execution_count": null,
      "outputs": [
        {
          "output_type": "execute_result",
          "data": {
            "text/plain": [
              "<tf.Tensor: shape=(10,), dtype=float32, numpy=\n",
              "array([29.621485, 25.735916, 21.85035 , 17.971827, 14.863373, 12.51619 ,\n",
              "       10.92323 , 10.084501, 10.      , 10.669725], dtype=float32)>"
            ]
          },
          "metadata": {},
          "execution_count": 30
        }
      ]
    },
    {
      "cell_type": "code",
      "source": [
        "mse = tf.metrics.mean_squared_error(y_test, y_pred)\n",
        "mse"
      ],
      "metadata": {
        "id": "k05Y2X4uIYue",
        "colab": {
          "base_uri": "https://localhost:8080/"
        },
        "outputId": "e7c30257-7ce8-48c4-aa33-c7c8f8fd54be"
      },
      "execution_count": null,
      "outputs": [
        {
          "output_type": "execute_result",
          "data": {
            "text/plain": [
              "<tf.Tensor: shape=(10,), dtype=float32, numpy=\n",
              "array([1009.43225,  794.3374 ,  609.4378 ,  454.7334 ,  330.2243 ,\n",
              "        235.91049,  171.79181,  137.86856,  134.14053,  160.60779],\n",
              "      dtype=float32)>"
            ]
          },
          "metadata": {},
          "execution_count": 31
        }
      ]
    },
    {
      "cell_type": "code",
      "source": [
        "tf.constant(y_pred)"
      ],
      "metadata": {
        "id": "f_P81NAZIckB",
        "colab": {
          "base_uri": "https://localhost:8080/"
        },
        "outputId": "026afb8c-3bcd-44b7-f910-1d924826f841"
      },
      "execution_count": null,
      "outputs": [
        {
          "output_type": "execute_result",
          "data": {
            "text/plain": [
              "<tf.Tensor: shape=(10, 1), dtype=float32, numpy=\n",
              "array([[58.378517],\n",
              "       [62.264084],\n",
              "       [66.14965 ],\n",
              "       [70.03522 ],\n",
              "       [73.920784],\n",
              "       [77.80635 ],\n",
              "       [81.691925],\n",
              "       [85.57749 ],\n",
              "       [89.46306 ],\n",
              "       [93.348625]], dtype=float32)>"
            ]
          },
          "metadata": {},
          "execution_count": 32
        }
      ]
    },
    {
      "cell_type": "code",
      "source": [
        "y_test"
      ],
      "metadata": {
        "id": "NcPs4nFsJD8k",
        "colab": {
          "base_uri": "https://localhost:8080/"
        },
        "outputId": "e4454f79-6f28-4658-8fed-0d3538ac68d5"
      },
      "execution_count": null,
      "outputs": [
        {
          "output_type": "execute_result",
          "data": {
            "text/plain": [
              "<tf.Tensor: shape=(10,), dtype=int32, numpy=array([ 70,  74,  78,  82,  86,  90,  94,  98, 102, 106], dtype=int32)>"
            ]
          },
          "metadata": {},
          "execution_count": 33
        }
      ]
    },
    {
      "cell_type": "code",
      "source": [
        "tf.squeeze(y_pred)"
      ],
      "metadata": {
        "id": "1hkM-oTrJEhx",
        "colab": {
          "base_uri": "https://localhost:8080/"
        },
        "outputId": "bbbe864d-7baa-47b0-ba07-104c366b27d4"
      },
      "execution_count": null,
      "outputs": [
        {
          "output_type": "execute_result",
          "data": {
            "text/plain": [
              "<tf.Tensor: shape=(10,), dtype=float32, numpy=\n",
              "array([58.378517, 62.264084, 66.14965 , 70.03522 , 73.920784, 77.80635 ,\n",
              "       81.691925, 85.57749 , 89.46306 , 93.348625], dtype=float32)>"
            ]
          },
          "metadata": {},
          "execution_count": 34
        }
      ]
    },
    {
      "cell_type": "code",
      "source": [
        "mae = tf.metrics.mean_absolute_error(y_true=y_test,\n",
        "                                     y_pred=tf.squeeze(y_pred))\n",
        "mae"
      ],
      "metadata": {
        "id": "9wHL6hIeJLKL",
        "colab": {
          "base_uri": "https://localhost:8080/"
        },
        "outputId": "048fb9c5-7b74-4bf9-82bd-dc913eb1a471"
      },
      "execution_count": null,
      "outputs": [
        {
          "output_type": "execute_result",
          "data": {
            "text/plain": [
              "<tf.Tensor: shape=(), dtype=float32, numpy=12.13643>"
            ]
          },
          "metadata": {},
          "execution_count": 35
        }
      ]
    },
    {
      "cell_type": "code",
      "source": [
        "mse = tf.metrics.mean_squared_error(y_true=y_test,\n",
        "                                     y_pred=tf.squeeze(y_pred))\n",
        "mse"
      ],
      "metadata": {
        "id": "2Sln5SXZJTj-",
        "colab": {
          "base_uri": "https://localhost:8080/"
        },
        "outputId": "7924f3b2-4bff-4f15-df30-f08a272bddb6"
      },
      "execution_count": null,
      "outputs": [
        {
          "output_type": "execute_result",
          "data": {
            "text/plain": [
              "<tf.Tensor: shape=(), dtype=float32, numpy=147.40096>"
            ]
          },
          "metadata": {},
          "execution_count": 36
        }
      ]
    },
    {
      "cell_type": "code",
      "source": [
        "def mae(y_true, y_pred):\n",
        "  return tf.metrics.mean_absolute_error(y_true=y_true,\n",
        "                                        y_pred=y_pred)\n",
        "\n",
        "def mse(y_true, y_pred):\n",
        "  return tf.metrics.mean_squared_error(y_true=y_true,\n",
        "                                        y_pred=y_pred)"
      ],
      "metadata": {
        "id": "-ZrtmqA7JaXl"
      },
      "execution_count": null,
      "outputs": []
    },
    {
      "cell_type": "markdown",
      "source": [
        "### Running experiments to improve our model"
      ],
      "metadata": {
        "id": "KHV9ej67KBmY"
      }
    },
    {
      "cell_type": "code",
      "source": [
        "tf.random.set_seed(42)\n",
        "\n",
        "model_1 = tf.keras.Sequential([\n",
        "    tf.keras.layers.Dense(1)\n",
        "])\n",
        "\n",
        "model_1.compile(loss=tf.keras.losses.mae,\n",
        "                optimizer=tf.optimizers.SGD(),\n",
        "                metrics=['mae']\n",
        "                )\n",
        "\n",
        "model_1.fit(tf.expand_dims(X_train, axis=-1), y_train, epochs=100)"
      ],
      "metadata": {
        "id": "z0aCTsaSKTow",
        "colab": {
          "base_uri": "https://localhost:8080/"
        },
        "outputId": "2f68b643-3a5b-420e-a408-276a8d7bb6d9"
      },
      "execution_count": null,
      "outputs": [
        {
          "output_type": "stream",
          "name": "stdout",
          "text": [
            "Epoch 1/100\n",
            "2/2 [==============================] - 0s 11ms/step - loss: 22.3018 - mae: 22.3018\n",
            "Epoch 2/100\n",
            "2/2 [==============================] - 0s 7ms/step - loss: 11.3584 - mae: 11.3584\n",
            "Epoch 3/100\n",
            "2/2 [==============================] - 0s 7ms/step - loss: 15.6623 - mae: 15.6623\n",
            "Epoch 4/100\n",
            "2/2 [==============================] - 0s 7ms/step - loss: 8.2302 - mae: 8.2302\n",
            "Epoch 5/100\n",
            "2/2 [==============================] - 0s 7ms/step - loss: 10.6058 - mae: 10.6058\n",
            "Epoch 6/100\n",
            "2/2 [==============================] - 0s 7ms/step - loss: 9.8162 - mae: 9.8162\n",
            "Epoch 7/100\n",
            "2/2 [==============================] - 0s 7ms/step - loss: 8.8933 - mae: 8.8933\n",
            "Epoch 8/100\n",
            "2/2 [==============================] - 0s 7ms/step - loss: 9.0740 - mae: 9.0740\n",
            "Epoch 9/100\n",
            "2/2 [==============================] - 0s 8ms/step - loss: 19.5550 - mae: 19.5550\n",
            "Epoch 10/100\n",
            "2/2 [==============================] - 0s 7ms/step - loss: 10.5631 - mae: 10.5631\n",
            "Epoch 11/100\n",
            "2/2 [==============================] - 0s 6ms/step - loss: 8.5744 - mae: 8.5744\n",
            "Epoch 12/100\n",
            "2/2 [==============================] - 0s 7ms/step - loss: 11.0609 - mae: 11.0609\n",
            "Epoch 13/100\n",
            "2/2 [==============================] - 0s 8ms/step - loss: 7.5938 - mae: 7.5938\n",
            "Epoch 14/100\n",
            "2/2 [==============================] - 0s 8ms/step - loss: 15.8354 - mae: 15.8354\n",
            "Epoch 15/100\n",
            "2/2 [==============================] - 0s 8ms/step - loss: 12.9041 - mae: 12.9041\n",
            "Epoch 16/100\n",
            "2/2 [==============================] - 0s 8ms/step - loss: 7.6423 - mae: 7.6423\n",
            "Epoch 17/100\n",
            "2/2 [==============================] - 0s 8ms/step - loss: 12.6176 - mae: 12.6176\n",
            "Epoch 18/100\n",
            "2/2 [==============================] - 0s 7ms/step - loss: 9.6233 - mae: 9.6233\n",
            "Epoch 19/100\n",
            "2/2 [==============================] - 0s 7ms/step - loss: 13.4125 - mae: 13.4125\n",
            "Epoch 20/100\n",
            "2/2 [==============================] - 0s 7ms/step - loss: 11.5032 - mae: 11.5032\n",
            "Epoch 21/100\n",
            "2/2 [==============================] - 0s 7ms/step - loss: 9.0725 - mae: 9.0725\n",
            "Epoch 22/100\n",
            "2/2 [==============================] - 0s 6ms/step - loss: 8.7228 - mae: 8.7228\n",
            "Epoch 23/100\n",
            "2/2 [==============================] - 0s 7ms/step - loss: 10.2408 - mae: 10.2408\n",
            "Epoch 24/100\n",
            "2/2 [==============================] - 0s 7ms/step - loss: 15.3997 - mae: 15.3997\n",
            "Epoch 25/100\n",
            "2/2 [==============================] - 0s 7ms/step - loss: 11.9372 - mae: 11.9372\n",
            "Epoch 26/100\n",
            "2/2 [==============================] - 0s 7ms/step - loss: 12.9999 - mae: 12.9999\n",
            "Epoch 27/100\n",
            "2/2 [==============================] - 0s 11ms/step - loss: 10.3608 - mae: 10.3608\n",
            "Epoch 28/100\n",
            "2/2 [==============================] - 0s 7ms/step - loss: 13.3353 - mae: 13.3353\n",
            "Epoch 29/100\n",
            "2/2 [==============================] - 0s 8ms/step - loss: 9.5974 - mae: 9.5974\n",
            "Epoch 30/100\n",
            "2/2 [==============================] - 0s 10ms/step - loss: 17.1152 - mae: 17.1152\n",
            "Epoch 31/100\n",
            "2/2 [==============================] - 0s 8ms/step - loss: 22.9387 - mae: 22.9387\n",
            "Epoch 32/100\n",
            "2/2 [==============================] - 0s 8ms/step - loss: 7.5486 - mae: 7.5486\n",
            "Epoch 33/100\n",
            "2/2 [==============================] - 0s 8ms/step - loss: 15.4461 - mae: 15.4461\n",
            "Epoch 34/100\n",
            "2/2 [==============================] - 0s 8ms/step - loss: 13.3758 - mae: 13.3758\n",
            "Epoch 35/100\n",
            "2/2 [==============================] - 0s 10ms/step - loss: 7.9732 - mae: 7.9732\n",
            "Epoch 36/100\n",
            "2/2 [==============================] - 0s 7ms/step - loss: 9.9735 - mae: 9.9735\n",
            "Epoch 37/100\n",
            "2/2 [==============================] - 0s 8ms/step - loss: 9.7255 - mae: 9.7255\n",
            "Epoch 38/100\n",
            "2/2 [==============================] - 0s 7ms/step - loss: 10.5858 - mae: 10.5858\n",
            "Epoch 39/100\n",
            "2/2 [==============================] - 0s 7ms/step - loss: 15.6879 - mae: 15.6879\n",
            "Epoch 40/100\n",
            "2/2 [==============================] - 0s 7ms/step - loss: 13.4372 - mae: 13.4372\n",
            "Epoch 41/100\n",
            "2/2 [==============================] - 0s 7ms/step - loss: 9.2965 - mae: 9.2965\n",
            "Epoch 42/100\n",
            "2/2 [==============================] - 0s 10ms/step - loss: 10.9870 - mae: 10.9870\n",
            "Epoch 43/100\n",
            "2/2 [==============================] - 0s 8ms/step - loss: 8.3296 - mae: 8.3296\n",
            "Epoch 44/100\n",
            "2/2 [==============================] - 0s 7ms/step - loss: 13.0215 - mae: 13.0215\n",
            "Epoch 45/100\n",
            "2/2 [==============================] - 0s 7ms/step - loss: 13.6977 - mae: 13.6977\n",
            "Epoch 46/100\n",
            "2/2 [==============================] - 0s 7ms/step - loss: 8.4006 - mae: 8.4006\n",
            "Epoch 47/100\n",
            "2/2 [==============================] - 0s 10ms/step - loss: 9.1779 - mae: 9.1779\n",
            "Epoch 48/100\n",
            "2/2 [==============================] - 0s 10ms/step - loss: 10.6863 - mae: 10.6863\n",
            "Epoch 49/100\n",
            "2/2 [==============================] - 0s 9ms/step - loss: 7.7894 - mae: 7.7894\n",
            "Epoch 50/100\n",
            "2/2 [==============================] - 0s 7ms/step - loss: 9.6023 - mae: 9.6023\n",
            "Epoch 51/100\n",
            "2/2 [==============================] - 0s 8ms/step - loss: 9.1715 - mae: 9.1715\n",
            "Epoch 52/100\n",
            "2/2 [==============================] - 0s 7ms/step - loss: 16.4985 - mae: 16.4985\n",
            "Epoch 53/100\n",
            "2/2 [==============================] - 0s 7ms/step - loss: 14.0697 - mae: 14.0697\n",
            "Epoch 54/100\n",
            "2/2 [==============================] - 0s 8ms/step - loss: 20.9733 - mae: 20.9733\n",
            "Epoch 55/100\n",
            "2/2 [==============================] - 0s 7ms/step - loss: 16.5186 - mae: 16.5186\n",
            "Epoch 56/100\n",
            "2/2 [==============================] - 0s 8ms/step - loss: 9.8448 - mae: 9.8448\n",
            "Epoch 57/100\n",
            "2/2 [==============================] - 0s 7ms/step - loss: 9.6693 - mae: 9.6693\n",
            "Epoch 58/100\n",
            "2/2 [==============================] - 0s 7ms/step - loss: 8.9853 - mae: 8.9853\n",
            "Epoch 59/100\n",
            "2/2 [==============================] - 0s 7ms/step - loss: 10.2012 - mae: 10.2012\n",
            "Epoch 60/100\n",
            "2/2 [==============================] - 0s 8ms/step - loss: 8.4073 - mae: 8.4073\n",
            "Epoch 61/100\n",
            "2/2 [==============================] - 0s 7ms/step - loss: 9.2395 - mae: 9.2395\n",
            "Epoch 62/100\n",
            "2/2 [==============================] - 0s 7ms/step - loss: 7.2752 - mae: 7.2752\n",
            "Epoch 63/100\n",
            "2/2 [==============================] - 0s 7ms/step - loss: 8.1805 - mae: 8.1805\n",
            "Epoch 64/100\n",
            "2/2 [==============================] - 0s 7ms/step - loss: 12.5455 - mae: 12.5455\n",
            "Epoch 65/100\n",
            "2/2 [==============================] - 0s 7ms/step - loss: 10.6266 - mae: 10.6266\n",
            "Epoch 66/100\n",
            "2/2 [==============================] - 0s 8ms/step - loss: 15.4640 - mae: 15.4640\n",
            "Epoch 67/100\n",
            "2/2 [==============================] - 0s 7ms/step - loss: 9.9067 - mae: 9.9067\n",
            "Epoch 68/100\n",
            "2/2 [==============================] - 0s 7ms/step - loss: 8.6789 - mae: 8.6789\n",
            "Epoch 69/100\n",
            "2/2 [==============================] - 0s 7ms/step - loss: 13.3382 - mae: 13.3382\n",
            "Epoch 70/100\n",
            "2/2 [==============================] - 0s 7ms/step - loss: 7.4718 - mae: 7.4718\n",
            "Epoch 71/100\n",
            "2/2 [==============================] - 0s 11ms/step - loss: 12.3535 - mae: 12.3535\n",
            "Epoch 72/100\n",
            "2/2 [==============================] - 0s 9ms/step - loss: 8.4528 - mae: 8.4528\n",
            "Epoch 73/100\n",
            "2/2 [==============================] - 0s 7ms/step - loss: 6.8771 - mae: 6.8771\n",
            "Epoch 74/100\n",
            "2/2 [==============================] - 0s 7ms/step - loss: 11.0538 - mae: 11.0538\n",
            "Epoch 75/100\n",
            "2/2 [==============================] - 0s 7ms/step - loss: 9.4178 - mae: 9.4178\n",
            "Epoch 76/100\n",
            "2/2 [==============================] - 0s 7ms/step - loss: 10.8731 - mae: 10.8731\n",
            "Epoch 77/100\n",
            "2/2 [==============================] - 0s 7ms/step - loss: 14.8162 - mae: 14.8162\n",
            "Epoch 78/100\n",
            "2/2 [==============================] - 0s 7ms/step - loss: 10.8818 - mae: 10.8818\n",
            "Epoch 79/100\n",
            "2/2 [==============================] - 0s 6ms/step - loss: 15.3272 - mae: 15.3272\n",
            "Epoch 80/100\n",
            "2/2 [==============================] - 0s 6ms/step - loss: 11.7739 - mae: 11.7739\n",
            "Epoch 81/100\n",
            "2/2 [==============================] - 0s 7ms/step - loss: 9.2054 - mae: 9.2054\n",
            "Epoch 82/100\n",
            "2/2 [==============================] - 0s 7ms/step - loss: 12.8636 - mae: 12.8636\n",
            "Epoch 83/100\n",
            "2/2 [==============================] - 0s 7ms/step - loss: 10.3215 - mae: 10.3215\n",
            "Epoch 84/100\n",
            "2/2 [==============================] - 0s 7ms/step - loss: 10.5889 - mae: 10.5889\n",
            "Epoch 85/100\n",
            "2/2 [==============================] - 0s 7ms/step - loss: 9.3054 - mae: 9.3054\n",
            "Epoch 86/100\n",
            "2/2 [==============================] - 0s 7ms/step - loss: 9.1597 - mae: 9.1597\n",
            "Epoch 87/100\n",
            "2/2 [==============================] - 0s 8ms/step - loss: 11.8793 - mae: 11.8793\n",
            "Epoch 88/100\n",
            "2/2 [==============================] - 0s 7ms/step - loss: 10.4895 - mae: 10.4895\n",
            "Epoch 89/100\n",
            "2/2 [==============================] - 0s 7ms/step - loss: 6.9783 - mae: 6.9783\n",
            "Epoch 90/100\n",
            "2/2 [==============================] - 0s 7ms/step - loss: 13.8175 - mae: 13.8175\n",
            "Epoch 91/100\n",
            "2/2 [==============================] - 0s 7ms/step - loss: 7.8886 - mae: 7.8886\n",
            "Epoch 92/100\n",
            "2/2 [==============================] - 0s 7ms/step - loss: 7.4600 - mae: 7.4600\n",
            "Epoch 93/100\n",
            "2/2 [==============================] - 0s 7ms/step - loss: 9.1657 - mae: 9.1657\n",
            "Epoch 94/100\n",
            "2/2 [==============================] - 0s 9ms/step - loss: 8.5683 - mae: 8.5683\n",
            "Epoch 95/100\n",
            "2/2 [==============================] - 0s 7ms/step - loss: 11.5131 - mae: 11.5131\n",
            "Epoch 96/100\n",
            "2/2 [==============================] - 0s 7ms/step - loss: 10.2902 - mae: 10.2902\n",
            "Epoch 97/100\n",
            "2/2 [==============================] - 0s 7ms/step - loss: 7.6932 - mae: 7.6932\n",
            "Epoch 98/100\n",
            "2/2 [==============================] - 0s 7ms/step - loss: 8.6278 - mae: 8.6278\n",
            "Epoch 99/100\n",
            "2/2 [==============================] - 0s 7ms/step - loss: 9.4076 - mae: 9.4076\n",
            "Epoch 100/100\n",
            "2/2 [==============================] - 0s 6ms/step - loss: 8.8506 - mae: 8.8506\n"
          ]
        },
        {
          "output_type": "execute_result",
          "data": {
            "text/plain": [
              "<keras.src.callbacks.History at 0x7af159a0dcc0>"
            ]
          },
          "metadata": {},
          "execution_count": 38
        }
      ]
    },
    {
      "cell_type": "code",
      "source": [
        "y_preds_1 = model_1.predict(X_test)\n",
        "plot_predictions(predictions=y_preds_1)"
      ],
      "metadata": {
        "id": "333TZysMLo6-",
        "colab": {
          "base_uri": "https://localhost:8080/",
          "height": 616
        },
        "outputId": "d960a293-a3ca-46f8-c665-f45ef430082d"
      },
      "execution_count": null,
      "outputs": [
        {
          "output_type": "stream",
          "name": "stdout",
          "text": [
            "1/1 [==============================] - 0s 48ms/step\n"
          ]
        },
        {
          "output_type": "display_data",
          "data": {
            "text/plain": [
              "<Figure size 1000x700 with 1 Axes>"
            ],
            "image/png": "[encoded data removed]"
          },
          "metadata": {}
        }
      ]
    },
    {
      "cell_type": "code",
      "source": [
        "mae_1 = mae(y_test, y_preds_1.squeeze()).numpy()\n",
        "mse_1 = mse(y_test, y_preds_1.squeeze()).numpy()\n",
        "mae_1, mse_1"
      ],
      "metadata": {
        "id": "0OcCVzf0MhLG",
        "colab": {
          "base_uri": "https://localhost:8080/"
        },
        "outputId": "d2b18f28-ec2e-409e-cabb-70821f487c33"
      },
      "execution_count": null,
      "outputs": [
        {
          "output_type": "execute_result",
          "data": {
            "text/plain": [
              "(8.639726, 81.175705)"
            ]
          },
          "metadata": {},
          "execution_count": 40
        }
      ]
    },
    {
      "cell_type": "code",
      "source": [
        "tf.random.set_seed(42)\n",
        "\n",
        "# Replicate model_1 and add an extra layer\n",
        "model_2 = tf.keras.Sequential([\n",
        "  tf.keras.layers.Dense(1),\n",
        "  tf.keras.layers.Dense(1) # add a second layer\n",
        "])\n",
        "\n",
        "# Compile the model\n",
        "model_2.compile(loss=tf.keras.losses.mae,\n",
        "                optimizer=tf.keras.optimizers.SGD(),\n",
        "                metrics=['mae'])\n",
        "\n",
        "# Fit the model\n",
        "model_2.fit(tf.expand_dims(X_train, axis=-1), y_train, epochs=100, verbose=0)"
      ],
      "metadata": {
        "id": "YGKWG0uHMlHO",
        "colab": {
          "base_uri": "https://localhost:8080/"
        },
        "outputId": "cc92d51a-af46-4dfb-cbc9-1f137fd5fec2"
      },
      "execution_count": null,
      "outputs": [
        {
          "output_type": "execute_result",
          "data": {
            "text/plain": [
              "<keras.src.callbacks.History at 0x7af1698ef610>"
            ]
          },
          "metadata": {},
          "execution_count": 41
        }
      ]
    },
    {
      "cell_type": "code",
      "source": [
        "y_preds_2 = model_2.predict(X_test)\n",
        "plot_predictions(predictions=y_preds_2)"
      ],
      "metadata": {
        "id": "0JjTQJGOMp2l",
        "colab": {
          "base_uri": "https://localhost:8080/",
          "height": 616
        },
        "outputId": "0f3ce902-6fdb-4241-a709-7342648ab24f"
      },
      "execution_count": null,
      "outputs": [
        {
          "output_type": "stream",
          "name": "stdout",
          "text": [
            "1/1 [==============================] - 0s 78ms/step\n"
          ]
        },
        {
          "output_type": "display_data",
          "data": {
            "text/plain": [
              "<Figure size 1000x700 with 1 Axes>"
            ],
            "image/png": "[encoded data removed]"
          },
          "metadata": {}
        }
      ]
    },
    {
      "cell_type": "code",
      "source": [
        "# Calculate model_2 metrics\n",
        "mae_2 = mae(y_test, y_preds_2.squeeze()).numpy()\n",
        "mse_2 = mse(y_test, y_preds_2.squeeze()).numpy()\n",
        "mae_2, mse_2"
      ],
      "metadata": {
        "id": "Al38kfhiMtJI",
        "colab": {
          "base_uri": "https://localhost:8080/"
        },
        "outputId": "ff205761-e6aa-457c-ea0c-8b9e4d273eda"
      },
      "execution_count": null,
      "outputs": [
        {
          "output_type": "execute_result",
          "data": {
            "text/plain": [
              "(10.583788, 119.75533)"
            ]
          },
          "metadata": {},
          "execution_count": 43
        }
      ]
    },
    {
      "cell_type": "code",
      "source": [
        "# Set random seed\n",
        "tf.random.set_seed(42)\n",
        "\n",
        "# Replicate model_2\n",
        "model_3 = tf.keras.Sequential([\n",
        "  tf.keras.layers.Dense(1),\n",
        "  tf.keras.layers.Dense(1)\n",
        "])\n",
        "\n",
        "# Compile the model\n",
        "model_3.compile(loss=tf.keras.losses.mae,\n",
        "                optimizer=tf.keras.optimizers.SGD(),\n",
        "                metrics=['mae'])\n",
        "\n",
        "# Fit the model (this time for 500 epochs, not 100)\n",
        "model_3.fit(tf.expand_dims(X_train, axis=-1), y_train, epochs=500, verbose=0)"
      ],
      "metadata": {
        "id": "60pOlloWMxpi",
        "colab": {
          "base_uri": "https://localhost:8080/"
        },
        "outputId": "a371191c-4921-4789-d574-e1553174d3ce"
      },
      "execution_count": null,
      "outputs": [
        {
          "output_type": "execute_result",
          "data": {
            "text/plain": [
              "<keras.src.callbacks.History at 0x7af16874ae60>"
            ]
          },
          "metadata": {},
          "execution_count": 44
        }
      ]
    },
    {
      "cell_type": "code",
      "source": [
        "y_preds_3 = model_3.predict(X_test)\n",
        "plot_predictions(predictions=y_preds_3)"
      ],
      "metadata": {
        "id": "C2Sz5PGLM1PJ",
        "colab": {
          "base_uri": "https://localhost:8080/",
          "height": 616
        },
        "outputId": "86f52eb0-f9cb-4abf-cf78-cb26d8acab50"
      },
      "execution_count": null,
      "outputs": [
        {
          "output_type": "stream",
          "name": "stdout",
          "text": [
            "1/1 [==============================] - 0s 55ms/step\n"
          ]
        },
        {
          "output_type": "display_data",
          "data": {
            "text/plain": [
              "<Figure size 1000x700 with 1 Axes>"
            ],
            "image/png": "[encoded data removed]"
          },
          "metadata": {}
        }
      ]
    },
    {
      "cell_type": "code",
      "source": [
        "mae_3 = mae(y_test, y_preds_3.squeeze()).numpy()\n",
        "mse_3 = mse(y_test, y_preds_3.squeeze()).numpy()\n",
        "mae_3, mse_3"
      ],
      "metadata": {
        "id": "qzQmunHoM3jx",
        "colab": {
          "base_uri": "https://localhost:8080/"
        },
        "outputId": "a4361a4b-4b8d-4163-dafa-2715dc9cf4b4"
      },
      "execution_count": null,
      "outputs": [
        {
          "output_type": "execute_result",
          "data": {
            "text/plain": [
              "(67.89156, 4693.605)"
            ]
          },
          "metadata": {},
          "execution_count": 46
        }
      ]
    },
    {
      "cell_type": "markdown",
      "source": [
        "### Comparing the results of our experiments"
      ],
      "metadata": {
        "id": "Fq9gHrIfM632"
      }
    },
    {
      "cell_type": "code",
      "source": [
        "import pandas as pd\n",
        "\n",
        "model_results = [['model_1',mae_1,mse_1],\n",
        "                 ['model_2',mae_2,mse_2],\n",
        "                 ['model_3',mae_3,mse_3],]\n",
        "all_results = pd.DataFrame(model_results, columns=['model','mae','mse'])\n",
        "all_results"
      ],
      "metadata": {
        "id": "TZlFiHVUu4Xj",
        "colab": {
          "base_uri": "https://localhost:8080/",
          "height": 143
        },
        "outputId": "2e3d1661-40cf-4277-99a8-f0bc0dcf95e4"
      },
      "execution_count": null,
      "outputs": [
        {
          "output_type": "execute_result",
          "data": {
            "text/plain": [
              "     model        mae          mse\n",
              "0  model_1   8.639726    81.175705\n",
              "1  model_2  10.583788   119.755333\n",
              "2  model_3  67.891563  4693.604980"
            ],
            "text/html": [
              "\n",
              "  <div id=\"df-4edae713-0667-4267-ab05-dc8d5b96dd70\" class=\"colab-df-container\">\n",
              "    <div>\n",
              "<style scoped>\n",
              "    .dataframe tbody tr th:only-of-type {\n",
              "        vertical-align: middle;\n",
              "    }\n",
              "\n",
              "    .dataframe tbody tr th {\n",
              "        vertical-align: top;\n",
              "    }\n",
              "\n",
              "    .dataframe thead th {\n",
              "        text-align: right;\n",
              "    }\n",
              "</style>\n",
              "<table border=\"1\" class=\"dataframe\">\n",
              "  <thead>\n",
              "    <tr style=\"text-align: right;\">\n",
              "      <th></th>\n",
              "      <th>model</th>\n",
              "      <th>mae</th>\n",
              "      <th>mse</th>\n",
              "    </tr>\n",
              "  </thead>\n",
              "  <tbody>\n",
              "    <tr>\n",
              "      <th>0</th>\n",
              "      <td>model_1</td>\n",
              "      <td>8.639726</td>\n",
              "      <td>81.175705</td>\n",
              "    </tr>\n",
              "    <tr>\n",
              "      <th>1</th>\n",
              "      <td>model_2</td>\n",
              "      <td>10.583788</td>\n",
              "      <td>119.755333</td>\n",
              "    </tr>\n",
              "    <tr>\n",
              "      <th>2</th>\n",
              "      <td>model_3</td>\n",
              "      <td>67.891563</td>\n",
              "      <td>4693.604980</td>\n",
              "    </tr>\n",
              "  </tbody>\n",
              "</table>\n",
              "</div>\n",
              "    <div class=\"colab-df-buttons\">\n",
              "\n",
              "  <div class=\"colab-df-container\">\n",
              "    <button class=\"colab-df-convert\" onclick=\"convertToInteractive('df-4edae713-0667-4267-ab05-dc8d5b96dd70')\"\n",
              "            title=\"Convert this dataframe to an interactive table.\"\n",
              "            style=\"display:none;\">\n",
              "\n",
              "  <svg xmlns=\"http://www.w3.org/2000/svg\" height=\"24px\" viewBox=\"0 -960 960 960\">\n",
              "    <path d=\"M120-120v-720h720v720H120Zm60-500h600v-160H180v160Zm220 220h160v-160H400v160Zm0 220h160v-160H400v160ZM180-400h160v-160H180v160Zm440 0h160v-160H620v160ZM180-180h160v-160H180v160Zm440 0h160v-160H620v160Z\"/>\n",
              "  </svg>\n",
              "    </button>\n",
              "\n",
              "  <style>\n",
              "    .colab-df-container {\n",
              "      display:flex;\n",
              "      gap: 12px;\n",
              "    }\n",
              "\n",
              "    .colab-df-convert {\n",
              "      background-color: #E8F0FE;\n",
              "      border: none;\n",
              "      border-radius: 50%;\n",
              "      cursor: pointer;\n",
              "      display: none;\n",
              "      fill: #1967D2;\n",
              "      height: 32px;\n",
              "      padding: 0 0 0 0;\n",
              "      width: 32px;\n",
              "    }\n",
              "\n",
              "    .colab-df-convert:hover {\n",
              "      background-color: #E2EBFA;\n",
              "      box-shadow: 0px 1px 2px rgba(60, 64, 67, 0.3), 0px 1px 3px 1px rgba(60, 64, 67, 0.15);\n",
              "      fill: #174EA6;\n",
              "    }\n",
              "\n",
              "    .colab-df-buttons div {\n",
              "      margin-bottom: 4px;\n",
              "    }\n",
              "\n",
              "    [theme=dark] .colab-df-convert {\n",
              "      background-color: #3B4455;\n",
              "      fill: #D2E3FC;\n",
              "    }\n",
              "\n",
              "    [theme=dark] .colab-df-convert:hover {\n",
              "      background-color: #434B5C;\n",
              "      box-shadow: 0px 1px 3px 1px rgba(0, 0, 0, 0.15);\n",
              "      filter: drop-shadow(0px 1px 2px rgba(0, 0, 0, 0.3));\n",
              "      fill: #FFFFFF;\n",
              "    }\n",
              "  </style>\n",
              "\n",
              "    <script>\n",
              "      const buttonEl =\n",
              "        document.querySelector('#df-4edae713-0667-4267-ab05-dc8d5b96dd70 button.colab-df-convert');\n",
              "      buttonEl.style.display =\n",
              "        google.colab.kernel.accessAllowed ? 'block' : 'none';\n",
              "\n",
              "      async function convertToInteractive(key) {\n",
              "        const element = document.querySelector('#df-4edae713-0667-4267-ab05-dc8d5b96dd70');\n",
              "        const dataTable =\n",
              "          await google.colab.kernel.invokeFunction('convertToInteractive',\n",
              "                                                    [key], {});\n",
              "        if (!dataTable) return;\n",
              "\n",
              "        const docLinkHtml = 'Like what you see? Visit the ' +\n",
              "          '<a target=\"_blank\" href=https://colab.research.google.com/notebooks/data_table.ipynb>data table notebook</a>'\n",
              "          + ' to learn more about interactive tables.';\n",
              "        element.innerHTML = '';\n",
              "        dataTable['output_type'] = 'display_data';\n",
              "        await google.colab.output.renderOutput(dataTable, element);\n",
              "        const docLink = document.createElement('div');\n",
              "        docLink.innerHTML = docLinkHtml;\n",
              "        element.appendChild(docLink);\n",
              "      }\n",
              "    </script>\n",
              "  </div>\n",
              "\n",
              "\n",
              "<div id=\"df-2002b81b-88fd-4d73-8273-4832c7434bde\">\n",
              "  <button class=\"colab-df-quickchart\" onclick=\"quickchart('df-2002b81b-88fd-4d73-8273-4832c7434bde')\"\n",
              "            title=\"Suggest charts\"\n",
              "            style=\"display:none;\">\n",
              "\n",
              "<svg xmlns=\"http://www.w3.org/2000/svg\" height=\"24px\"viewBox=\"0 0 24 24\"\n",
              "     width=\"24px\">\n",
              "    <g>\n",
              "        <path d=\"M19 3H5c-1.1 0-2 .9-2 2v14c0 1.1.9 2 2 2h14c1.1 0 2-.9 2-2V5c0-1.1-.9-2-2-2zM9 17H7v-7h2v7zm4 0h-2V7h2v10zm4 0h-2v-4h2v4z\"/>\n",
              "    </g>\n",
              "</svg>\n",
              "  </button>\n",
              "\n",
              "<style>\n",
              "  .colab-df-quickchart {\n",
              "      --bg-color: #E8F0FE;\n",
              "      --fill-color: #1967D2;\n",
              "      --hover-bg-color: #E2EBFA;\n",
              "      --hover-fill-color: #174EA6;\n",
              "      --disabled-fill-color: #AAA;\n",
              "      --disabled-bg-color: #DDD;\n",
              "  }\n",
              "\n",
              "  [theme=dark] .colab-df-quickchart {\n",
              "      --bg-color: #3B4455;\n",
              "      --fill-color: #D2E3FC;\n",
              "      --hover-bg-color: #434B5C;\n",
              "      --hover-fill-color: #FFFFFF;\n",
              "      --disabled-bg-color: #3B4455;\n",
              "      --disabled-fill-color: #666;\n",
              "  }\n",
              "\n",
              "  .colab-df-quickchart {\n",
              "    background-color: var(--bg-color);\n",
              "    border: none;\n",
              "    border-radius: 50%;\n",
              "    cursor: pointer;\n",
              "    display: none;\n",
              "    fill: var(--fill-color);\n",
              "    height: 32px;\n",
              "    padding: 0;\n",
              "    width: 32px;\n",
              "  }\n",
              "\n",
              "  .colab-df-quickchart:hover {\n",
              "    background-color: var(--hover-bg-color);\n",
              "    box-shadow: 0 1px 2px rgba(60, 64, 67, 0.3), 0 1px 3px 1px rgba(60, 64, 67, 0.15);\n",
              "    fill: var(--button-hover-fill-color);\n",
              "  }\n",
              "\n",
              "  .colab-df-quickchart-complete:disabled,\n",
              "  .colab-df-quickchart-complete:disabled:hover {\n",
              "    background-color: var(--disabled-bg-color);\n",
              "    fill: var(--disabled-fill-color);\n",
              "    box-shadow: none;\n",
              "  }\n",
              "\n",
              "  .colab-df-spinner {\n",
              "    border: 2px solid var(--fill-color);\n",
              "    border-color: transparent;\n",
              "    border-bottom-color: var(--fill-color);\n",
              "    animation:\n",
              "      spin 1s steps(1) infinite;\n",
              "  }\n",
              "\n",
              "  @keyframes spin {\n",
              "    0% {\n",
              "      border-color: transparent;\n",
              "      border-bottom-color: var(--fill-color);\n",
              "      border-left-color: var(--fill-color);\n",
              "    }\n",
              "    20% {\n",
              "      border-color: transparent;\n",
              "      border-left-color: var(--fill-color);\n",
              "      border-top-color: var(--fill-color);\n",
              "    }\n",
              "    30% {\n",
              "      border-color: transparent;\n",
              "      border-left-color: var(--fill-color);\n",
              "      border-top-color: var(--fill-color);\n",
              "      border-right-color: var(--fill-color);\n",
              "    }\n",
              "    40% {\n",
              "      border-color: transparent;\n",
              "      border-right-color: var(--fill-color);\n",
              "      border-top-color: var(--fill-color);\n",
              "    }\n",
              "    60% {\n",
              "      border-color: transparent;\n",
              "      border-right-color: var(--fill-color);\n",
              "    }\n",
              "    80% {\n",
              "      border-color: transparent;\n",
              "      border-right-color: var(--fill-color);\n",
              "      border-bottom-color: var(--fill-color);\n",
              "    }\n",
              "    90% {\n",
              "      border-color: transparent;\n",
              "      border-bottom-color: var(--fill-color);\n",
              "    }\n",
              "  }\n",
              "</style>\n",
              "\n",
              "  <script>\n",
              "    async function quickchart(key) {\n",
              "      const quickchartButtonEl =\n",
              "        document.querySelector('#' + key + ' button');\n",
              "      quickchartButtonEl.disabled = true;  // To prevent multiple clicks.\n",
              "      quickchartButtonEl.classList.add('colab-df-spinner');\n",
              "      try {\n",
              "        const charts = await google.colab.kernel.invokeFunction(\n",
              "            'suggestCharts', [key], {});\n",
              "      } catch (error) {\n",
              "        console.error('Error during call to suggestCharts:', error);\n",
              "      }\n",
              "      quickchartButtonEl.classList.remove('colab-df-spinner');\n",
              "      quickchartButtonEl.classList.add('colab-df-quickchart-complete');\n",
              "    }\n",
              "    (() => {\n",
              "      let quickchartButtonEl =\n",
              "        document.querySelector('#df-2002b81b-88fd-4d73-8273-4832c7434bde button');\n",
              "      quickchartButtonEl.style.display =\n",
              "        google.colab.kernel.accessAllowed ? 'block' : 'none';\n",
              "    })();\n",
              "  </script>\n",
              "</div>\n",
              "\n",
              "  <div id=\"id_7234c155-95fe-42ac-b385-9a00de296c8d\">\n",
              "    <style>\n",
              "      .colab-df-generate {\n",
              "        background-color: #E8F0FE;\n",
              "        border: none;\n",
              "        border-radius: 50%;\n",
              "        cursor: pointer;\n",
              "        display: none;\n",
              "        fill: #1967D2;\n",
              "        height: 32px;\n",
              "        padding: 0 0 0 0;\n",
              "        width: 32px;\n",
              "      }\n",
              "\n",
              "      .colab-df-generate:hover {\n",
              "        background-color: #E2EBFA;\n",
              "        box-shadow: 0px 1px 2px rgba(60, 64, 67, 0.3), 0px 1px 3px 1px rgba(60, 64, 67, 0.15);\n",
              "        fill: #174EA6;\n",
              "      }\n",
              "\n",
              "      [theme=dark] .colab-df-generate {\n",
              "        background-color: #3B4455;\n",
              "        fill: #D2E3FC;\n",
              "      }\n",
              "\n",
              "      [theme=dark] .colab-df-generate:hover {\n",
              "        background-color: #434B5C;\n",
              "        box-shadow: 0px 1px 3px 1px rgba(0, 0, 0, 0.15);\n",
              "        filter: drop-shadow(0px 1px 2px rgba(0, 0, 0, 0.3));\n",
              "        fill: #FFFFFF;\n",
              "      }\n",
              "    </style>\n",
              "    <button class=\"colab-df-generate\" onclick=\"generateWithVariable('all_results')\"\n",
              "            title=\"Generate code using this dataframe.\"\n",
              "            style=\"display:none;\">\n",
              "\n",
              "  <svg xmlns=\"http://www.w3.org/2000/svg\" height=\"24px\"viewBox=\"0 0 24 24\"\n",
              "       width=\"24px\">\n",
              "    <path d=\"M7,19H8.4L18.45,9,17,7.55,7,17.6ZM5,21V16.75L18.45,3.32a2,2,0,0,1,2.83,0l1.4,1.43a1.91,1.91,0,0,1,.58,1.4,1.91,1.91,0,0,1-.58,1.4L9.25,21ZM18.45,9,17,7.55Zm-12,3A5.31,5.31,0,0,0,4.9,8.1,5.31,5.31,0,0,0,1,6.5,5.31,5.31,0,0,0,4.9,4.9,5.31,5.31,0,0,0,6.5,1,5.31,5.31,0,0,0,8.1,4.9,5.31,5.31,0,0,0,12,6.5,5.46,5.46,0,0,0,6.5,12Z\"/>\n",
              "  </svg>\n",
              "    </button>\n",
              "    <script>\n",
              "      (() => {\n",
              "      const buttonEl =\n",
              "        document.querySelector('#id_7234c155-95fe-42ac-b385-9a00de296c8d button.colab-df-generate');\n",
              "      buttonEl.style.display =\n",
              "        google.colab.kernel.accessAllowed ? 'block' : 'none';\n",
              "\n",
              "      buttonEl.onclick = () => {\n",
              "        google.colab.notebook.generateWithVariable('all_results');\n",
              "      }\n",
              "      })();\n",
              "    </script>\n",
              "  </div>\n",
              "\n",
              "    </div>\n",
              "  </div>\n"
            ],
            "application/vnd.google.colaboratory.intrinsic+json": {
              "type": "dataframe",
              "variable_name": "all_results",
              "summary": "{\n  \"name\": \"all_results\",\n  \"rows\": 3,\n  \"fields\": [\n    {\n      \"column\": \"model\",\n      \"properties\": {\n        \"dtype\": \"string\",\n        \"num_unique_values\": 3,\n        \"samples\": [\n          \"model_1\",\n          \"model_2\",\n          \"model_3\"\n        ],\n        \"semantic_type\": \"\",\n        \"description\": \"\"\n      }\n    },\n    {\n      \"column\": \"mae\",\n      \"properties\": {\n        \"dtype\": \"float32\",\n        \"num_unique_values\": 3,\n        \"samples\": [\n          8.639725685119629,\n          10.58378791809082,\n          67.89156341552734\n        ],\n        \"semantic_type\": \"\",\n        \"description\": \"\"\n      }\n    },\n    {\n      \"column\": \"mse\",\n      \"properties\": {\n        \"dtype\": \"float32\",\n        \"num_unique_values\": 3,\n        \"samples\": [\n          81.17570495605469,\n          119.75533294677734,\n          4693.60498046875\n        ],\n        \"semantic_type\": \"\",\n        \"description\": \"\"\n      }\n    }\n  ]\n}"
            }
          },
          "metadata": {},
          "execution_count": 47
        }
      ]
    },
    {
      "cell_type": "code",
      "source": [
        "model_2.summary()"
      ],
      "metadata": {
        "id": "pWGSK161vl1v",
        "colab": {
          "base_uri": "https://localhost:8080/"
        },
        "outputId": "9ff72833-91e0-4d19-8589-f2a4d97b679e"
      },
      "execution_count": null,
      "outputs": [
        {
          "output_type": "stream",
          "name": "stdout",
          "text": [
            "Model: \"sequential_8\"\n",
            "_________________________________________________________________\n",
            " Layer (type)                Output Shape              Param #   \n",
            "=================================================================\n",
            " dense_15 (Dense)            (None, 1)                 2         \n",
            "                                                                 \n",
            " dense_16 (Dense)            (None, 1)                 2         \n",
            "                                                                 \n",
            "=================================================================\n",
            "Total params: 4 (16.00 Byte)\n",
            "Trainable params: 4 (16.00 Byte)\n",
            "Non-trainable params: 0 (0.00 Byte)\n",
            "_________________________________________________________________\n"
          ]
        }
      ]
    },
    {
      "cell_type": "markdown",
      "source": [
        "### Tracking your experiments\n",
        "One really good habit in ML modelling is to track the results of your experiments.\n",
        "\n",
        "And when doing so, it can be tedious if you're running lots of experiments.\n",
        "\n",
        "1. TensorBoard -> a component of the tensorflow library to help track modelling experiments\n",
        "2. Weights & biases -> a tool to track all kind of machine learning experiments and plug straight into TensorBoard"
      ],
      "metadata": {
        "id": "ZffUuW1avvSL"
      }
    },
    {
      "cell_type": "markdown",
      "source": [
        "### Saving our models\n",
        "\n",
        "There are two main formats to save a model\n",
        "1. The SavedModel format\n",
        "2. The HDF5 format"
      ],
      "metadata": {
        "id": "vDmL-RY1wo2L"
      }
    },
    {
      "cell_type": "code",
      "source": [
        "model_2.save('best_model_SavedModel_format')"
      ],
      "metadata": {
        "id": "m2XNFijtxRPD"
      },
      "execution_count": null,
      "outputs": []
    },
    {
      "cell_type": "code",
      "source": [
        "model_2.save('best_model_HDF5_format.h5')"
      ],
      "metadata": {
        "id": "Yqzo2SkeyD8Q",
        "colab": {
          "base_uri": "https://localhost:8080/"
        },
        "outputId": "a3e88c82-684c-436a-ebdc-318d2c2e1819"
      },
      "execution_count": null,
      "outputs": [
        {
          "output_type": "stream",
          "name": "stderr",
          "text": [
            "/usr/local/lib/python3.10/dist-packages/keras/src/engine/training.py:3103: UserWarning: You are saving your model as an HDF5 file via `model.save()`. This file format is considered legacy. We recommend using instead the native Keras format, e.g. `model.save('my_model.keras')`.\n",
            "  saving_api.save_model(\n"
          ]
        }
      ]
    },
    {
      "cell_type": "markdown",
      "source": [
        "### Loading a saved model"
      ],
      "metadata": {
        "id": "lT4w6GOJzO8j"
      }
    },
    {
      "cell_type": "code",
      "source": [
        "#Load in the SavedModel format\n",
        "loadedSavedModelFormat = tf.keras.models.load_model(\"/content/best_model_SavedModel_format\")\n",
        "loadedSavedModelFormat.summary()"
      ],
      "metadata": {
        "id": "eldwhBm2znJI",
        "colab": {
          "base_uri": "https://localhost:8080/"
        },
        "outputId": "90f6f9ae-9e84-4108-f883-10294b527fe9"
      },
      "execution_count": null,
      "outputs": [
        {
          "output_type": "stream",
          "name": "stdout",
          "text": [
            "Model: \"sequential_8\"\n",
            "_________________________________________________________________\n",
            " Layer (type)                Output Shape              Param #   \n",
            "=================================================================\n",
            " dense_15 (Dense)            (None, 1)                 2         \n",
            "                                                                 \n",
            " dense_16 (Dense)            (None, 1)                 2         \n",
            "                                                                 \n",
            "=================================================================\n",
            "Total params: 4 (16.00 Byte)\n",
            "Trainable params: 4 (16.00 Byte)\n",
            "Non-trainable params: 0 (0.00 Byte)\n",
            "_________________________________________________________________\n"
          ]
        }
      ]
    },
    {
      "cell_type": "code",
      "source": [
        "loadedHDF5Format = tf.keras.models.load_model('/content/best_model_HDF5_format.h5')"
      ],
      "metadata": {
        "id": "QILmL4b8z-cj"
      },
      "execution_count": null,
      "outputs": []
    },
    {
      "cell_type": "code",
      "source": [
        "loadedHDF5Format.summary()"
      ],
      "metadata": {
        "id": "aiCwZ-YZ1Ooy",
        "colab": {
          "base_uri": "https://localhost:8080/"
        },
        "outputId": "454c91c4-2914-4b70-bf53-d7c5805b7817"
      },
      "execution_count": null,
      "outputs": [
        {
          "output_type": "stream",
          "name": "stdout",
          "text": [
            "Model: \"sequential_8\"\n",
            "_________________________________________________________________\n",
            " Layer (type)                Output Shape              Param #   \n",
            "=================================================================\n",
            " dense_15 (Dense)            (None, 1)                 2         \n",
            "                                                                 \n",
            " dense_16 (Dense)            (None, 1)                 2         \n",
            "                                                                 \n",
            "=================================================================\n",
            "Total params: 4 (16.00 Byte)\n",
            "Trainable params: 4 (16.00 Byte)\n",
            "Non-trainable params: 0 (0.00 Byte)\n",
            "_________________________________________________________________\n"
          ]
        }
      ]
    },
    {
      "cell_type": "markdown",
      "source": [
        "## Download a model from Google Colab\n",
        "\n",
        "1. Right click on the file and download it\n",
        "2. Use code (below)\n",
        "3. Save it to Google Drive by connecting Google Drive and copying it there.\n"
      ],
      "metadata": {
        "id": "N6WWSUJg1TxK"
      }
    },
    {
      "cell_type": "code",
      "source": [
        "# Download a file from google colab\n",
        "from google.colab import files\n",
        "files.download(\"/content/best_model_HDF5_format.h5\")"
      ],
      "metadata": {
        "id": "q4PiBxRQ2FaZ",
        "colab": {
          "base_uri": "https://localhost:8080/",
          "height": 34
        },
        "outputId": "1d4a07db-11b2-44d8-ce53-96f035dc62be"
      },
      "execution_count": null,
      "outputs": [
        {
          "output_type": "display_data",
          "data": {
            "text/plain": [
              "<IPython.core.display.Javascript object>"
            ],
            "application/javascript": [
              "\n",
              "    async function download(id, filename, size) {\n",
              "      if (!google.colab.kernel.accessAllowed) {\n",
              "        return;\n",
              "      }\n",
              "      const div = document.createElement('div');\n",
              "      const label = document.createElement('label');\n",
              "      label.textContent = `Downloading \"${filename}\": `;\n",
              "      div.appendChild(label);\n",
              "      const progress = document.createElement('progress');\n",
              "      progress.max = size;\n",
              "      div.appendChild(progress);\n",
              "      document.body.appendChild(div);\n",
              "\n",
              "      const buffers = [];\n",
              "      let downloaded = 0;\n",
              "\n",
              "      const channel = await google.colab.kernel.comms.open(id);\n",
              "      // Send a message to notify the kernel that we're ready.\n",
              "      channel.send({})\n",
              "\n",
              "      for await (const message of channel.messages) {\n",
              "        // Send a message to notify the kernel that we're ready.\n",
              "        channel.send({})\n",
              "        if (message.buffers) {\n",
              "          for (const buffer of message.buffers) {\n",
              "            buffers.push(buffer);\n",
              "            downloaded += buffer.byteLength;\n",
              "            progress.value = downloaded;\n",
              "          }\n",
              "        }\n",
              "      }\n",
              "      const blob = new Blob(buffers, {type: 'application/binary'});\n",
              "      const a = document.createElement('a');\n",
              "      a.href = window.URL.createObjectURL(blob);\n",
              "      a.download = filename;\n",
              "      div.appendChild(a);\n",
              "      a.click();\n",
              "      div.remove();\n",
              "    }\n",
              "  "
            ]
          },
          "metadata": {}
        },
        {
          "output_type": "display_data",
          "data": {
            "text/plain": [
              "<IPython.core.display.Javascript object>"
            ],
            "application/javascript": [
              "download(\"download_1ba95942-6307-4c28-8727-3df0a425254f\", \"best_model_HDF5_format.h5\", 21952)"
            ]
          },
          "metadata": {}
        }
      ]
    },
    {
      "cell_type": "markdown",
      "source": [
        "### A larger example"
      ],
      "metadata": {
        "id": "EaNICnzy2jAY"
      }
    },
    {
      "cell_type": "code",
      "source": [
        "import tensorflow as tf\n",
        "import pandas as pd\n",
        "import matplotlib.pyplot as plt"
      ],
      "metadata": {
        "id": "SgnHMy5ltlz0"
      },
      "execution_count": null,
      "outputs": []
    },
    {
      "cell_type": "code",
      "source": [
        "insurance = pd.read_csv(\"https://raw.githubusercontent.com/stedy/Machine-Learning-with-R-datasets/master/insurance.csv\")"
      ],
      "metadata": {
        "id": "FvwqS7Cetq3f"
      },
      "execution_count": null,
      "outputs": []
    },
    {
      "cell_type": "code",
      "source": [
        "insurance.head()"
      ],
      "metadata": {
        "id": "Of2cumPjtwp6",
        "colab": {
          "base_uri": "https://localhost:8080/",
          "height": 206
        },
        "outputId": "c5a481a8-6970-4fbd-9a21-ec621bc465f2"
      },
      "execution_count": null,
      "outputs": [
        {
          "output_type": "execute_result",
          "data": {
            "text/plain": [
              "   age     sex     bmi  children smoker     region      charges\n",
              "0   19  female  27.900         0    yes  southwest  16884.92400\n",
              "1   18    male  33.770         1     no  southeast   1725.55230\n",
              "2   28    male  33.000         3     no  southeast   4449.46200\n",
              "3   33    male  22.705         0     no  northwest  21984.47061\n",
              "4   32    male  28.880         0     no  northwest   3866.85520"
            ],
            "text/html": [
              "\n",
              "  <div id=\"df-debd883b-ae7d-428f-8c52-9e9e9908003b\" class=\"colab-df-container\">\n",
              "    <div>\n",
              "<style scoped>\n",
              "    .dataframe tbody tr th:only-of-type {\n",
              "        vertical-align: middle;\n",
              "    }\n",
              "\n",
              "    .dataframe tbody tr th {\n",
              "        vertical-align: top;\n",
              "    }\n",
              "\n",
              "    .dataframe thead th {\n",
              "        text-align: right;\n",
              "    }\n",
              "</style>\n",
              "<table border=\"1\" class=\"dataframe\">\n",
              "  <thead>\n",
              "    <tr style=\"text-align: right;\">\n",
              "      <th></th>\n",
              "      <th>age</th>\n",
              "      <th>sex</th>\n",
              "      <th>bmi</th>\n",
              "      <th>children</th>\n",
              "      <th>smoker</th>\n",
              "      <th>region</th>\n",
              "      <th>charges</th>\n",
              "    </tr>\n",
              "  </thead>\n",
              "  <tbody>\n",
              "    <tr>\n",
              "      <th>0</th>\n",
              "      <td>19</td>\n",
              "      <td>female</td>\n",
              "      <td>27.900</td>\n",
              "      <td>0</td>\n",
              "      <td>yes</td>\n",
              "      <td>southwest</td>\n",
              "      <td>16884.92400</td>\n",
              "    </tr>\n",
              "    <tr>\n",
              "      <th>1</th>\n",
              "      <td>18</td>\n",
              "      <td>male</td>\n",
              "      <td>33.770</td>\n",
              "      <td>1</td>\n",
              "      <td>no</td>\n",
              "      <td>southeast</td>\n",
              "      <td>1725.55230</td>\n",
              "    </tr>\n",
              "    <tr>\n",
              "      <th>2</th>\n",
              "      <td>28</td>\n",
              "      <td>male</td>\n",
              "      <td>33.000</td>\n",
              "      <td>3</td>\n",
              "      <td>no</td>\n",
              "      <td>southeast</td>\n",
              "      <td>4449.46200</td>\n",
              "    </tr>\n",
              "    <tr>\n",
              "      <th>3</th>\n",
              "      <td>33</td>\n",
              "      <td>male</td>\n",
              "      <td>22.705</td>\n",
              "      <td>0</td>\n",
              "      <td>no</td>\n",
              "      <td>northwest</td>\n",
              "      <td>21984.47061</td>\n",
              "    </tr>\n",
              "    <tr>\n",
              "      <th>4</th>\n",
              "      <td>32</td>\n",
              "      <td>male</td>\n",
              "      <td>28.880</td>\n",
              "      <td>0</td>\n",
              "      <td>no</td>\n",
              "      <td>northwest</td>\n",
              "      <td>3866.85520</td>\n",
              "    </tr>\n",
              "  </tbody>\n",
              "</table>\n",
              "</div>\n",
              "    <div class=\"colab-df-buttons\">\n",
              "\n",
              "  <div class=\"colab-df-container\">\n",
              "    <button class=\"colab-df-convert\" onclick=\"convertToInteractive('df-debd883b-ae7d-428f-8c52-9e9e9908003b')\"\n",
              "            title=\"Convert this dataframe to an interactive table.\"\n",
              "            style=\"display:none;\">\n",
              "\n",
              "  <svg xmlns=\"http://www.w3.org/2000/svg\" height=\"24px\" viewBox=\"0 -960 960 960\">\n",
              "    <path d=\"M120-120v-720h720v720H120Zm60-500h600v-160H180v160Zm220 220h160v-160H400v160Zm0 220h160v-160H400v160ZM180-400h160v-160H180v160Zm440 0h160v-160H620v160ZM180-180h160v-160H180v160Zm440 0h160v-160H620v160Z\"/>\n",
              "  </svg>\n",
              "    </button>\n",
              "\n",
              "  <style>\n",
              "    .colab-df-container {\n",
              "      display:flex;\n",
              "      gap: 12px;\n",
              "    }\n",
              "\n",
              "    .colab-df-convert {\n",
              "      background-color: #E8F0FE;\n",
              "      border: none;\n",
              "      border-radius: 50%;\n",
              "      cursor: pointer;\n",
              "      display: none;\n",
              "      fill: #1967D2;\n",
              "      height: 32px;\n",
              "      padding: 0 0 0 0;\n",
              "      width: 32px;\n",
              "    }\n",
              "\n",
              "    .colab-df-convert:hover {\n",
              "      background-color: #E2EBFA;\n",
              "      box-shadow: 0px 1px 2px rgba(60, 64, 67, 0.3), 0px 1px 3px 1px rgba(60, 64, 67, 0.15);\n",
              "      fill: #174EA6;\n",
              "    }\n",
              "\n",
              "    .colab-df-buttons div {\n",
              "      margin-bottom: 4px;\n",
              "    }\n",
              "\n",
              "    [theme=dark] .colab-df-convert {\n",
              "      background-color: #3B4455;\n",
              "      fill: #D2E3FC;\n",
              "    }\n",
              "\n",
              "    [theme=dark] .colab-df-convert:hover {\n",
              "      background-color: #434B5C;\n",
              "      box-shadow: 0px 1px 3px 1px rgba(0, 0, 0, 0.15);\n",
              "      filter: drop-shadow(0px 1px 2px rgba(0, 0, 0, 0.3));\n",
              "      fill: #FFFFFF;\n",
              "    }\n",
              "  </style>\n",
              "\n",
              "    <script>\n",
              "      const buttonEl =\n",
              "        document.querySelector('#df-debd883b-ae7d-428f-8c52-9e9e9908003b button.colab-df-convert');\n",
              "      buttonEl.style.display =\n",
              "        google.colab.kernel.accessAllowed ? 'block' : 'none';\n",
              "\n",
              "      async function convertToInteractive(key) {\n",
              "        const element = document.querySelector('#df-debd883b-ae7d-428f-8c52-9e9e9908003b');\n",
              "        const dataTable =\n",
              "          await google.colab.kernel.invokeFunction('convertToInteractive',\n",
              "                                                    [key], {});\n",
              "        if (!dataTable) return;\n",
              "\n",
              "        const docLinkHtml = 'Like what you see? Visit the ' +\n",
              "          '<a target=\"_blank\" href=https://colab.research.google.com/notebooks/data_table.ipynb>data table notebook</a>'\n",
              "          + ' to learn more about interactive tables.';\n",
              "        element.innerHTML = '';\n",
              "        dataTable['output_type'] = 'display_data';\n",
              "        await google.colab.output.renderOutput(dataTable, element);\n",
              "        const docLink = document.createElement('div');\n",
              "        docLink.innerHTML = docLinkHtml;\n",
              "        element.appendChild(docLink);\n",
              "      }\n",
              "    </script>\n",
              "  </div>\n",
              "\n",
              "\n",
              "<div id=\"df-b361d765-d828-4fc9-b22a-ac6fb9d343ce\">\n",
              "  <button class=\"colab-df-quickchart\" onclick=\"quickchart('df-b361d765-d828-4fc9-b22a-ac6fb9d343ce')\"\n",
              "            title=\"Suggest charts\"\n",
              "            style=\"display:none;\">\n",
              "\n",
              "<svg xmlns=\"http://www.w3.org/2000/svg\" height=\"24px\"viewBox=\"0 0 24 24\"\n",
              "     width=\"24px\">\n",
              "    <g>\n",
              "        <path d=\"M19 3H5c-1.1 0-2 .9-2 2v14c0 1.1.9 2 2 2h14c1.1 0 2-.9 2-2V5c0-1.1-.9-2-2-2zM9 17H7v-7h2v7zm4 0h-2V7h2v10zm4 0h-2v-4h2v4z\"/>\n",
              "    </g>\n",
              "</svg>\n",
              "  </button>\n",
              "\n",
              "<style>\n",
              "  .colab-df-quickchart {\n",
              "      --bg-color: #E8F0FE;\n",
              "      --fill-color: #1967D2;\n",
              "      --hover-bg-color: #E2EBFA;\n",
              "      --hover-fill-color: #174EA6;\n",
              "      --disabled-fill-color: #AAA;\n",
              "      --disabled-bg-color: #DDD;\n",
              "  }\n",
              "\n",
              "  [theme=dark] .colab-df-quickchart {\n",
              "      --bg-color: #3B4455;\n",
              "      --fill-color: #D2E3FC;\n",
              "      --hover-bg-color: #434B5C;\n",
              "      --hover-fill-color: #FFFFFF;\n",
              "      --disabled-bg-color: #3B4455;\n",
              "      --disabled-fill-color: #666;\n",
              "  }\n",
              "\n",
              "  .colab-df-quickchart {\n",
              "    background-color: var(--bg-color);\n",
              "    border: none;\n",
              "    border-radius: 50%;\n",
              "    cursor: pointer;\n",
              "    display: none;\n",
              "    fill: var(--fill-color);\n",
              "    height: 32px;\n",
              "    padding: 0;\n",
              "    width: 32px;\n",
              "  }\n",
              "\n",
              "  .colab-df-quickchart:hover {\n",
              "    background-color: var(--hover-bg-color);\n",
              "    box-shadow: 0 1px 2px rgba(60, 64, 67, 0.3), 0 1px 3px 1px rgba(60, 64, 67, 0.15);\n",
              "    fill: var(--button-hover-fill-color);\n",
              "  }\n",
              "\n",
              "  .colab-df-quickchart-complete:disabled,\n",
              "  .colab-df-quickchart-complete:disabled:hover {\n",
              "    background-color: var(--disabled-bg-color);\n",
              "    fill: var(--disabled-fill-color);\n",
              "    box-shadow: none;\n",
              "  }\n",
              "\n",
              "  .colab-df-spinner {\n",
              "    border: 2px solid var(--fill-color);\n",
              "    border-color: transparent;\n",
              "    border-bottom-color: var(--fill-color);\n",
              "    animation:\n",
              "      spin 1s steps(1) infinite;\n",
              "  }\n",
              "\n",
              "  @keyframes spin {\n",
              "    0% {\n",
              "      border-color: transparent;\n",
              "      border-bottom-color: var(--fill-color);\n",
              "      border-left-color: var(--fill-color);\n",
              "    }\n",
              "    20% {\n",
              "      border-color: transparent;\n",
              "      border-left-color: var(--fill-color);\n",
              "      border-top-color: var(--fill-color);\n",
              "    }\n",
              "    30% {\n",
              "      border-color: transparent;\n",
              "      border-left-color: var(--fill-color);\n",
              "      border-top-color: var(--fill-color);\n",
              "      border-right-color: var(--fill-color);\n",
              "    }\n",
              "    40% {\n",
              "      border-color: transparent;\n",
              "      border-right-color: var(--fill-color);\n",
              "      border-top-color: var(--fill-color);\n",
              "    }\n",
              "    60% {\n",
              "      border-color: transparent;\n",
              "      border-right-color: var(--fill-color);\n",
              "    }\n",
              "    80% {\n",
              "      border-color: transparent;\n",
              "      border-right-color: var(--fill-color);\n",
              "      border-bottom-color: var(--fill-color);\n",
              "    }\n",
              "    90% {\n",
              "      border-color: transparent;\n",
              "      border-bottom-color: var(--fill-color);\n",
              "    }\n",
              "  }\n",
              "</style>\n",
              "\n",
              "  <script>\n",
              "    async function quickchart(key) {\n",
              "      const quickchartButtonEl =\n",
              "        document.querySelector('#' + key + ' button');\n",
              "      quickchartButtonEl.disabled = true;  // To prevent multiple clicks.\n",
              "      quickchartButtonEl.classList.add('colab-df-spinner');\n",
              "      try {\n",
              "        const charts = await google.colab.kernel.invokeFunction(\n",
              "            'suggestCharts', [key], {});\n",
              "      } catch (error) {\n",
              "        console.error('Error during call to suggestCharts:', error);\n",
              "      }\n",
              "      quickchartButtonEl.classList.remove('colab-df-spinner');\n",
              "      quickchartButtonEl.classList.add('colab-df-quickchart-complete');\n",
              "    }\n",
              "    (() => {\n",
              "      let quickchartButtonEl =\n",
              "        document.querySelector('#df-b361d765-d828-4fc9-b22a-ac6fb9d343ce button');\n",
              "      quickchartButtonEl.style.display =\n",
              "        google.colab.kernel.accessAllowed ? 'block' : 'none';\n",
              "    })();\n",
              "  </script>\n",
              "</div>\n",
              "\n",
              "    </div>\n",
              "  </div>\n"
            ],
            "application/vnd.google.colaboratory.intrinsic+json": {
              "type": "dataframe",
              "variable_name": "insurance",
              "summary": "{\n  \"name\": \"insurance\",\n  \"rows\": 1338,\n  \"fields\": [\n    {\n      \"column\": \"age\",\n      \"properties\": {\n        \"dtype\": \"number\",\n        \"std\": 14,\n        \"min\": 18,\n        \"max\": 64,\n        \"num_unique_values\": 47,\n        \"samples\": [\n          21,\n          45,\n          36\n        ],\n        \"semantic_type\": \"\",\n        \"description\": \"\"\n      }\n    },\n    {\n      \"column\": \"sex\",\n      \"properties\": {\n        \"dtype\": \"category\",\n        \"num_unique_values\": 2,\n        \"samples\": [\n          \"male\",\n          \"female\"\n        ],\n        \"semantic_type\": \"\",\n        \"description\": \"\"\n      }\n    },\n    {\n      \"column\": \"bmi\",\n      \"properties\": {\n        \"dtype\": \"number\",\n        \"std\": 6.098186911679014,\n        \"min\": 15.96,\n        \"max\": 53.13,\n        \"num_unique_values\": 548,\n        \"samples\": [\n          23.18,\n          26.885\n        ],\n        \"semantic_type\": \"\",\n        \"description\": \"\"\n      }\n    },\n    {\n      \"column\": \"children\",\n      \"properties\": {\n        \"dtype\": \"number\",\n        \"std\": 1,\n        \"min\": 0,\n        \"max\": 5,\n        \"num_unique_values\": 6,\n        \"samples\": [\n          0,\n          1\n        ],\n        \"semantic_type\": \"\",\n        \"description\": \"\"\n      }\n    },\n    {\n      \"column\": \"smoker\",\n      \"properties\": {\n        \"dtype\": \"category\",\n        \"num_unique_values\": 2,\n        \"samples\": [\n          \"no\",\n          \"yes\"\n        ],\n        \"semantic_type\": \"\",\n        \"description\": \"\"\n      }\n    },\n    {\n      \"column\": \"region\",\n      \"properties\": {\n        \"dtype\": \"category\",\n        \"num_unique_values\": 4,\n        \"samples\": [\n          \"southeast\",\n          \"northeast\"\n        ],\n        \"semantic_type\": \"\",\n        \"description\": \"\"\n      }\n    },\n    {\n      \"column\": \"charges\",\n      \"properties\": {\n        \"dtype\": \"number\",\n        \"std\": 12110.011236694001,\n        \"min\": 1121.8739,\n        \"max\": 63770.42801,\n        \"num_unique_values\": 1337,\n        \"samples\": [\n          8688.85885,\n          5708.867\n        ],\n        \"semantic_type\": \"\",\n        \"description\": \"\"\n      }\n    }\n  ]\n}"
            }
          },
          "metadata": {},
          "execution_count": 57
        }
      ]
    },
    {
      "cell_type": "code",
      "source": [
        "insurance_one_hot = pd.get_dummies(insurance)\n",
        "insurance_one_hot.head()"
      ],
      "metadata": {
        "id": "XM-85RwEtyj6",
        "colab": {
          "base_uri": "https://localhost:8080/",
          "height": 206
        },
        "outputId": "bb4c1935-02cf-453e-998c-9dac48fc3c97"
      },
      "execution_count": null,
      "outputs": [
        {
          "output_type": "execute_result",
          "data": {
            "text/plain": [
              "   age     bmi  children      charges  sex_female  sex_male  smoker_no  \\\n",
              "0   19  27.900         0  16884.92400        True     False      False   \n",
              "1   18  33.770         1   1725.55230       False      True       True   \n",
              "2   28  33.000         3   4449.46200       False      True       True   \n",
              "3   33  22.705         0  21984.47061       False      True       True   \n",
              "4   32  28.880         0   3866.85520       False      True       True   \n",
              "\n",
              "   smoker_yes  region_northeast  region_northwest  region_southeast  \\\n",
              "0        True             False             False             False   \n",
              "1       False             False             False              True   \n",
              "2       False             False             False              True   \n",
              "3       False             False              True             False   \n",
              "4       False             False              True             False   \n",
              "\n",
              "   region_southwest  \n",
              "0              True  \n",
              "1             False  \n",
              "2             False  \n",
              "3             False  \n",
              "4             False  "
            ],
            "text/html": [
              "\n",
              "  <div id=\"df-31495d85-3a62-42aa-abeb-dd68560d4a18\" class=\"colab-df-container\">\n",
              "    <div>\n",
              "<style scoped>\n",
              "    .dataframe tbody tr th:only-of-type {\n",
              "        vertical-align: middle;\n",
              "    }\n",
              "\n",
              "    .dataframe tbody tr th {\n",
              "        vertical-align: top;\n",
              "    }\n",
              "\n",
              "    .dataframe thead th {\n",
              "        text-align: right;\n",
              "    }\n",
              "</style>\n",
              "<table border=\"1\" class=\"dataframe\">\n",
              "  <thead>\n",
              "    <tr style=\"text-align: right;\">\n",
              "      <th></th>\n",
              "      <th>age</th>\n",
              "      <th>bmi</th>\n",
              "      <th>children</th>\n",
              "      <th>charges</th>\n",
              "      <th>sex_female</th>\n",
              "      <th>sex_male</th>\n",
              "      <th>smoker_no</th>\n",
              "      <th>smoker_yes</th>\n",
              "      <th>region_northeast</th>\n",
              "      <th>region_northwest</th>\n",
              "      <th>region_southeast</th>\n",
              "      <th>region_southwest</th>\n",
              "    </tr>\n",
              "  </thead>\n",
              "  <tbody>\n",
              "    <tr>\n",
              "      <th>0</th>\n",
              "      <td>19</td>\n",
              "      <td>27.900</td>\n",
              "      <td>0</td>\n",
              "      <td>16884.92400</td>\n",
              "      <td>True</td>\n",
              "      <td>False</td>\n",
              "      <td>False</td>\n",
              "      <td>True</td>\n",
              "      <td>False</td>\n",
              "      <td>False</td>\n",
              "      <td>False</td>\n",
              "      <td>True</td>\n",
              "    </tr>\n",
              "    <tr>\n",
              "      <th>1</th>\n",
              "      <td>18</td>\n",
              "      <td>33.770</td>\n",
              "      <td>1</td>\n",
              "      <td>1725.55230</td>\n",
              "      <td>False</td>\n",
              "      <td>True</td>\n",
              "      <td>True</td>\n",
              "      <td>False</td>\n",
              "      <td>False</td>\n",
              "      <td>False</td>\n",
              "      <td>True</td>\n",
              "      <td>False</td>\n",
              "    </tr>\n",
              "    <tr>\n",
              "      <th>2</th>\n",
              "      <td>28</td>\n",
              "      <td>33.000</td>\n",
              "      <td>3</td>\n",
              "      <td>4449.46200</td>\n",
              "      <td>False</td>\n",
              "      <td>True</td>\n",
              "      <td>True</td>\n",
              "      <td>False</td>\n",
              "      <td>False</td>\n",
              "      <td>False</td>\n",
              "      <td>True</td>\n",
              "      <td>False</td>\n",
              "    </tr>\n",
              "    <tr>\n",
              "      <th>3</th>\n",
              "      <td>33</td>\n",
              "      <td>22.705</td>\n",
              "      <td>0</td>\n",
              "      <td>21984.47061</td>\n",
              "      <td>False</td>\n",
              "      <td>True</td>\n",
              "      <td>True</td>\n",
              "      <td>False</td>\n",
              "      <td>False</td>\n",
              "      <td>True</td>\n",
              "      <td>False</td>\n",
              "      <td>False</td>\n",
              "    </tr>\n",
              "    <tr>\n",
              "      <th>4</th>\n",
              "      <td>32</td>\n",
              "      <td>28.880</td>\n",
              "      <td>0</td>\n",
              "      <td>3866.85520</td>\n",
              "      <td>False</td>\n",
              "      <td>True</td>\n",
              "      <td>True</td>\n",
              "      <td>False</td>\n",
              "      <td>False</td>\n",
              "      <td>True</td>\n",
              "      <td>False</td>\n",
              "      <td>False</td>\n",
              "    </tr>\n",
              "  </tbody>\n",
              "</table>\n",
              "</div>\n",
              "    <div class=\"colab-df-buttons\">\n",
              "\n",
              "  <div class=\"colab-df-container\">\n",
              "    <button class=\"colab-df-convert\" onclick=\"convertToInteractive('df-31495d85-3a62-42aa-abeb-dd68560d4a18')\"\n",
              "            title=\"Convert this dataframe to an interactive table.\"\n",
              "            style=\"display:none;\">\n",
              "\n",
              "  <svg xmlns=\"http://www.w3.org/2000/svg\" height=\"24px\" viewBox=\"0 -960 960 960\">\n",
              "    <path d=\"M120-120v-720h720v720H120Zm60-500h600v-160H180v160Zm220 220h160v-160H400v160Zm0 220h160v-160H400v160ZM180-400h160v-160H180v160Zm440 0h160v-160H620v160ZM180-180h160v-160H180v160Zm440 0h160v-160H620v160Z\"/>\n",
              "  </svg>\n",
              "    </button>\n",
              "\n",
              "  <style>\n",
              "    .colab-df-container {\n",
              "      display:flex;\n",
              "      gap: 12px;\n",
              "    }\n",
              "\n",
              "    .colab-df-convert {\n",
              "      background-color: #E8F0FE;\n",
              "      border: none;\n",
              "      border-radius: 50%;\n",
              "      cursor: pointer;\n",
              "      display: none;\n",
              "      fill: #1967D2;\n",
              "      height: 32px;\n",
              "      padding: 0 0 0 0;\n",
              "      width: 32px;\n",
              "    }\n",
              "\n",
              "    .colab-df-convert:hover {\n",
              "      background-color: #E2EBFA;\n",
              "      box-shadow: 0px 1px 2px rgba(60, 64, 67, 0.3), 0px 1px 3px 1px rgba(60, 64, 67, 0.15);\n",
              "      fill: #174EA6;\n",
              "    }\n",
              "\n",
              "    .colab-df-buttons div {\n",
              "      margin-bottom: 4px;\n",
              "    }\n",
              "\n",
              "    [theme=dark] .colab-df-convert {\n",
              "      background-color: #3B4455;\n",
              "      fill: #D2E3FC;\n",
              "    }\n",
              "\n",
              "    [theme=dark] .colab-df-convert:hover {\n",
              "      background-color: #434B5C;\n",
              "      box-shadow: 0px 1px 3px 1px rgba(0, 0, 0, 0.15);\n",
              "      filter: drop-shadow(0px 1px 2px rgba(0, 0, 0, 0.3));\n",
              "      fill: #FFFFFF;\n",
              "    }\n",
              "  </style>\n",
              "\n",
              "    <script>\n",
              "      const buttonEl =\n",
              "        document.querySelector('#df-31495d85-3a62-42aa-abeb-dd68560d4a18 button.colab-df-convert');\n",
              "      buttonEl.style.display =\n",
              "        google.colab.kernel.accessAllowed ? 'block' : 'none';\n",
              "\n",
              "      async function convertToInteractive(key) {\n",
              "        const element = document.querySelector('#df-31495d85-3a62-42aa-abeb-dd68560d4a18');\n",
              "        const dataTable =\n",
              "          await google.colab.kernel.invokeFunction('convertToInteractive',\n",
              "                                                    [key], {});\n",
              "        if (!dataTable) return;\n",
              "\n",
              "        const docLinkHtml = 'Like what you see? Visit the ' +\n",
              "          '<a target=\"_blank\" href=https://colab.research.google.com/notebooks/data_table.ipynb>data table notebook</a>'\n",
              "          + ' to learn more about interactive tables.';\n",
              "        element.innerHTML = '';\n",
              "        dataTable['output_type'] = 'display_data';\n",
              "        await google.colab.output.renderOutput(dataTable, element);\n",
              "        const docLink = document.createElement('div');\n",
              "        docLink.innerHTML = docLinkHtml;\n",
              "        element.appendChild(docLink);\n",
              "      }\n",
              "    </script>\n",
              "  </div>\n",
              "\n",
              "\n",
              "<div id=\"df-4e3b2b5b-dae9-4d72-bb3a-d8ef41f0e556\">\n",
              "  <button class=\"colab-df-quickchart\" onclick=\"quickchart('df-4e3b2b5b-dae9-4d72-bb3a-d8ef41f0e556')\"\n",
              "            title=\"Suggest charts\"\n",
              "            style=\"display:none;\">\n",
              "\n",
              "<svg xmlns=\"http://www.w3.org/2000/svg\" height=\"24px\"viewBox=\"0 0 24 24\"\n",
              "     width=\"24px\">\n",
              "    <g>\n",
              "        <path d=\"M19 3H5c-1.1 0-2 .9-2 2v14c0 1.1.9 2 2 2h14c1.1 0 2-.9 2-2V5c0-1.1-.9-2-2-2zM9 17H7v-7h2v7zm4 0h-2V7h2v10zm4 0h-2v-4h2v4z\"/>\n",
              "    </g>\n",
              "</svg>\n",
              "  </button>\n",
              "\n",
              "<style>\n",
              "  .colab-df-quickchart {\n",
              "      --bg-color: #E8F0FE;\n",
              "      --fill-color: #1967D2;\n",
              "      --hover-bg-color: #E2EBFA;\n",
              "      --hover-fill-color: #174EA6;\n",
              "      --disabled-fill-color: #AAA;\n",
              "      --disabled-bg-color: #DDD;\n",
              "  }\n",
              "\n",
              "  [theme=dark] .colab-df-quickchart {\n",
              "      --bg-color: #3B4455;\n",
              "      --fill-color: #D2E3FC;\n",
              "      --hover-bg-color: #434B5C;\n",
              "      --hover-fill-color: #FFFFFF;\n",
              "      --disabled-bg-color: #3B4455;\n",
              "      --disabled-fill-color: #666;\n",
              "  }\n",
              "\n",
              "  .colab-df-quickchart {\n",
              "    background-color: var(--bg-color);\n",
              "    border: none;\n",
              "    border-radius: 50%;\n",
              "    cursor: pointer;\n",
              "    display: none;\n",
              "    fill: var(--fill-color);\n",
              "    height: 32px;\n",
              "    padding: 0;\n",
              "    width: 32px;\n",
              "  }\n",
              "\n",
              "  .colab-df-quickchart:hover {\n",
              "    background-color: var(--hover-bg-color);\n",
              "    box-shadow: 0 1px 2px rgba(60, 64, 67, 0.3), 0 1px 3px 1px rgba(60, 64, 67, 0.15);\n",
              "    fill: var(--button-hover-fill-color);\n",
              "  }\n",
              "\n",
              "  .colab-df-quickchart-complete:disabled,\n",
              "  .colab-df-quickchart-complete:disabled:hover {\n",
              "    background-color: var(--disabled-bg-color);\n",
              "    fill: var(--disabled-fill-color);\n",
              "    box-shadow: none;\n",
              "  }\n",
              "\n",
              "  .colab-df-spinner {\n",
              "    border: 2px solid var(--fill-color);\n",
              "    border-color: transparent;\n",
              "    border-bottom-color: var(--fill-color);\n",
              "    animation:\n",
              "      spin 1s steps(1) infinite;\n",
              "  }\n",
              "\n",
              "  @keyframes spin {\n",
              "    0% {\n",
              "      border-color: transparent;\n",
              "      border-bottom-color: var(--fill-color);\n",
              "      border-left-color: var(--fill-color);\n",
              "    }\n",
              "    20% {\n",
              "      border-color: transparent;\n",
              "      border-left-color: var(--fill-color);\n",
              "      border-top-color: var(--fill-color);\n",
              "    }\n",
              "    30% {\n",
              "      border-color: transparent;\n",
              "      border-left-color: var(--fill-color);\n",
              "      border-top-color: var(--fill-color);\n",
              "      border-right-color: var(--fill-color);\n",
              "    }\n",
              "    40% {\n",
              "      border-color: transparent;\n",
              "      border-right-color: var(--fill-color);\n",
              "      border-top-color: var(--fill-color);\n",
              "    }\n",
              "    60% {\n",
              "      border-color: transparent;\n",
              "      border-right-color: var(--fill-color);\n",
              "    }\n",
              "    80% {\n",
              "      border-color: transparent;\n",
              "      border-right-color: var(--fill-color);\n",
              "      border-bottom-color: var(--fill-color);\n",
              "    }\n",
              "    90% {\n",
              "      border-color: transparent;\n",
              "      border-bottom-color: var(--fill-color);\n",
              "    }\n",
              "  }\n",
              "</style>\n",
              "\n",
              "  <script>\n",
              "    async function quickchart(key) {\n",
              "      const quickchartButtonEl =\n",
              "        document.querySelector('#' + key + ' button');\n",
              "      quickchartButtonEl.disabled = true;  // To prevent multiple clicks.\n",
              "      quickchartButtonEl.classList.add('colab-df-spinner');\n",
              "      try {\n",
              "        const charts = await google.colab.kernel.invokeFunction(\n",
              "            'suggestCharts', [key], {});\n",
              "      } catch (error) {\n",
              "        console.error('Error during call to suggestCharts:', error);\n",
              "      }\n",
              "      quickchartButtonEl.classList.remove('colab-df-spinner');\n",
              "      quickchartButtonEl.classList.add('colab-df-quickchart-complete');\n",
              "    }\n",
              "    (() => {\n",
              "      let quickchartButtonEl =\n",
              "        document.querySelector('#df-4e3b2b5b-dae9-4d72-bb3a-d8ef41f0e556 button');\n",
              "      quickchartButtonEl.style.display =\n",
              "        google.colab.kernel.accessAllowed ? 'block' : 'none';\n",
              "    })();\n",
              "  </script>\n",
              "</div>\n",
              "\n",
              "    </div>\n",
              "  </div>\n"
            ],
            "application/vnd.google.colaboratory.intrinsic+json": {
              "type": "dataframe",
              "variable_name": "insurance_one_hot",
              "summary": "{\n  \"name\": \"insurance_one_hot\",\n  \"rows\": 1338,\n  \"fields\": [\n    {\n      \"column\": \"age\",\n      \"properties\": {\n        \"dtype\": \"number\",\n        \"std\": 14,\n        \"min\": 18,\n        \"max\": 64,\n        \"num_unique_values\": 47,\n        \"samples\": [\n          21,\n          45,\n          36\n        ],\n        \"semantic_type\": \"\",\n        \"description\": \"\"\n      }\n    },\n    {\n      \"column\": \"bmi\",\n      \"properties\": {\n        \"dtype\": \"number\",\n        \"std\": 6.098186911679014,\n        \"min\": 15.96,\n        \"max\": 53.13,\n        \"num_unique_values\": 548,\n        \"samples\": [\n          23.18,\n          26.885,\n          29.26\n        ],\n        \"semantic_type\": \"\",\n        \"description\": \"\"\n      }\n    },\n    {\n      \"column\": \"children\",\n      \"properties\": {\n        \"dtype\": \"number\",\n        \"std\": 1,\n        \"min\": 0,\n        \"max\": 5,\n        \"num_unique_values\": 6,\n        \"samples\": [\n          0,\n          1,\n          4\n        ],\n        \"semantic_type\": \"\",\n        \"description\": \"\"\n      }\n    },\n    {\n      \"column\": \"charges\",\n      \"properties\": {\n        \"dtype\": \"number\",\n        \"std\": 12110.011236694001,\n        \"min\": 1121.8739,\n        \"max\": 63770.42801,\n        \"num_unique_values\": 1337,\n        \"samples\": [\n          8688.85885,\n          5708.867,\n          11436.73815\n        ],\n        \"semantic_type\": \"\",\n        \"description\": \"\"\n      }\n    },\n    {\n      \"column\": \"sex_female\",\n      \"properties\": {\n        \"dtype\": \"boolean\",\n        \"num_unique_values\": 2,\n        \"samples\": [\n          false,\n          true\n        ],\n        \"semantic_type\": \"\",\n        \"description\": \"\"\n      }\n    },\n    {\n      \"column\": \"sex_male\",\n      \"properties\": {\n        \"dtype\": \"boolean\",\n        \"num_unique_values\": 2,\n        \"samples\": [\n          true,\n          false\n        ],\n        \"semantic_type\": \"\",\n        \"description\": \"\"\n      }\n    },\n    {\n      \"column\": \"smoker_no\",\n      \"properties\": {\n        \"dtype\": \"boolean\",\n        \"num_unique_values\": 2,\n        \"samples\": [\n          true,\n          false\n        ],\n        \"semantic_type\": \"\",\n        \"description\": \"\"\n      }\n    },\n    {\n      \"column\": \"smoker_yes\",\n      \"properties\": {\n        \"dtype\": \"boolean\",\n        \"num_unique_values\": 2,\n        \"samples\": [\n          false,\n          true\n        ],\n        \"semantic_type\": \"\",\n        \"description\": \"\"\n      }\n    },\n    {\n      \"column\": \"region_northeast\",\n      \"properties\": {\n        \"dtype\": \"boolean\",\n        \"num_unique_values\": 2,\n        \"samples\": [\n          true,\n          false\n        ],\n        \"semantic_type\": \"\",\n        \"description\": \"\"\n      }\n    },\n    {\n      \"column\": \"region_northwest\",\n      \"properties\": {\n        \"dtype\": \"boolean\",\n        \"num_unique_values\": 2,\n        \"samples\": [\n          true,\n          false\n        ],\n        \"semantic_type\": \"\",\n        \"description\": \"\"\n      }\n    },\n    {\n      \"column\": \"region_southeast\",\n      \"properties\": {\n        \"dtype\": \"boolean\",\n        \"num_unique_values\": 2,\n        \"samples\": [\n          true,\n          false\n        ],\n        \"semantic_type\": \"\",\n        \"description\": \"\"\n      }\n    },\n    {\n      \"column\": \"region_southwest\",\n      \"properties\": {\n        \"dtype\": \"boolean\",\n        \"num_unique_values\": 2,\n        \"samples\": [\n          false,\n          true\n        ],\n        \"semantic_type\": \"\",\n        \"description\": \"\"\n      }\n    }\n  ]\n}"
            }
          },
          "metadata": {},
          "execution_count": 58
        }
      ]
    },
    {
      "cell_type": "code",
      "source": [
        "columns = ['sex_female','sex_male','smoker_no','smoker_yes','region_northeast','region_northwest','region_southeast','region_southwest']\n",
        "for column in columns:\n",
        "  insurance_one_hot[column] = insurance_one_hot[column].replace({True: 1, False: 0})\n",
        "\n",
        "insurance_one_hot.head()"
      ],
      "metadata": {
        "id": "2Ilan4xT1QzC",
        "colab": {
          "base_uri": "https://localhost:8080/",
          "height": 206
        },
        "outputId": "4ae8d752-b5a0-4016-df7b-6e052cad2fcc"
      },
      "execution_count": null,
      "outputs": [
        {
          "output_type": "execute_result",
          "data": {
            "text/plain": [
              "   age     bmi  children      charges  sex_female  sex_male  smoker_no  \\\n",
              "0   19  27.900         0  16884.92400           1         0          0   \n",
              "1   18  33.770         1   1725.55230           0         1          1   \n",
              "2   28  33.000         3   4449.46200           0         1          1   \n",
              "3   33  22.705         0  21984.47061           0         1          1   \n",
              "4   32  28.880         0   3866.85520           0         1          1   \n",
              "\n",
              "   smoker_yes  region_northeast  region_northwest  region_southeast  \\\n",
              "0           1                 0                 0                 0   \n",
              "1           0                 0                 0                 1   \n",
              "2           0                 0                 0                 1   \n",
              "3           0                 0                 1                 0   \n",
              "4           0                 0                 1                 0   \n",
              "\n",
              "   region_southwest  \n",
              "0                 1  \n",
              "1                 0  \n",
              "2                 0  \n",
              "3                 0  \n",
              "4                 0  "
            ],
            "text/html": [
              "\n",
              "  <div id=\"df-8b413c4b-0f02-4691-9124-97990bc02c25\" class=\"colab-df-container\">\n",
              "    <div>\n",
              "<style scoped>\n",
              "    .dataframe tbody tr th:only-of-type {\n",
              "        vertical-align: middle;\n",
              "    }\n",
              "\n",
              "    .dataframe tbody tr th {\n",
              "        vertical-align: top;\n",
              "    }\n",
              "\n",
              "    .dataframe thead th {\n",
              "        text-align: right;\n",
              "    }\n",
              "</style>\n",
              "<table border=\"1\" class=\"dataframe\">\n",
              "  <thead>\n",
              "    <tr style=\"text-align: right;\">\n",
              "      <th></th>\n",
              "      <th>age</th>\n",
              "      <th>bmi</th>\n",
              "      <th>children</th>\n",
              "      <th>charges</th>\n",
              "      <th>sex_female</th>\n",
              "      <th>sex_male</th>\n",
              "      <th>smoker_no</th>\n",
              "      <th>smoker_yes</th>\n",
              "      <th>region_northeast</th>\n",
              "      <th>region_northwest</th>\n",
              "      <th>region_southeast</th>\n",
              "      <th>region_southwest</th>\n",
              "    </tr>\n",
              "  </thead>\n",
              "  <tbody>\n",
              "    <tr>\n",
              "      <th>0</th>\n",
              "      <td>19</td>\n",
              "      <td>27.900</td>\n",
              "      <td>0</td>\n",
              "      <td>16884.92400</td>\n",
              "      <td>1</td>\n",
              "      <td>0</td>\n",
              "      <td>0</td>\n",
              "      <td>1</td>\n",
              "      <td>0</td>\n",
              "      <td>0</td>\n",
              "      <td>0</td>\n",
              "      <td>1</td>\n",
              "    </tr>\n",
              "    <tr>\n",
              "      <th>1</th>\n",
              "      <td>18</td>\n",
              "      <td>33.770</td>\n",
              "      <td>1</td>\n",
              "      <td>1725.55230</td>\n",
              "      <td>0</td>\n",
              "      <td>1</td>\n",
              "      <td>1</td>\n",
              "      <td>0</td>\n",
              "      <td>0</td>\n",
              "      <td>0</td>\n",
              "      <td>1</td>\n",
              "      <td>0</td>\n",
              "    </tr>\n",
              "    <tr>\n",
              "      <th>2</th>\n",
              "      <td>28</td>\n",
              "      <td>33.000</td>\n",
              "      <td>3</td>\n",
              "      <td>4449.46200</td>\n",
              "      <td>0</td>\n",
              "      <td>1</td>\n",
              "      <td>1</td>\n",
              "      <td>0</td>\n",
              "      <td>0</td>\n",
              "      <td>0</td>\n",
              "      <td>1</td>\n",
              "      <td>0</td>\n",
              "    </tr>\n",
              "    <tr>\n",
              "      <th>3</th>\n",
              "      <td>33</td>\n",
              "      <td>22.705</td>\n",
              "      <td>0</td>\n",
              "      <td>21984.47061</td>\n",
              "      <td>0</td>\n",
              "      <td>1</td>\n",
              "      <td>1</td>\n",
              "      <td>0</td>\n",
              "      <td>0</td>\n",
              "      <td>1</td>\n",
              "      <td>0</td>\n",
              "      <td>0</td>\n",
              "    </tr>\n",
              "    <tr>\n",
              "      <th>4</th>\n",
              "      <td>32</td>\n",
              "      <td>28.880</td>\n",
              "      <td>0</td>\n",
              "      <td>3866.85520</td>\n",
              "      <td>0</td>\n",
              "      <td>1</td>\n",
              "      <td>1</td>\n",
              "      <td>0</td>\n",
              "      <td>0</td>\n",
              "      <td>1</td>\n",
              "      <td>0</td>\n",
              "      <td>0</td>\n",
              "    </tr>\n",
              "  </tbody>\n",
              "</table>\n",
              "</div>\n",
              "    <div class=\"colab-df-buttons\">\n",
              "\n",
              "  <div class=\"colab-df-container\">\n",
              "    <button class=\"colab-df-convert\" onclick=\"convertToInteractive('df-8b413c4b-0f02-4691-9124-97990bc02c25')\"\n",
              "            title=\"Convert this dataframe to an interactive table.\"\n",
              "            style=\"display:none;\">\n",
              "\n",
              "  <svg xmlns=\"http://www.w3.org/2000/svg\" height=\"24px\" viewBox=\"0 -960 960 960\">\n",
              "    <path d=\"M120-120v-720h720v720H120Zm60-500h600v-160H180v160Zm220 220h160v-160H400v160Zm0 220h160v-160H400v160ZM180-400h160v-160H180v160Zm440 0h160v-160H620v160ZM180-180h160v-160H180v160Zm440 0h160v-160H620v160Z\"/>\n",
              "  </svg>\n",
              "    </button>\n",
              "\n",
              "  <style>\n",
              "    .colab-df-container {\n",
              "      display:flex;\n",
              "      gap: 12px;\n",
              "    }\n",
              "\n",
              "    .colab-df-convert {\n",
              "      background-color: #E8F0FE;\n",
              "      border: none;\n",
              "      border-radius: 50%;\n",
              "      cursor: pointer;\n",
              "      display: none;\n",
              "      fill: #1967D2;\n",
              "      height: 32px;\n",
              "      padding: 0 0 0 0;\n",
              "      width: 32px;\n",
              "    }\n",
              "\n",
              "    .colab-df-convert:hover {\n",
              "      background-color: #E2EBFA;\n",
              "      box-shadow: 0px 1px 2px rgba(60, 64, 67, 0.3), 0px 1px 3px 1px rgba(60, 64, 67, 0.15);\n",
              "      fill: #174EA6;\n",
              "    }\n",
              "\n",
              "    .colab-df-buttons div {\n",
              "      margin-bottom: 4px;\n",
              "    }\n",
              "\n",
              "    [theme=dark] .colab-df-convert {\n",
              "      background-color: #3B4455;\n",
              "      fill: #D2E3FC;\n",
              "    }\n",
              "\n",
              "    [theme=dark] .colab-df-convert:hover {\n",
              "      background-color: #434B5C;\n",
              "      box-shadow: 0px 1px 3px 1px rgba(0, 0, 0, 0.15);\n",
              "      filter: drop-shadow(0px 1px 2px rgba(0, 0, 0, 0.3));\n",
              "      fill: #FFFFFF;\n",
              "    }\n",
              "  </style>\n",
              "\n",
              "    <script>\n",
              "      const buttonEl =\n",
              "        document.querySelector('#df-8b413c4b-0f02-4691-9124-97990bc02c25 button.colab-df-convert');\n",
              "      buttonEl.style.display =\n",
              "        google.colab.kernel.accessAllowed ? 'block' : 'none';\n",
              "\n",
              "      async function convertToInteractive(key) {\n",
              "        const element = document.querySelector('#df-8b413c4b-0f02-4691-9124-97990bc02c25');\n",
              "        const dataTable =\n",
              "          await google.colab.kernel.invokeFunction('convertToInteractive',\n",
              "                                                    [key], {});\n",
              "        if (!dataTable) return;\n",
              "\n",
              "        const docLinkHtml = 'Like what you see? Visit the ' +\n",
              "          '<a target=\"_blank\" href=https://colab.research.google.com/notebooks/data_table.ipynb>data table notebook</a>'\n",
              "          + ' to learn more about interactive tables.';\n",
              "        element.innerHTML = '';\n",
              "        dataTable['output_type'] = 'display_data';\n",
              "        await google.colab.output.renderOutput(dataTable, element);\n",
              "        const docLink = document.createElement('div');\n",
              "        docLink.innerHTML = docLinkHtml;\n",
              "        element.appendChild(docLink);\n",
              "      }\n",
              "    </script>\n",
              "  </div>\n",
              "\n",
              "\n",
              "<div id=\"df-46ebf917-3b07-4622-aa32-3cfa6a4ecb19\">\n",
              "  <button class=\"colab-df-quickchart\" onclick=\"quickchart('df-46ebf917-3b07-4622-aa32-3cfa6a4ecb19')\"\n",
              "            title=\"Suggest charts\"\n",
              "            style=\"display:none;\">\n",
              "\n",
              "<svg xmlns=\"http://www.w3.org/2000/svg\" height=\"24px\"viewBox=\"0 0 24 24\"\n",
              "     width=\"24px\">\n",
              "    <g>\n",
              "        <path d=\"M19 3H5c-1.1 0-2 .9-2 2v14c0 1.1.9 2 2 2h14c1.1 0 2-.9 2-2V5c0-1.1-.9-2-2-2zM9 17H7v-7h2v7zm4 0h-2V7h2v10zm4 0h-2v-4h2v4z\"/>\n",
              "    </g>\n",
              "</svg>\n",
              "  </button>\n",
              "\n",
              "<style>\n",
              "  .colab-df-quickchart {\n",
              "      --bg-color: #E8F0FE;\n",
              "      --fill-color: #1967D2;\n",
              "      --hover-bg-color: #E2EBFA;\n",
              "      --hover-fill-color: #174EA6;\n",
              "      --disabled-fill-color: #AAA;\n",
              "      --disabled-bg-color: #DDD;\n",
              "  }\n",
              "\n",
              "  [theme=dark] .colab-df-quickchart {\n",
              "      --bg-color: #3B4455;\n",
              "      --fill-color: #D2E3FC;\n",
              "      --hover-bg-color: #434B5C;\n",
              "      --hover-fill-color: #FFFFFF;\n",
              "      --disabled-bg-color: #3B4455;\n",
              "      --disabled-fill-color: #666;\n",
              "  }\n",
              "\n",
              "  .colab-df-quickchart {\n",
              "    background-color: var(--bg-color);\n",
              "    border: none;\n",
              "    border-radius: 50%;\n",
              "    cursor: pointer;\n",
              "    display: none;\n",
              "    fill: var(--fill-color);\n",
              "    height: 32px;\n",
              "    padding: 0;\n",
              "    width: 32px;\n",
              "  }\n",
              "\n",
              "  .colab-df-quickchart:hover {\n",
              "    background-color: var(--hover-bg-color);\n",
              "    box-shadow: 0 1px 2px rgba(60, 64, 67, 0.3), 0 1px 3px 1px rgba(60, 64, 67, 0.15);\n",
              "    fill: var(--button-hover-fill-color);\n",
              "  }\n",
              "\n",
              "  .colab-df-quickchart-complete:disabled,\n",
              "  .colab-df-quickchart-complete:disabled:hover {\n",
              "    background-color: var(--disabled-bg-color);\n",
              "    fill: var(--disabled-fill-color);\n",
              "    box-shadow: none;\n",
              "  }\n",
              "\n",
              "  .colab-df-spinner {\n",
              "    border: 2px solid var(--fill-color);\n",
              "    border-color: transparent;\n",
              "    border-bottom-color: var(--fill-color);\n",
              "    animation:\n",
              "      spin 1s steps(1) infinite;\n",
              "  }\n",
              "\n",
              "  @keyframes spin {\n",
              "    0% {\n",
              "      border-color: transparent;\n",
              "      border-bottom-color: var(--fill-color);\n",
              "      border-left-color: var(--fill-color);\n",
              "    }\n",
              "    20% {\n",
              "      border-color: transparent;\n",
              "      border-left-color: var(--fill-color);\n",
              "      border-top-color: var(--fill-color);\n",
              "    }\n",
              "    30% {\n",
              "      border-color: transparent;\n",
              "      border-left-color: var(--fill-color);\n",
              "      border-top-color: var(--fill-color);\n",
              "      border-right-color: var(--fill-color);\n",
              "    }\n",
              "    40% {\n",
              "      border-color: transparent;\n",
              "      border-right-color: var(--fill-color);\n",
              "      border-top-color: var(--fill-color);\n",
              "    }\n",
              "    60% {\n",
              "      border-color: transparent;\n",
              "      border-right-color: var(--fill-color);\n",
              "    }\n",
              "    80% {\n",
              "      border-color: transparent;\n",
              "      border-right-color: var(--fill-color);\n",
              "      border-bottom-color: var(--fill-color);\n",
              "    }\n",
              "    90% {\n",
              "      border-color: transparent;\n",
              "      border-bottom-color: var(--fill-color);\n",
              "    }\n",
              "  }\n",
              "</style>\n",
              "\n",
              "  <script>\n",
              "    async function quickchart(key) {\n",
              "      const quickchartButtonEl =\n",
              "        document.querySelector('#' + key + ' button');\n",
              "      quickchartButtonEl.disabled = true;  // To prevent multiple clicks.\n",
              "      quickchartButtonEl.classList.add('colab-df-spinner');\n",
              "      try {\n",
              "        const charts = await google.colab.kernel.invokeFunction(\n",
              "            'suggestCharts', [key], {});\n",
              "      } catch (error) {\n",
              "        console.error('Error during call to suggestCharts:', error);\n",
              "      }\n",
              "      quickchartButtonEl.classList.remove('colab-df-spinner');\n",
              "      quickchartButtonEl.classList.add('colab-df-quickchart-complete');\n",
              "    }\n",
              "    (() => {\n",
              "      let quickchartButtonEl =\n",
              "        document.querySelector('#df-46ebf917-3b07-4622-aa32-3cfa6a4ecb19 button');\n",
              "      quickchartButtonEl.style.display =\n",
              "        google.colab.kernel.accessAllowed ? 'block' : 'none';\n",
              "    })();\n",
              "  </script>\n",
              "</div>\n",
              "\n",
              "    </div>\n",
              "  </div>\n"
            ],
            "application/vnd.google.colaboratory.intrinsic+json": {
              "type": "dataframe",
              "variable_name": "insurance_one_hot",
              "summary": "{\n  \"name\": \"insurance_one_hot\",\n  \"rows\": 1338,\n  \"fields\": [\n    {\n      \"column\": \"age\",\n      \"properties\": {\n        \"dtype\": \"number\",\n        \"std\": 14,\n        \"min\": 18,\n        \"max\": 64,\n        \"num_unique_values\": 47,\n        \"samples\": [\n          21,\n          45,\n          36\n        ],\n        \"semantic_type\": \"\",\n        \"description\": \"\"\n      }\n    },\n    {\n      \"column\": \"bmi\",\n      \"properties\": {\n        \"dtype\": \"number\",\n        \"std\": 6.098186911679014,\n        \"min\": 15.96,\n        \"max\": 53.13,\n        \"num_unique_values\": 548,\n        \"samples\": [\n          23.18,\n          26.885,\n          29.26\n        ],\n        \"semantic_type\": \"\",\n        \"description\": \"\"\n      }\n    },\n    {\n      \"column\": \"children\",\n      \"properties\": {\n        \"dtype\": \"number\",\n        \"std\": 1,\n        \"min\": 0,\n        \"max\": 5,\n        \"num_unique_values\": 6,\n        \"samples\": [\n          0,\n          1,\n          4\n        ],\n        \"semantic_type\": \"\",\n        \"description\": \"\"\n      }\n    },\n    {\n      \"column\": \"charges\",\n      \"properties\": {\n        \"dtype\": \"number\",\n        \"std\": 12110.011236694001,\n        \"min\": 1121.8739,\n        \"max\": 63770.42801,\n        \"num_unique_values\": 1337,\n        \"samples\": [\n          8688.85885,\n          5708.867,\n          11436.73815\n        ],\n        \"semantic_type\": \"\",\n        \"description\": \"\"\n      }\n    },\n    {\n      \"column\": \"sex_female\",\n      \"properties\": {\n        \"dtype\": \"number\",\n        \"std\": 0,\n        \"min\": 0,\n        \"max\": 1,\n        \"num_unique_values\": 2,\n        \"samples\": [\n          0,\n          1\n        ],\n        \"semantic_type\": \"\",\n        \"description\": \"\"\n      }\n    },\n    {\n      \"column\": \"sex_male\",\n      \"properties\": {\n        \"dtype\": \"number\",\n        \"std\": 0,\n        \"min\": 0,\n        \"max\": 1,\n        \"num_unique_values\": 2,\n        \"samples\": [\n          1,\n          0\n        ],\n        \"semantic_type\": \"\",\n        \"description\": \"\"\n      }\n    },\n    {\n      \"column\": \"smoker_no\",\n      \"properties\": {\n        \"dtype\": \"number\",\n        \"std\": 0,\n        \"min\": 0,\n        \"max\": 1,\n        \"num_unique_values\": 2,\n        \"samples\": [\n          1,\n          0\n        ],\n        \"semantic_type\": \"\",\n        \"description\": \"\"\n      }\n    },\n    {\n      \"column\": \"smoker_yes\",\n      \"properties\": {\n        \"dtype\": \"number\",\n        \"std\": 0,\n        \"min\": 0,\n        \"max\": 1,\n        \"num_unique_values\": 2,\n        \"samples\": [\n          0,\n          1\n        ],\n        \"semantic_type\": \"\",\n        \"description\": \"\"\n      }\n    },\n    {\n      \"column\": \"region_northeast\",\n      \"properties\": {\n        \"dtype\": \"number\",\n        \"std\": 0,\n        \"min\": 0,\n        \"max\": 1,\n        \"num_unique_values\": 2,\n        \"samples\": [\n          1,\n          0\n        ],\n        \"semantic_type\": \"\",\n        \"description\": \"\"\n      }\n    },\n    {\n      \"column\": \"region_northwest\",\n      \"properties\": {\n        \"dtype\": \"number\",\n        \"std\": 0,\n        \"min\": 0,\n        \"max\": 1,\n        \"num_unique_values\": 2,\n        \"samples\": [\n          1,\n          0\n        ],\n        \"semantic_type\": \"\",\n        \"description\": \"\"\n      }\n    },\n    {\n      \"column\": \"region_southeast\",\n      \"properties\": {\n        \"dtype\": \"number\",\n        \"std\": 0,\n        \"min\": 0,\n        \"max\": 1,\n        \"num_unique_values\": 2,\n        \"samples\": [\n          1,\n          0\n        ],\n        \"semantic_type\": \"\",\n        \"description\": \"\"\n      }\n    },\n    {\n      \"column\": \"region_southwest\",\n      \"properties\": {\n        \"dtype\": \"number\",\n        \"std\": 0,\n        \"min\": 0,\n        \"max\": 1,\n        \"num_unique_values\": 2,\n        \"samples\": [\n          0,\n          1\n        ],\n        \"semantic_type\": \"\",\n        \"description\": \"\"\n      }\n    }\n  ]\n}"
            }
          },
          "metadata": {},
          "execution_count": 59
        }
      ]
    },
    {
      "cell_type": "code",
      "source": [
        "X = insurance_one_hot.drop(\"charges\", axis=1)\n",
        "y = insurance_one_hot[\"charges\"]"
      ],
      "metadata": {
        "id": "_HFV5VbTvRAG"
      },
      "execution_count": null,
      "outputs": []
    },
    {
      "cell_type": "code",
      "source": [
        "X.head()"
      ],
      "metadata": {
        "id": "5IqL3XRkwG1u",
        "colab": {
          "base_uri": "https://localhost:8080/",
          "height": 206
        },
        "outputId": "86004a93-033f-4766-cba3-d808b5915dac"
      },
      "execution_count": null,
      "outputs": [
        {
          "output_type": "execute_result",
          "data": {
            "text/plain": [
              "   age     bmi  children  sex_female  sex_male  smoker_no  smoker_yes  \\\n",
              "0   19  27.900         0           1         0          0           1   \n",
              "1   18  33.770         1           0         1          1           0   \n",
              "2   28  33.000         3           0         1          1           0   \n",
              "3   33  22.705         0           0         1          1           0   \n",
              "4   32  28.880         0           0         1          1           0   \n",
              "\n",
              "   region_northeast  region_northwest  region_southeast  region_southwest  \n",
              "0                 0                 0                 0                 1  \n",
              "1                 0                 0                 1                 0  \n",
              "2                 0                 0                 1                 0  \n",
              "3                 0                 1                 0                 0  \n",
              "4                 0                 1                 0                 0  "
            ],
            "text/html": [
              "\n",
              "  <div id=\"df-1e216246-6cfb-4dd0-89c5-934faad65e2b\" class=\"colab-df-container\">\n",
              "    <div>\n",
              "<style scoped>\n",
              "    .dataframe tbody tr th:only-of-type {\n",
              "        vertical-align: middle;\n",
              "    }\n",
              "\n",
              "    .dataframe tbody tr th {\n",
              "        vertical-align: top;\n",
              "    }\n",
              "\n",
              "    .dataframe thead th {\n",
              "        text-align: right;\n",
              "    }\n",
              "</style>\n",
              "<table border=\"1\" class=\"dataframe\">\n",
              "  <thead>\n",
              "    <tr style=\"text-align: right;\">\n",
              "      <th></th>\n",
              "      <th>age</th>\n",
              "      <th>bmi</th>\n",
              "      <th>children</th>\n",
              "      <th>sex_female</th>\n",
              "      <th>sex_male</th>\n",
              "      <th>smoker_no</th>\n",
              "      <th>smoker_yes</th>\n",
              "      <th>region_northeast</th>\n",
              "      <th>region_northwest</th>\n",
              "      <th>region_southeast</th>\n",
              "      <th>region_southwest</th>\n",
              "    </tr>\n",
              "  </thead>\n",
              "  <tbody>\n",
              "    <tr>\n",
              "      <th>0</th>\n",
              "      <td>19</td>\n",
              "      <td>27.900</td>\n",
              "      <td>0</td>\n",
              "      <td>1</td>\n",
              "      <td>0</td>\n",
              "      <td>0</td>\n",
              "      <td>1</td>\n",
              "      <td>0</td>\n",
              "      <td>0</td>\n",
              "      <td>0</td>\n",
              "      <td>1</td>\n",
              "    </tr>\n",
              "    <tr>\n",
              "      <th>1</th>\n",
              "      <td>18</td>\n",
              "      <td>33.770</td>\n",
              "      <td>1</td>\n",
              "      <td>0</td>\n",
              "      <td>1</td>\n",
              "      <td>1</td>\n",
              "      <td>0</td>\n",
              "      <td>0</td>\n",
              "      <td>0</td>\n",
              "      <td>1</td>\n",
              "      <td>0</td>\n",
              "    </tr>\n",
              "    <tr>\n",
              "      <th>2</th>\n",
              "      <td>28</td>\n",
              "      <td>33.000</td>\n",
              "      <td>3</td>\n",
              "      <td>0</td>\n",
              "      <td>1</td>\n",
              "      <td>1</td>\n",
              "      <td>0</td>\n",
              "      <td>0</td>\n",
              "      <td>0</td>\n",
              "      <td>1</td>\n",
              "      <td>0</td>\n",
              "    </tr>\n",
              "    <tr>\n",
              "      <th>3</th>\n",
              "      <td>33</td>\n",
              "      <td>22.705</td>\n",
              "      <td>0</td>\n",
              "      <td>0</td>\n",
              "      <td>1</td>\n",
              "      <td>1</td>\n",
              "      <td>0</td>\n",
              "      <td>0</td>\n",
              "      <td>1</td>\n",
              "      <td>0</td>\n",
              "      <td>0</td>\n",
              "    </tr>\n",
              "    <tr>\n",
              "      <th>4</th>\n",
              "      <td>32</td>\n",
              "      <td>28.880</td>\n",
              "      <td>0</td>\n",
              "      <td>0</td>\n",
              "      <td>1</td>\n",
              "      <td>1</td>\n",
              "      <td>0</td>\n",
              "      <td>0</td>\n",
              "      <td>1</td>\n",
              "      <td>0</td>\n",
              "      <td>0</td>\n",
              "    </tr>\n",
              "  </tbody>\n",
              "</table>\n",
              "</div>\n",
              "    <div class=\"colab-df-buttons\">\n",
              "\n",
              "  <div class=\"colab-df-container\">\n",
              "    <button class=\"colab-df-convert\" onclick=\"convertToInteractive('df-1e216246-6cfb-4dd0-89c5-934faad65e2b')\"\n",
              "            title=\"Convert this dataframe to an interactive table.\"\n",
              "            style=\"display:none;\">\n",
              "\n",
              "  <svg xmlns=\"http://www.w3.org/2000/svg\" height=\"24px\" viewBox=\"0 -960 960 960\">\n",
              "    <path d=\"M120-120v-720h720v720H120Zm60-500h600v-160H180v160Zm220 220h160v-160H400v160Zm0 220h160v-160H400v160ZM180-400h160v-160H180v160Zm440 0h160v-160H620v160ZM180-180h160v-160H180v160Zm440 0h160v-160H620v160Z\"/>\n",
              "  </svg>\n",
              "    </button>\n",
              "\n",
              "  <style>\n",
              "    .colab-df-container {\n",
              "      display:flex;\n",
              "      gap: 12px;\n",
              "    }\n",
              "\n",
              "    .colab-df-convert {\n",
              "      background-color: #E8F0FE;\n",
              "      border: none;\n",
              "      border-radius: 50%;\n",
              "      cursor: pointer;\n",
              "      display: none;\n",
              "      fill: #1967D2;\n",
              "      height: 32px;\n",
              "      padding: 0 0 0 0;\n",
              "      width: 32px;\n",
              "    }\n",
              "\n",
              "    .colab-df-convert:hover {\n",
              "      background-color: #E2EBFA;\n",
              "      box-shadow: 0px 1px 2px rgba(60, 64, 67, 0.3), 0px 1px 3px 1px rgba(60, 64, 67, 0.15);\n",
              "      fill: #174EA6;\n",
              "    }\n",
              "\n",
              "    .colab-df-buttons div {\n",
              "      margin-bottom: 4px;\n",
              "    }\n",
              "\n",
              "    [theme=dark] .colab-df-convert {\n",
              "      background-color: #3B4455;\n",
              "      fill: #D2E3FC;\n",
              "    }\n",
              "\n",
              "    [theme=dark] .colab-df-convert:hover {\n",
              "      background-color: #434B5C;\n",
              "      box-shadow: 0px 1px 3px 1px rgba(0, 0, 0, 0.15);\n",
              "      filter: drop-shadow(0px 1px 2px rgba(0, 0, 0, 0.3));\n",
              "      fill: #FFFFFF;\n",
              "    }\n",
              "  </style>\n",
              "\n",
              "    <script>\n",
              "      const buttonEl =\n",
              "        document.querySelector('#df-1e216246-6cfb-4dd0-89c5-934faad65e2b button.colab-df-convert');\n",
              "      buttonEl.style.display =\n",
              "        google.colab.kernel.accessAllowed ? 'block' : 'none';\n",
              "\n",
              "      async function convertToInteractive(key) {\n",
              "        const element = document.querySelector('#df-1e216246-6cfb-4dd0-89c5-934faad65e2b');\n",
              "        const dataTable =\n",
              "          await google.colab.kernel.invokeFunction('convertToInteractive',\n",
              "                                                    [key], {});\n",
              "        if (!dataTable) return;\n",
              "\n",
              "        const docLinkHtml = 'Like what you see? Visit the ' +\n",
              "          '<a target=\"_blank\" href=https://colab.research.google.com/notebooks/data_table.ipynb>data table notebook</a>'\n",
              "          + ' to learn more about interactive tables.';\n",
              "        element.innerHTML = '';\n",
              "        dataTable['output_type'] = 'display_data';\n",
              "        await google.colab.output.renderOutput(dataTable, element);\n",
              "        const docLink = document.createElement('div');\n",
              "        docLink.innerHTML = docLinkHtml;\n",
              "        element.appendChild(docLink);\n",
              "      }\n",
              "    </script>\n",
              "  </div>\n",
              "\n",
              "\n",
              "<div id=\"df-bce04bd0-8320-48a3-902f-7ed38ebf8bb1\">\n",
              "  <button class=\"colab-df-quickchart\" onclick=\"quickchart('df-bce04bd0-8320-48a3-902f-7ed38ebf8bb1')\"\n",
              "            title=\"Suggest charts\"\n",
              "            style=\"display:none;\">\n",
              "\n",
              "<svg xmlns=\"http://www.w3.org/2000/svg\" height=\"24px\"viewBox=\"0 0 24 24\"\n",
              "     width=\"24px\">\n",
              "    <g>\n",
              "        <path d=\"M19 3H5c-1.1 0-2 .9-2 2v14c0 1.1.9 2 2 2h14c1.1 0 2-.9 2-2V5c0-1.1-.9-2-2-2zM9 17H7v-7h2v7zm4 0h-2V7h2v10zm4 0h-2v-4h2v4z\"/>\n",
              "    </g>\n",
              "</svg>\n",
              "  </button>\n",
              "\n",
              "<style>\n",
              "  .colab-df-quickchart {\n",
              "      --bg-color: #E8F0FE;\n",
              "      --fill-color: #1967D2;\n",
              "      --hover-bg-color: #E2EBFA;\n",
              "      --hover-fill-color: #174EA6;\n",
              "      --disabled-fill-color: #AAA;\n",
              "      --disabled-bg-color: #DDD;\n",
              "  }\n",
              "\n",
              "  [theme=dark] .colab-df-quickchart {\n",
              "      --bg-color: #3B4455;\n",
              "      --fill-color: #D2E3FC;\n",
              "      --hover-bg-color: #434B5C;\n",
              "      --hover-fill-color: #FFFFFF;\n",
              "      --disabled-bg-color: #3B4455;\n",
              "      --disabled-fill-color: #666;\n",
              "  }\n",
              "\n",
              "  .colab-df-quickchart {\n",
              "    background-color: var(--bg-color);\n",
              "    border: none;\n",
              "    border-radius: 50%;\n",
              "    cursor: pointer;\n",
              "    display: none;\n",
              "    fill: var(--fill-color);\n",
              "    height: 32px;\n",
              "    padding: 0;\n",
              "    width: 32px;\n",
              "  }\n",
              "\n",
              "  .colab-df-quickchart:hover {\n",
              "    background-color: var(--hover-bg-color);\n",
              "    box-shadow: 0 1px 2px rgba(60, 64, 67, 0.3), 0 1px 3px 1px rgba(60, 64, 67, 0.15);\n",
              "    fill: var(--button-hover-fill-color);\n",
              "  }\n",
              "\n",
              "  .colab-df-quickchart-complete:disabled,\n",
              "  .colab-df-quickchart-complete:disabled:hover {\n",
              "    background-color: var(--disabled-bg-color);\n",
              "    fill: var(--disabled-fill-color);\n",
              "    box-shadow: none;\n",
              "  }\n",
              "\n",
              "  .colab-df-spinner {\n",
              "    border: 2px solid var(--fill-color);\n",
              "    border-color: transparent;\n",
              "    border-bottom-color: var(--fill-color);\n",
              "    animation:\n",
              "      spin 1s steps(1) infinite;\n",
              "  }\n",
              "\n",
              "  @keyframes spin {\n",
              "    0% {\n",
              "      border-color: transparent;\n",
              "      border-bottom-color: var(--fill-color);\n",
              "      border-left-color: var(--fill-color);\n",
              "    }\n",
              "    20% {\n",
              "      border-color: transparent;\n",
              "      border-left-color: var(--fill-color);\n",
              "      border-top-color: var(--fill-color);\n",
              "    }\n",
              "    30% {\n",
              "      border-color: transparent;\n",
              "      border-left-color: var(--fill-color);\n",
              "      border-top-color: var(--fill-color);\n",
              "      border-right-color: var(--fill-color);\n",
              "    }\n",
              "    40% {\n",
              "      border-color: transparent;\n",
              "      border-right-color: var(--fill-color);\n",
              "      border-top-color: var(--fill-color);\n",
              "    }\n",
              "    60% {\n",
              "      border-color: transparent;\n",
              "      border-right-color: var(--fill-color);\n",
              "    }\n",
              "    80% {\n",
              "      border-color: transparent;\n",
              "      border-right-color: var(--fill-color);\n",
              "      border-bottom-color: var(--fill-color);\n",
              "    }\n",
              "    90% {\n",
              "      border-color: transparent;\n",
              "      border-bottom-color: var(--fill-color);\n",
              "    }\n",
              "  }\n",
              "</style>\n",
              "\n",
              "  <script>\n",
              "    async function quickchart(key) {\n",
              "      const quickchartButtonEl =\n",
              "        document.querySelector('#' + key + ' button');\n",
              "      quickchartButtonEl.disabled = true;  // To prevent multiple clicks.\n",
              "      quickchartButtonEl.classList.add('colab-df-spinner');\n",
              "      try {\n",
              "        const charts = await google.colab.kernel.invokeFunction(\n",
              "            'suggestCharts', [key], {});\n",
              "      } catch (error) {\n",
              "        console.error('Error during call to suggestCharts:', error);\n",
              "      }\n",
              "      quickchartButtonEl.classList.remove('colab-df-spinner');\n",
              "      quickchartButtonEl.classList.add('colab-df-quickchart-complete');\n",
              "    }\n",
              "    (() => {\n",
              "      let quickchartButtonEl =\n",
              "        document.querySelector('#df-bce04bd0-8320-48a3-902f-7ed38ebf8bb1 button');\n",
              "      quickchartButtonEl.style.display =\n",
              "        google.colab.kernel.accessAllowed ? 'block' : 'none';\n",
              "    })();\n",
              "  </script>\n",
              "</div>\n",
              "\n",
              "    </div>\n",
              "  </div>\n"
            ],
            "application/vnd.google.colaboratory.intrinsic+json": {
              "type": "dataframe",
              "variable_name": "X",
              "summary": "{\n  \"name\": \"X\",\n  \"rows\": 1338,\n  \"fields\": [\n    {\n      \"column\": \"age\",\n      \"properties\": {\n        \"dtype\": \"number\",\n        \"std\": 14,\n        \"min\": 18,\n        \"max\": 64,\n        \"num_unique_values\": 47,\n        \"samples\": [\n          21,\n          45,\n          36\n        ],\n        \"semantic_type\": \"\",\n        \"description\": \"\"\n      }\n    },\n    {\n      \"column\": \"bmi\",\n      \"properties\": {\n        \"dtype\": \"number\",\n        \"std\": 6.098186911679014,\n        \"min\": 15.96,\n        \"max\": 53.13,\n        \"num_unique_values\": 548,\n        \"samples\": [\n          23.18,\n          26.885,\n          29.26\n        ],\n        \"semantic_type\": \"\",\n        \"description\": \"\"\n      }\n    },\n    {\n      \"column\": \"children\",\n      \"properties\": {\n        \"dtype\": \"number\",\n        \"std\": 1,\n        \"min\": 0,\n        \"max\": 5,\n        \"num_unique_values\": 6,\n        \"samples\": [\n          0,\n          1,\n          4\n        ],\n        \"semantic_type\": \"\",\n        \"description\": \"\"\n      }\n    },\n    {\n      \"column\": \"sex_female\",\n      \"properties\": {\n        \"dtype\": \"number\",\n        \"std\": 0,\n        \"min\": 0,\n        \"max\": 1,\n        \"num_unique_values\": 2,\n        \"samples\": [\n          0,\n          1\n        ],\n        \"semantic_type\": \"\",\n        \"description\": \"\"\n      }\n    },\n    {\n      \"column\": \"sex_male\",\n      \"properties\": {\n        \"dtype\": \"number\",\n        \"std\": 0,\n        \"min\": 0,\n        \"max\": 1,\n        \"num_unique_values\": 2,\n        \"samples\": [\n          1,\n          0\n        ],\n        \"semantic_type\": \"\",\n        \"description\": \"\"\n      }\n    },\n    {\n      \"column\": \"smoker_no\",\n      \"properties\": {\n        \"dtype\": \"number\",\n        \"std\": 0,\n        \"min\": 0,\n        \"max\": 1,\n        \"num_unique_values\": 2,\n        \"samples\": [\n          1,\n          0\n        ],\n        \"semantic_type\": \"\",\n        \"description\": \"\"\n      }\n    },\n    {\n      \"column\": \"smoker_yes\",\n      \"properties\": {\n        \"dtype\": \"number\",\n        \"std\": 0,\n        \"min\": 0,\n        \"max\": 1,\n        \"num_unique_values\": 2,\n        \"samples\": [\n          0,\n          1\n        ],\n        \"semantic_type\": \"\",\n        \"description\": \"\"\n      }\n    },\n    {\n      \"column\": \"region_northeast\",\n      \"properties\": {\n        \"dtype\": \"number\",\n        \"std\": 0,\n        \"min\": 0,\n        \"max\": 1,\n        \"num_unique_values\": 2,\n        \"samples\": [\n          1,\n          0\n        ],\n        \"semantic_type\": \"\",\n        \"description\": \"\"\n      }\n    },\n    {\n      \"column\": \"region_northwest\",\n      \"properties\": {\n        \"dtype\": \"number\",\n        \"std\": 0,\n        \"min\": 0,\n        \"max\": 1,\n        \"num_unique_values\": 2,\n        \"samples\": [\n          1,\n          0\n        ],\n        \"semantic_type\": \"\",\n        \"description\": \"\"\n      }\n    },\n    {\n      \"column\": \"region_southeast\",\n      \"properties\": {\n        \"dtype\": \"number\",\n        \"std\": 0,\n        \"min\": 0,\n        \"max\": 1,\n        \"num_unique_values\": 2,\n        \"samples\": [\n          1,\n          0\n        ],\n        \"semantic_type\": \"\",\n        \"description\": \"\"\n      }\n    },\n    {\n      \"column\": \"region_southwest\",\n      \"properties\": {\n        \"dtype\": \"number\",\n        \"std\": 0,\n        \"min\": 0,\n        \"max\": 1,\n        \"num_unique_values\": 2,\n        \"samples\": [\n          0,\n          1\n        ],\n        \"semantic_type\": \"\",\n        \"description\": \"\"\n      }\n    }\n  ]\n}"
            }
          },
          "metadata": {},
          "execution_count": 61
        }
      ]
    },
    {
      "cell_type": "code",
      "source": [
        "from sklearn.model_selection import train_test_split"
      ],
      "metadata": {
        "id": "tTg2vbE9wJXX"
      },
      "execution_count": null,
      "outputs": []
    },
    {
      "cell_type": "code",
      "source": [
        "X_train, X_test, y_train, y_test = train_test_split(X, y,\n",
        "                                                    test_size=0.2, random_state=42)"
      ],
      "metadata": {
        "id": "fKJb4GTnwcCJ"
      },
      "execution_count": null,
      "outputs": []
    },
    {
      "cell_type": "code",
      "source": [
        "tf.random.set_seed(42)\n",
        "\n",
        "insuranceModel = tf.keras.Sequential([\n",
        "    tf.keras.layers.Dense(10),\n",
        "    tf.keras.layers.Dense(1)\n",
        "])\n",
        "\n",
        "insuranceModel.compile(loss=tf.keras.losses.mae,\n",
        "                       optimizer=tf.keras.optimizers.SGD(),\n",
        "                       metrics=['mae'])\n",
        "insuranceModel.fit(X_train, y_train, epochs=100)"
      ],
      "metadata": {
        "id": "45kFMhYtwsGZ",
        "colab": {
          "base_uri": "https://localhost:8080/"
        },
        "outputId": "5b587dfd-3541-491c-92d5-4bd23d04318b"
      },
      "execution_count": null,
      "outputs": [
        {
          "output_type": "stream",
          "name": "stdout",
          "text": [
            "Epoch 1/100\n",
            "34/34 [==============================] - 0s 2ms/step - loss: 8802.2061 - mae: 8802.2061\n",
            "Epoch 2/100\n",
            "34/34 [==============================] - 0s 2ms/step - loss: 7875.0972 - mae: 7875.0972\n",
            "Epoch 3/100\n",
            "34/34 [==============================] - 0s 2ms/step - loss: 7554.4663 - mae: 7554.4663\n",
            "Epoch 4/100\n",
            "34/34 [==============================] - 0s 2ms/step - loss: 7788.2651 - mae: 7788.2651\n",
            "Epoch 5/100\n",
            "34/34 [==============================] - 0s 2ms/step - loss: 7746.3257 - mae: 7746.3257\n",
            "Epoch 6/100\n",
            "34/34 [==============================] - 0s 2ms/step - loss: 7594.7495 - mae: 7594.7495\n",
            "Epoch 7/100\n",
            "34/34 [==============================] - 0s 2ms/step - loss: 7593.9966 - mae: 7593.9966\n",
            "Epoch 8/100\n",
            "34/34 [==============================] - 0s 2ms/step - loss: 7799.5947 - mae: 7799.5947\n",
            "Epoch 9/100\n",
            "34/34 [==============================] - 0s 2ms/step - loss: 7595.6250 - mae: 7595.6250\n",
            "Epoch 10/100\n",
            "34/34 [==============================] - 0s 2ms/step - loss: 7730.3389 - mae: 7730.3389\n",
            "Epoch 11/100\n",
            "34/34 [==============================] - 0s 2ms/step - loss: 7545.1240 - mae: 7545.1240\n",
            "Epoch 12/100\n",
            "34/34 [==============================] - 0s 2ms/step - loss: 7486.4634 - mae: 7486.4634\n",
            "Epoch 13/100\n",
            "34/34 [==============================] - 0s 2ms/step - loss: 7706.7002 - mae: 7706.7002\n",
            "Epoch 14/100\n",
            "34/34 [==============================] - 0s 2ms/step - loss: 7762.3184 - mae: 7762.3184\n",
            "Epoch 15/100\n",
            "34/34 [==============================] - 0s 2ms/step - loss: 7660.6387 - mae: 7660.6387\n",
            "Epoch 16/100\n",
            "34/34 [==============================] - 0s 2ms/step - loss: 7691.0112 - mae: 7691.0112\n",
            "Epoch 17/100\n",
            "34/34 [==============================] - 0s 2ms/step - loss: 7572.8760 - mae: 7572.8760\n",
            "Epoch 18/100\n",
            "34/34 [==============================] - 0s 2ms/step - loss: 7808.9360 - mae: 7808.9360\n",
            "Epoch 19/100\n",
            "34/34 [==============================] - 0s 2ms/step - loss: 7666.3022 - mae: 7666.3022\n",
            "Epoch 20/100\n",
            "34/34 [==============================] - 0s 2ms/step - loss: 7886.3140 - mae: 7886.3140\n",
            "Epoch 21/100\n",
            "34/34 [==============================] - 0s 2ms/step - loss: 7562.0957 - mae: 7562.0957\n",
            "Epoch 22/100\n",
            "34/34 [==============================] - 0s 2ms/step - loss: 7835.6050 - mae: 7835.6050\n",
            "Epoch 23/100\n",
            "34/34 [==============================] - 0s 2ms/step - loss: 7609.4468 - mae: 7609.4468\n",
            "Epoch 24/100\n",
            "34/34 [==============================] - 0s 2ms/step - loss: 7544.8242 - mae: 7544.8242\n",
            "Epoch 25/100\n",
            "34/34 [==============================] - 0s 2ms/step - loss: 7404.3442 - mae: 7404.3442\n",
            "Epoch 26/100\n",
            "34/34 [==============================] - 0s 2ms/step - loss: 7672.7500 - mae: 7672.7500\n",
            "Epoch 27/100\n",
            "34/34 [==============================] - 0s 2ms/step - loss: 7704.9727 - mae: 7704.9727\n",
            "Epoch 28/100\n",
            "34/34 [==============================] - 0s 2ms/step - loss: 7456.0708 - mae: 7456.0708\n",
            "Epoch 29/100\n",
            "34/34 [==============================] - 0s 2ms/step - loss: 7653.9419 - mae: 7653.9419\n",
            "Epoch 30/100\n",
            "34/34 [==============================] - 0s 2ms/step - loss: 7616.1006 - mae: 7616.1006\n",
            "Epoch 31/100\n",
            "34/34 [==============================] - 0s 2ms/step - loss: 7522.2031 - mae: 7522.2031\n",
            "Epoch 32/100\n",
            "34/34 [==============================] - 0s 2ms/step - loss: 7458.1509 - mae: 7458.1509\n",
            "Epoch 33/100\n",
            "34/34 [==============================] - 0s 2ms/step - loss: 7497.1284 - mae: 7497.1284\n",
            "Epoch 34/100\n",
            "34/34 [==============================] - 0s 2ms/step - loss: 7456.8721 - mae: 7456.8721\n",
            "Epoch 35/100\n",
            "34/34 [==============================] - 0s 2ms/step - loss: 7477.6367 - mae: 7477.6367\n",
            "Epoch 36/100\n",
            "34/34 [==============================] - 0s 2ms/step - loss: 7675.8833 - mae: 7675.8833\n",
            "Epoch 37/100\n",
            "34/34 [==============================] - 0s 4ms/step - loss: 7467.0859 - mae: 7467.0859\n",
            "Epoch 38/100\n",
            "34/34 [==============================] - 0s 3ms/step - loss: 7402.4570 - mae: 7402.4570\n",
            "Epoch 39/100\n",
            "34/34 [==============================] - 0s 3ms/step - loss: 7531.5859 - mae: 7531.5859\n",
            "Epoch 40/100\n",
            "34/34 [==============================] - 0s 3ms/step - loss: 7497.2051 - mae: 7497.2051\n",
            "Epoch 41/100\n",
            "34/34 [==============================] - 0s 3ms/step - loss: 7722.5186 - mae: 7722.5186\n",
            "Epoch 42/100\n",
            "34/34 [==============================] - 0s 3ms/step - loss: 7286.6523 - mae: 7286.6523\n",
            "Epoch 43/100\n",
            "34/34 [==============================] - 0s 3ms/step - loss: 7663.9648 - mae: 7663.9648\n",
            "Epoch 44/100\n",
            "34/34 [==============================] - 0s 3ms/step - loss: 7390.6860 - mae: 7390.6860\n",
            "Epoch 45/100\n",
            "34/34 [==============================] - 0s 3ms/step - loss: 7468.2603 - mae: 7468.2603\n",
            "Epoch 46/100\n",
            "34/34 [==============================] - 0s 2ms/step - loss: 7285.2290 - mae: 7285.2290\n",
            "Epoch 47/100\n",
            "34/34 [==============================] - 0s 3ms/step - loss: 7573.4087 - mae: 7573.4087\n",
            "Epoch 48/100\n",
            "34/34 [==============================] - 0s 3ms/step - loss: 7541.6211 - mae: 7541.6211\n",
            "Epoch 49/100\n",
            "34/34 [==============================] - 0s 3ms/step - loss: 7542.8687 - mae: 7542.8687\n",
            "Epoch 50/100\n",
            "34/34 [==============================] - 0s 2ms/step - loss: 7476.7417 - mae: 7476.7417\n",
            "Epoch 51/100\n",
            "34/34 [==============================] - 0s 2ms/step - loss: 7385.7246 - mae: 7385.7246\n",
            "Epoch 52/100\n",
            "34/34 [==============================] - 0s 2ms/step - loss: 7466.8247 - mae: 7466.8247\n",
            "Epoch 53/100\n",
            "34/34 [==============================] - 0s 3ms/step - loss: 7544.8770 - mae: 7544.8770\n",
            "Epoch 54/100\n",
            "34/34 [==============================] - 0s 3ms/step - loss: 7301.4619 - mae: 7301.4619\n",
            "Epoch 55/100\n",
            "34/34 [==============================] - 0s 4ms/step - loss: 7198.7505 - mae: 7198.7505\n",
            "Epoch 56/100\n",
            "34/34 [==============================] - 0s 3ms/step - loss: 7183.9995 - mae: 7183.9995\n",
            "Epoch 57/100\n",
            "34/34 [==============================] - 0s 3ms/step - loss: 7355.3599 - mae: 7355.3599\n",
            "Epoch 58/100\n",
            "34/34 [==============================] - 0s 3ms/step - loss: 7520.2480 - mae: 7520.2480\n",
            "Epoch 59/100\n",
            "34/34 [==============================] - 0s 3ms/step - loss: 7482.5078 - mae: 7482.5078\n",
            "Epoch 60/100\n",
            "34/34 [==============================] - 0s 3ms/step - loss: 7451.4482 - mae: 7451.4482\n",
            "Epoch 61/100\n",
            "34/34 [==============================] - 0s 3ms/step - loss: 7434.9707 - mae: 7434.9707\n",
            "Epoch 62/100\n",
            "34/34 [==============================] - 0s 2ms/step - loss: 7232.8960 - mae: 7232.8960\n",
            "Epoch 63/100\n",
            "34/34 [==============================] - 0s 3ms/step - loss: 7440.6113 - mae: 7440.6113\n",
            "Epoch 64/100\n",
            "34/34 [==============================] - 0s 3ms/step - loss: 7303.8667 - mae: 7303.8667\n",
            "Epoch 65/100\n",
            "34/34 [==============================] - 0s 2ms/step - loss: 7402.9805 - mae: 7402.9805\n",
            "Epoch 66/100\n",
            "34/34 [==============================] - 0s 3ms/step - loss: 7399.9185 - mae: 7399.9185\n",
            "Epoch 67/100\n",
            "34/34 [==============================] - 0s 3ms/step - loss: 7468.6660 - mae: 7468.6660\n",
            "Epoch 68/100\n",
            "34/34 [==============================] - 0s 3ms/step - loss: 7538.0396 - mae: 7538.0396\n",
            "Epoch 69/100\n",
            "34/34 [==============================] - 0s 4ms/step - loss: 7540.7520 - mae: 7540.7520\n",
            "Epoch 70/100\n",
            "34/34 [==============================] - 0s 3ms/step - loss: 7402.0928 - mae: 7402.0928\n",
            "Epoch 71/100\n",
            "34/34 [==============================] - 0s 3ms/step - loss: 7245.3389 - mae: 7245.3394\n",
            "Epoch 72/100\n",
            "34/34 [==============================] - 0s 2ms/step - loss: 7313.6470 - mae: 7313.6470\n",
            "Epoch 73/100\n",
            "34/34 [==============================] - 0s 2ms/step - loss: 7277.9907 - mae: 7277.9907\n",
            "Epoch 74/100\n",
            "34/34 [==============================] - 0s 2ms/step - loss: 7400.4390 - mae: 7400.4390\n",
            "Epoch 75/100\n",
            "34/34 [==============================] - 0s 2ms/step - loss: 7259.6611 - mae: 7259.6611\n",
            "Epoch 76/100\n",
            "34/34 [==============================] - 0s 2ms/step - loss: 7291.8970 - mae: 7291.8970\n",
            "Epoch 77/100\n",
            "34/34 [==============================] - 0s 2ms/step - loss: 7505.9805 - mae: 7505.9805\n",
            "Epoch 78/100\n",
            "34/34 [==============================] - 0s 2ms/step - loss: 7385.7964 - mae: 7385.7964\n",
            "Epoch 79/100\n",
            "34/34 [==============================] - 0s 2ms/step - loss: 7375.6187 - mae: 7375.6187\n",
            "Epoch 80/100\n",
            "34/34 [==============================] - 0s 2ms/step - loss: 7236.8013 - mae: 7236.8013\n",
            "Epoch 81/100\n",
            "34/34 [==============================] - 0s 2ms/step - loss: 7338.5747 - mae: 7338.5747\n",
            "Epoch 82/100\n",
            "34/34 [==============================] - 0s 2ms/step - loss: 7254.4292 - mae: 7254.4292\n",
            "Epoch 83/100\n",
            "34/34 [==============================] - 0s 2ms/step - loss: 7472.7607 - mae: 7472.7607\n",
            "Epoch 84/100\n",
            "34/34 [==============================] - 0s 2ms/step - loss: 7223.5854 - mae: 7223.5854\n",
            "Epoch 85/100\n",
            "34/34 [==============================] - 0s 2ms/step - loss: 7283.9639 - mae: 7283.9639\n",
            "Epoch 86/100\n",
            "34/34 [==============================] - 0s 2ms/step - loss: 7205.4053 - mae: 7205.4053\n",
            "Epoch 87/100\n",
            "34/34 [==============================] - 0s 2ms/step - loss: 7175.9595 - mae: 7175.9595\n",
            "Epoch 88/100\n",
            "34/34 [==============================] - 0s 2ms/step - loss: 7318.8726 - mae: 7318.8726\n",
            "Epoch 89/100\n",
            "34/34 [==============================] - 0s 2ms/step - loss: 7522.3247 - mae: 7522.3247\n",
            "Epoch 90/100\n",
            "34/34 [==============================] - 0s 2ms/step - loss: 7064.6245 - mae: 7064.6245\n",
            "Epoch 91/100\n",
            "34/34 [==============================] - 0s 2ms/step - loss: 7312.8462 - mae: 7312.8462\n",
            "Epoch 92/100\n",
            "34/34 [==============================] - 0s 2ms/step - loss: 7285.7769 - mae: 7285.7769\n",
            "Epoch 93/100\n",
            "34/34 [==============================] - 0s 2ms/step - loss: 7478.5645 - mae: 7478.5645\n",
            "Epoch 94/100\n",
            "34/34 [==============================] - 0s 2ms/step - loss: 7189.1323 - mae: 7189.1323\n",
            "Epoch 95/100\n",
            "34/34 [==============================] - 0s 2ms/step - loss: 7213.8140 - mae: 7213.8140\n",
            "Epoch 96/100\n",
            "34/34 [==============================] - 0s 2ms/step - loss: 7226.2134 - mae: 7226.2134\n",
            "Epoch 97/100\n",
            "34/34 [==============================] - 0s 2ms/step - loss: 7331.9380 - mae: 7331.9380\n",
            "Epoch 98/100\n",
            "34/34 [==============================] - 0s 2ms/step - loss: 7339.5459 - mae: 7339.5459\n",
            "Epoch 99/100\n",
            "34/34 [==============================] - 0s 2ms/step - loss: 7391.1704 - mae: 7391.1704\n",
            "Epoch 100/100\n",
            "34/34 [==============================] - 0s 2ms/step - loss: 7287.9185 - mae: 7287.9185\n"
          ]
        },
        {
          "output_type": "execute_result",
          "data": {
            "text/plain": [
              "<keras.src.callbacks.History at 0x7af1559fb1f0>"
            ]
          },
          "metadata": {},
          "execution_count": 64
        }
      ]
    },
    {
      "cell_type": "code",
      "source": [
        "insuranceModel.evaluate(X_test,y_test)"
      ],
      "metadata": {
        "id": "gFZBOrjjxfaO",
        "colab": {
          "base_uri": "https://localhost:8080/"
        },
        "outputId": "7363664e-e87e-4946-a94a-040653e2f6b1"
      },
      "execution_count": null,
      "outputs": [
        {
          "output_type": "stream",
          "name": "stdout",
          "text": [
            "9/9 [==============================] - 0s 2ms/step - loss: 8657.1045 - mae: 8657.1045\n"
          ]
        },
        {
          "output_type": "execute_result",
          "data": {
            "text/plain": [
              "[8657.1044921875, 8657.1044921875]"
            ]
          },
          "metadata": {},
          "execution_count": 65
        }
      ]
    },
    {
      "cell_type": "markdown",
      "source": [
        "### To improve the model:\n",
        "1. Add extra layers and use Adam optimizers\n",
        "2. Train for longer"
      ],
      "metadata": {
        "id": "UWVNF2Q74Hwh"
      }
    },
    {
      "cell_type": "code",
      "source": [
        "tf.random.set_seed(42)\n",
        "insuranceModel2 = tf.keras.Sequential([\n",
        "    tf.keras.layers.Dense(100), # Added extra layers\n",
        "    tf.keras.layers.Dense(10),\n",
        "    tf.keras.layers.Dense(1)\n",
        "])\n",
        "insuranceModel2.compile(loss=tf.keras.losses.mae,\n",
        "                        optimizer=tf.keras.optimizers.Adam(),\n",
        "                        metrics=['mae'])\n",
        "history = insuranceModel2.fit(X_train, y_train, epochs=100, verbose=0)"
      ],
      "metadata": {
        "id": "tyCBagxDzE_a"
      },
      "execution_count": null,
      "outputs": []
    },
    {
      "cell_type": "code",
      "source": [
        "insuranceModel2.evaluate(X_test, y_test)"
      ],
      "metadata": {
        "id": "LTbFucei2mOK",
        "colab": {
          "base_uri": "https://localhost:8080/"
        },
        "outputId": "540a2f4b-1a8d-4fe5-b63e-193feddf0c59"
      },
      "execution_count": null,
      "outputs": [
        {
          "output_type": "stream",
          "name": "stdout",
          "text": [
            "9/9 [==============================] - 0s 2ms/step - loss: 4962.3882 - mae: 4962.3882\n"
          ]
        },
        {
          "output_type": "execute_result",
          "data": {
            "text/plain": [
              "[4962.38818359375, 4962.38818359375]"
            ]
          },
          "metadata": {},
          "execution_count": 67
        }
      ]
    },
    {
      "cell_type": "code",
      "source": [
        "pd.DataFrame(history.history).plot()\n",
        "plt.xlabel('epochs')\n",
        "plt.ylabel('losses')"
      ],
      "metadata": {
        "id": "D5UMHbEe6RRv",
        "colab": {
          "base_uri": "https://localhost:8080/",
          "height": 466
        },
        "outputId": "fa7e638f-75d0-4368-9030-6587441dedfc"
      },
      "execution_count": null,
      "outputs": [
        {
          "output_type": "execute_result",
          "data": {
            "text/plain": [
              "Text(0, 0.5, 'losses')"
            ]
          },
          "metadata": {},
          "execution_count": 68
        },
        {
          "output_type": "display_data",
          "data": {
            "text/plain": [
              "<Figure size 640x480 with 1 Axes>"
            ],
            "image/png": "[encoded data removed]"
          },
          "metadata": {}
        }
      ]
    },
    {
      "cell_type": "code",
      "source": [
        "tf.random.set_seed(42)\n",
        "\n",
        "insuranceModel3 = tf.keras.Sequential([\n",
        "    tf.keras.layers.Dense(100),\n",
        "    tf.keras.layers.Dense(10),\n",
        "    tf.keras.layers.Dense(1)\n",
        "])\n",
        "\n",
        "insuranceModel3.compile(loss = tf.keras.losses.mae,\n",
        "                        optimizer = tf.keras.optimizers.Adam(),\n",
        "                        metrics = ['mae'])\n",
        "\n",
        "history = insuranceModel3.fit(X_train, y_train, epochs=150, verbose=1)\n"
      ],
      "metadata": {
        "id": "TNoDSDwM3ubv",
        "colab": {
          "base_uri": "https://localhost:8080/"
        },
        "outputId": "2ccfaaa7-80b4-455d-a761-9c56a22e3971"
      },
      "execution_count": null,
      "outputs": [
        {
          "output_type": "stream",
          "name": "stdout",
          "text": [
            "Epoch 1/150\n",
            "34/34 [==============================] - 1s 3ms/step - loss: 13285.8457 - mae: 13285.8457\n",
            "Epoch 2/150\n",
            "34/34 [==============================] - 0s 2ms/step - loss: 13112.3193 - mae: 13112.3193\n",
            "Epoch 3/150\n",
            "34/34 [==============================] - 0s 2ms/step - loss: 12755.7236 - mae: 12755.7236\n",
            "Epoch 4/150\n",
            "34/34 [==============================] - 0s 2ms/step - loss: 12053.9746 - mae: 12053.9746\n",
            "Epoch 5/150\n",
            "34/34 [==============================] - 0s 2ms/step - loss: 10881.3301 - mae: 10881.3301\n",
            "Epoch 6/150\n",
            "34/34 [==============================] - 0s 2ms/step - loss: 9406.1846 - mae: 9406.1846\n",
            "Epoch 7/150\n",
            "34/34 [==============================] - 0s 2ms/step - loss: 8096.2671 - mae: 8096.2671\n",
            "Epoch 8/150\n",
            "34/34 [==============================] - 0s 2ms/step - loss: 7510.4985 - mae: 7510.4985\n",
            "Epoch 9/150\n",
            "34/34 [==============================] - 0s 2ms/step - loss: 7422.0771 - mae: 7422.0771\n",
            "Epoch 10/150\n",
            "34/34 [==============================] - 0s 2ms/step - loss: 7402.3872 - mae: 7402.3872\n",
            "Epoch 11/150\n",
            "34/34 [==============================] - 0s 2ms/step - loss: 7383.5000 - mae: 7383.5000\n",
            "Epoch 12/150\n",
            "34/34 [==============================] - 0s 2ms/step - loss: 7361.0415 - mae: 7361.0415\n",
            "Epoch 13/150\n",
            "34/34 [==============================] - 0s 2ms/step - loss: 7340.3096 - mae: 7340.3096\n",
            "Epoch 14/150\n",
            "34/34 [==============================] - 0s 2ms/step - loss: 7317.3291 - mae: 7317.3291\n",
            "Epoch 15/150\n",
            "34/34 [==============================] - 0s 2ms/step - loss: 7298.2007 - mae: 7298.2007\n",
            "Epoch 16/150\n",
            "34/34 [==============================] - 0s 2ms/step - loss: 7275.3257 - mae: 7275.3257\n",
            "Epoch 17/150\n",
            "34/34 [==============================] - 0s 2ms/step - loss: 7254.3862 - mae: 7254.3862\n",
            "Epoch 18/150\n",
            "34/34 [==============================] - 0s 2ms/step - loss: 7230.7729 - mae: 7230.7729\n",
            "Epoch 19/150\n",
            "34/34 [==============================] - 0s 2ms/step - loss: 7207.6030 - mae: 7207.6030\n",
            "Epoch 20/150\n",
            "34/34 [==============================] - 0s 2ms/step - loss: 7183.1230 - mae: 7183.1230\n",
            "Epoch 21/150\n",
            "34/34 [==============================] - 0s 2ms/step - loss: 7163.7998 - mae: 7163.7998\n",
            "Epoch 22/150\n",
            "34/34 [==============================] - 0s 2ms/step - loss: 7134.7778 - mae: 7134.7778\n",
            "Epoch 23/150\n",
            "34/34 [==============================] - 0s 2ms/step - loss: 7109.1787 - mae: 7109.1787\n",
            "Epoch 24/150\n",
            "34/34 [==============================] - 0s 2ms/step - loss: 7082.6309 - mae: 7082.6309\n",
            "Epoch 25/150\n",
            "34/34 [==============================] - 0s 2ms/step - loss: 7062.6167 - mae: 7062.6167\n",
            "Epoch 26/150\n",
            "34/34 [==============================] - 0s 2ms/step - loss: 7030.8071 - mae: 7030.8071\n",
            "Epoch 27/150\n",
            "34/34 [==============================] - 0s 2ms/step - loss: 7001.1001 - mae: 7001.1001\n",
            "Epoch 28/150\n",
            "34/34 [==============================] - 0s 2ms/step - loss: 6971.7212 - mae: 6971.7212\n",
            "Epoch 29/150\n",
            "34/34 [==============================] - 0s 2ms/step - loss: 6942.5093 - mae: 6942.5093\n",
            "Epoch 30/150\n",
            "34/34 [==============================] - 0s 2ms/step - loss: 6913.5093 - mae: 6913.5093\n",
            "Epoch 31/150\n",
            "34/34 [==============================] - 0s 2ms/step - loss: 6882.0181 - mae: 6882.0181\n",
            "Epoch 32/150\n",
            "34/34 [==============================] - 0s 2ms/step - loss: 6852.0791 - mae: 6852.0791\n",
            "Epoch 33/150\n",
            "34/34 [==============================] - 0s 2ms/step - loss: 6819.1963 - mae: 6819.1963\n",
            "Epoch 34/150\n",
            "34/34 [==============================] - 0s 2ms/step - loss: 6787.6880 - mae: 6787.6880\n",
            "Epoch 35/150\n",
            "34/34 [==============================] - 0s 2ms/step - loss: 6751.1831 - mae: 6751.1831\n",
            "Epoch 36/150\n",
            "34/34 [==============================] - 0s 2ms/step - loss: 6716.2407 - mae: 6716.2407\n",
            "Epoch 37/150\n",
            "34/34 [==============================] - 0s 2ms/step - loss: 6679.3208 - mae: 6679.3208\n",
            "Epoch 38/150\n",
            "34/34 [==============================] - 0s 2ms/step - loss: 6649.2466 - mae: 6649.2466\n",
            "Epoch 39/150\n",
            "34/34 [==============================] - 0s 2ms/step - loss: 6610.6328 - mae: 6610.6328\n",
            "Epoch 40/150\n",
            "34/34 [==============================] - 0s 2ms/step - loss: 6578.4346 - mae: 6578.4346\n",
            "Epoch 41/150\n",
            "34/34 [==============================] - 0s 2ms/step - loss: 6551.4131 - mae: 6551.4131\n",
            "Epoch 42/150\n",
            "34/34 [==============================] - 0s 2ms/step - loss: 6528.2344 - mae: 6528.2344\n",
            "Epoch 43/150\n",
            "34/34 [==============================] - 0s 2ms/step - loss: 6505.5405 - mae: 6505.5405\n",
            "Epoch 44/150\n",
            "34/34 [==============================] - 0s 2ms/step - loss: 6485.1084 - mae: 6485.1084\n",
            "Epoch 45/150\n",
            "34/34 [==============================] - 0s 2ms/step - loss: 6476.9707 - mae: 6476.9707\n",
            "Epoch 46/150\n",
            "34/34 [==============================] - 0s 2ms/step - loss: 6458.7998 - mae: 6458.7998\n",
            "Epoch 47/150\n",
            "34/34 [==============================] - 0s 2ms/step - loss: 6442.8218 - mae: 6442.8218\n",
            "Epoch 48/150\n",
            "34/34 [==============================] - 0s 2ms/step - loss: 6429.4619 - mae: 6429.4619\n",
            "Epoch 49/150\n",
            "34/34 [==============================] - 0s 2ms/step - loss: 6417.8818 - mae: 6417.8818\n",
            "Epoch 50/150\n",
            "34/34 [==============================] - 0s 2ms/step - loss: 6403.5117 - mae: 6403.5117\n",
            "Epoch 51/150\n",
            "34/34 [==============================] - 0s 2ms/step - loss: 6390.6641 - mae: 6390.6641\n",
            "Epoch 52/150\n",
            "34/34 [==============================] - 0s 2ms/step - loss: 6378.2529 - mae: 6378.2529\n",
            "Epoch 53/150\n",
            "34/34 [==============================] - 0s 2ms/step - loss: 6364.0156 - mae: 6364.0156\n",
            "Epoch 54/150\n",
            "34/34 [==============================] - 0s 2ms/step - loss: 6350.1577 - mae: 6350.1577\n",
            "Epoch 55/150\n",
            "34/34 [==============================] - 0s 2ms/step - loss: 6336.5576 - mae: 6336.5576\n",
            "Epoch 56/150\n",
            "34/34 [==============================] - 0s 2ms/step - loss: 6321.9541 - mae: 6321.9541\n",
            "Epoch 57/150\n",
            "34/34 [==============================] - 0s 2ms/step - loss: 6309.1519 - mae: 6309.1519\n",
            "Epoch 58/150\n",
            "34/34 [==============================] - 0s 2ms/step - loss: 6295.3203 - mae: 6295.3203\n",
            "Epoch 59/150\n",
            "34/34 [==============================] - 0s 2ms/step - loss: 6279.4097 - mae: 6279.4097\n",
            "Epoch 60/150\n",
            "34/34 [==============================] - 0s 2ms/step - loss: 6268.5864 - mae: 6268.5864\n",
            "Epoch 61/150\n",
            "34/34 [==============================] - 0s 2ms/step - loss: 6248.5488 - mae: 6248.5488\n",
            "Epoch 62/150\n",
            "34/34 [==============================] - 0s 2ms/step - loss: 6235.6250 - mae: 6235.6250\n",
            "Epoch 63/150\n",
            "34/34 [==============================] - 0s 2ms/step - loss: 6217.4629 - mae: 6217.4629\n",
            "Epoch 64/150\n",
            "34/34 [==============================] - 0s 2ms/step - loss: 6200.5439 - mae: 6200.5439\n",
            "Epoch 65/150\n",
            "34/34 [==============================] - 0s 2ms/step - loss: 6182.7788 - mae: 6182.7788\n",
            "Epoch 66/150\n",
            "34/34 [==============================] - 0s 2ms/step - loss: 6164.8457 - mae: 6164.8457\n",
            "Epoch 67/150\n",
            "34/34 [==============================] - 0s 2ms/step - loss: 6151.4897 - mae: 6151.4897\n",
            "Epoch 68/150\n",
            "34/34 [==============================] - 0s 2ms/step - loss: 6128.9448 - mae: 6128.9448\n",
            "Epoch 69/150\n",
            "34/34 [==============================] - 0s 2ms/step - loss: 6111.8037 - mae: 6111.8037\n",
            "Epoch 70/150\n",
            "34/34 [==============================] - 0s 2ms/step - loss: 6091.0732 - mae: 6091.0732\n",
            "Epoch 71/150\n",
            "34/34 [==============================] - 0s 2ms/step - loss: 6071.1416 - mae: 6071.1416\n",
            "Epoch 72/150\n",
            "34/34 [==============================] - 0s 2ms/step - loss: 6050.4863 - mae: 6050.4863\n",
            "Epoch 73/150\n",
            "34/34 [==============================] - 0s 2ms/step - loss: 6036.4102 - mae: 6036.4102\n",
            "Epoch 74/150\n",
            "34/34 [==============================] - 0s 2ms/step - loss: 6006.7993 - mae: 6006.7993\n",
            "Epoch 75/150\n",
            "34/34 [==============================] - 0s 2ms/step - loss: 5984.2134 - mae: 5984.2134\n",
            "Epoch 76/150\n",
            "34/34 [==============================] - 0s 2ms/step - loss: 5969.1519 - mae: 5969.1519\n",
            "Epoch 77/150\n",
            "34/34 [==============================] - 0s 2ms/step - loss: 5936.7280 - mae: 5936.7280\n",
            "Epoch 78/150\n",
            "34/34 [==============================] - 0s 2ms/step - loss: 5911.7568 - mae: 5911.7568\n",
            "Epoch 79/150\n",
            "34/34 [==============================] - 0s 2ms/step - loss: 5886.0815 - mae: 5886.0815\n",
            "Epoch 80/150\n",
            "34/34 [==============================] - 0s 2ms/step - loss: 5857.1030 - mae: 5857.1030\n",
            "Epoch 81/150\n",
            "34/34 [==============================] - 0s 2ms/step - loss: 5830.6606 - mae: 5830.6602\n",
            "Epoch 82/150\n",
            "34/34 [==============================] - 0s 2ms/step - loss: 5800.3364 - mae: 5800.3364\n",
            "Epoch 83/150\n",
            "34/34 [==============================] - 0s 2ms/step - loss: 5771.8247 - mae: 5771.8247\n",
            "Epoch 84/150\n",
            "34/34 [==============================] - 0s 2ms/step - loss: 5736.1606 - mae: 5736.1606\n",
            "Epoch 85/150\n",
            "34/34 [==============================] - 0s 2ms/step - loss: 5708.2563 - mae: 5708.2563\n",
            "Epoch 86/150\n",
            "34/34 [==============================] - 0s 2ms/step - loss: 5672.8643 - mae: 5672.8643\n",
            "Epoch 87/150\n",
            "34/34 [==============================] - 0s 2ms/step - loss: 5635.0869 - mae: 5635.0869\n",
            "Epoch 88/150\n",
            "34/34 [==============================] - 0s 4ms/step - loss: 5597.3892 - mae: 5597.3892\n",
            "Epoch 89/150\n",
            "34/34 [==============================] - 0s 3ms/step - loss: 5556.8643 - mae: 5556.8643\n",
            "Epoch 90/150\n",
            "34/34 [==============================] - 0s 4ms/step - loss: 5513.0200 - mae: 5513.0200\n",
            "Epoch 91/150\n",
            "34/34 [==============================] - 0s 3ms/step - loss: 5472.9741 - mae: 5472.9741\n",
            "Epoch 92/150\n",
            "34/34 [==============================] - 0s 3ms/step - loss: 5423.3408 - mae: 5423.3408\n",
            "Epoch 93/150\n",
            "34/34 [==============================] - 0s 3ms/step - loss: 5378.2754 - mae: 5378.2754\n",
            "Epoch 94/150\n",
            "34/34 [==============================] - 0s 3ms/step - loss: 5328.2344 - mae: 5328.2344\n",
            "Epoch 95/150\n",
            "34/34 [==============================] - 0s 4ms/step - loss: 5275.1372 - mae: 5275.1372\n",
            "Epoch 96/150\n",
            "34/34 [==============================] - 0s 3ms/step - loss: 5225.5688 - mae: 5225.5688\n",
            "Epoch 97/150\n",
            "34/34 [==============================] - 0s 4ms/step - loss: 5168.8838 - mae: 5168.8838\n",
            "Epoch 98/150\n",
            "34/34 [==============================] - 0s 4ms/step - loss: 5104.4204 - mae: 5104.4204\n",
            "Epoch 99/150\n",
            "34/34 [==============================] - 0s 4ms/step - loss: 5042.9951 - mae: 5042.9951\n",
            "Epoch 100/150\n",
            "34/34 [==============================] - 0s 4ms/step - loss: 4984.5825 - mae: 4984.5825\n",
            "Epoch 101/150\n",
            "34/34 [==============================] - 0s 3ms/step - loss: 4908.6279 - mae: 4908.6279\n",
            "Epoch 102/150\n",
            "34/34 [==============================] - 0s 3ms/step - loss: 4831.5571 - mae: 4831.5571\n",
            "Epoch 103/150\n",
            "34/34 [==============================] - 0s 3ms/step - loss: 4760.4507 - mae: 4760.4507\n",
            "Epoch 104/150\n",
            "34/34 [==============================] - 0s 4ms/step - loss: 4677.3970 - mae: 4677.3970\n",
            "Epoch 105/150\n",
            "34/34 [==============================] - 0s 3ms/step - loss: 4587.7944 - mae: 4587.7944\n",
            "Epoch 106/150\n",
            "34/34 [==============================] - 0s 3ms/step - loss: 4502.7764 - mae: 4502.7764\n",
            "Epoch 107/150\n",
            "34/34 [==============================] - 0s 4ms/step - loss: 4416.3862 - mae: 4416.3862\n",
            "Epoch 108/150\n",
            "34/34 [==============================] - 0s 4ms/step - loss: 4331.5469 - mae: 4331.5469\n",
            "Epoch 109/150\n",
            "34/34 [==============================] - 0s 4ms/step - loss: 4247.1997 - mae: 4247.1997\n",
            "Epoch 110/150\n",
            "34/34 [==============================] - 0s 3ms/step - loss: 4166.4165 - mae: 4166.4165\n",
            "Epoch 111/150\n",
            "34/34 [==============================] - 0s 3ms/step - loss: 4094.5256 - mae: 4094.5256\n",
            "Epoch 112/150\n",
            "34/34 [==============================] - 0s 3ms/step - loss: 4030.9365 - mae: 4030.9365\n",
            "Epoch 113/150\n",
            "34/34 [==============================] - 0s 3ms/step - loss: 3977.5752 - mae: 3977.5752\n",
            "Epoch 114/150\n",
            "34/34 [==============================] - 0s 3ms/step - loss: 3952.7761 - mae: 3952.7761\n",
            "Epoch 115/150\n",
            "34/34 [==============================] - 0s 4ms/step - loss: 3908.1394 - mae: 3908.1394\n",
            "Epoch 116/150\n",
            "34/34 [==============================] - 0s 4ms/step - loss: 3890.5266 - mae: 3890.5266\n",
            "Epoch 117/150\n",
            "34/34 [==============================] - 0s 3ms/step - loss: 3873.9861 - mae: 3873.9861\n",
            "Epoch 118/150\n",
            "34/34 [==============================] - 0s 3ms/step - loss: 3855.5227 - mae: 3855.5227\n",
            "Epoch 119/150\n",
            "34/34 [==============================] - 0s 2ms/step - loss: 3837.3606 - mae: 3837.3606\n",
            "Epoch 120/150\n",
            "34/34 [==============================] - 0s 2ms/step - loss: 3826.2007 - mae: 3826.2007\n",
            "Epoch 121/150\n",
            "34/34 [==============================] - 0s 2ms/step - loss: 3817.9844 - mae: 3817.9844\n",
            "Epoch 122/150\n",
            "34/34 [==============================] - 0s 2ms/step - loss: 3815.5510 - mae: 3815.5510\n",
            "Epoch 123/150\n",
            "34/34 [==============================] - 0s 2ms/step - loss: 3809.1067 - mae: 3809.1067\n",
            "Epoch 124/150\n",
            "34/34 [==============================] - 0s 2ms/step - loss: 3803.3284 - mae: 3803.3284\n",
            "Epoch 125/150\n",
            "34/34 [==============================] - 0s 2ms/step - loss: 3792.8843 - mae: 3792.8843\n",
            "Epoch 126/150\n",
            "34/34 [==============================] - 0s 2ms/step - loss: 3804.2444 - mae: 3804.2444\n",
            "Epoch 127/150\n",
            "34/34 [==============================] - 0s 2ms/step - loss: 3796.0571 - mae: 3796.0571\n",
            "Epoch 128/150\n",
            "34/34 [==============================] - 0s 2ms/step - loss: 3790.0469 - mae: 3790.0469\n",
            "Epoch 129/150\n",
            "34/34 [==============================] - 0s 2ms/step - loss: 3800.1716 - mae: 3800.1716\n",
            "Epoch 130/150\n",
            "34/34 [==============================] - 0s 2ms/step - loss: 3791.4131 - mae: 3791.4131\n",
            "Epoch 131/150\n",
            "34/34 [==============================] - 0s 2ms/step - loss: 3780.9587 - mae: 3780.9587\n",
            "Epoch 132/150\n",
            "34/34 [==============================] - 0s 2ms/step - loss: 3774.1450 - mae: 3774.1450\n",
            "Epoch 133/150\n",
            "34/34 [==============================] - 0s 3ms/step - loss: 3769.2695 - mae: 3769.2695\n",
            "Epoch 134/150\n",
            "34/34 [==============================] - 0s 2ms/step - loss: 3770.4231 - mae: 3770.4231\n",
            "Epoch 135/150\n",
            "34/34 [==============================] - 0s 2ms/step - loss: 3766.3159 - mae: 3766.3159\n",
            "Epoch 136/150\n",
            "34/34 [==============================] - 0s 2ms/step - loss: 3765.3518 - mae: 3765.3518\n",
            "Epoch 137/150\n",
            "34/34 [==============================] - 0s 2ms/step - loss: 3772.3000 - mae: 3772.3000\n",
            "Epoch 138/150\n",
            "34/34 [==============================] - 0s 2ms/step - loss: 3783.6289 - mae: 3783.6289\n",
            "Epoch 139/150\n",
            "34/34 [==============================] - 0s 2ms/step - loss: 3760.2515 - mae: 3760.2515\n",
            "Epoch 140/150\n",
            "34/34 [==============================] - 0s 2ms/step - loss: 3761.5049 - mae: 3761.5049\n",
            "Epoch 141/150\n",
            "34/34 [==============================] - 0s 2ms/step - loss: 3763.6079 - mae: 3763.6079\n",
            "Epoch 142/150\n",
            "34/34 [==============================] - 0s 2ms/step - loss: 3762.5874 - mae: 3762.5874\n",
            "Epoch 143/150\n",
            "34/34 [==============================] - 0s 2ms/step - loss: 3753.5371 - mae: 3753.5371\n",
            "Epoch 144/150\n",
            "34/34 [==============================] - 0s 2ms/step - loss: 3749.8772 - mae: 3749.8772\n",
            "Epoch 145/150\n",
            "34/34 [==============================] - 0s 2ms/step - loss: 3749.5669 - mae: 3749.5669\n",
            "Epoch 146/150\n",
            "34/34 [==============================] - 0s 2ms/step - loss: 3752.5742 - mae: 3752.5742\n",
            "Epoch 147/150\n",
            "34/34 [==============================] - 0s 2ms/step - loss: 3751.6895 - mae: 3751.6895\n",
            "Epoch 148/150\n",
            "34/34 [==============================] - 0s 2ms/step - loss: 3755.0491 - mae: 3755.0491\n",
            "Epoch 149/150\n",
            "34/34 [==============================] - 0s 2ms/step - loss: 3742.9592 - mae: 3742.9592\n",
            "Epoch 150/150\n",
            "34/34 [==============================] - 0s 2ms/step - loss: 3738.1289 - mae: 3738.1289\n"
          ]
        }
      ]
    },
    {
      "cell_type": "code",
      "source": [
        "insuranceModel3.evaluate(X_test, y_test)"
      ],
      "metadata": {
        "id": "MbMXwbnj4vzU",
        "colab": {
          "base_uri": "https://localhost:8080/"
        },
        "outputId": "f1fc80c9-45d9-44bd-c218-4cd9148c7cef"
      },
      "execution_count": null,
      "outputs": [
        {
          "output_type": "stream",
          "name": "stdout",
          "text": [
            "9/9 [==============================] - 0s 2ms/step - loss: 3613.2795 - mae: 3613.2795\n"
          ]
        },
        {
          "output_type": "execute_result",
          "data": {
            "text/plain": [
              "[3613.279541015625, 3613.279541015625]"
            ]
          },
          "metadata": {},
          "execution_count": 70
        }
      ]
    },
    {
      "cell_type": "code",
      "source": [
        "pd.DataFrame(history.history).plot()\n",
        "plt.ylabel('losses')\n",
        "plt.xlabel('epochs')"
      ],
      "metadata": {
        "id": "zeTYqqCn40c7",
        "colab": {
          "base_uri": "https://localhost:8080/",
          "height": 466
        },
        "outputId": "68f7b64c-9957-48ea-b37b-90af896ee151"
      },
      "execution_count": null,
      "outputs": [
        {
          "output_type": "execute_result",
          "data": {
            "text/plain": [
              "Text(0.5, 0, 'epochs')"
            ]
          },
          "metadata": {},
          "execution_count": 71
        },
        {
          "output_type": "display_data",
          "data": {
            "text/plain": [
              "<Figure size 640x480 with 1 Axes>"
            ],
            "image/png": "[encoded data removed]"
          },
          "metadata": {}
        }
      ]
    },
    {
      "cell_type": "markdown",
      "source": [
        "### Preprocessing (normalization and standardization)"
      ],
      "metadata": {
        "id": "Ms_0RsqX52l9"
      }
    },
    {
      "cell_type": "code",
      "source": [
        "import tensorflow as tf\n",
        "import pandas as pd\n",
        "import matplotlib.pyplot as plt\n"
      ],
      "metadata": {
        "id": "P_AQMjJZ7ZR8"
      },
      "execution_count": null,
      "outputs": []
    },
    {
      "cell_type": "code",
      "source": [
        "insurance = pd.read_csv('https://raw.githubusercontent.com/stedy/Machine-Learning-with-R-datasets/master/insurance.csv')"
      ],
      "metadata": {
        "id": "Dk_HD7VM9VO_"
      },
      "execution_count": null,
      "outputs": []
    },
    {
      "cell_type": "code",
      "source": [
        "from sklearn.compose import make_column_transformer\n",
        "from sklearn.preprocessing import MinMaxScaler, OneHotEncoder"
      ],
      "metadata": {
        "id": "NOxhYW0n9YaB"
      },
      "execution_count": null,
      "outputs": []
    },
    {
      "cell_type": "code",
      "source": [
        "ct = make_column_transformer(\n",
        "    (MinMaxScaler(),['age','bmi','children']),\n",
        "    (OneHotEncoder(handle_unknown='ignore'),['sex','smoker','region'])\n",
        ")\n",
        "\n",
        "X = insurance.drop('charges',axis=1)\n",
        "y = insurance['charges']\n",
        "\n",
        "X_train, X_test, y_train, y_test = train_test_split(X, y, test_size=0.2, random_state=42)\n",
        "\n",
        "ct.fit(X_train)\n",
        "\n",
        "X_train_normal = ct.transform(X_train)\n",
        "X_test_normal = ct.transform(X_test)"
      ],
      "metadata": {
        "id": "0b7qVV419ses"
      },
      "execution_count": null,
      "outputs": []
    },
    {
      "cell_type": "code",
      "source": [
        "X_train.shape, X_train_normal.shape"
      ],
      "metadata": {
        "id": "WitY1u3a_D5u",
        "colab": {
          "base_uri": "https://localhost:8080/"
        },
        "outputId": "f6ec813e-bd37-4ee2-a8d2-b798ca44322f"
      },
      "execution_count": null,
      "outputs": [
        {
          "output_type": "execute_result",
          "data": {
            "text/plain": [
              "((1070, 6), (1070, 11))"
            ]
          },
          "metadata": {},
          "execution_count": 76
        }
      ]
    },
    {
      "cell_type": "code",
      "source": [
        "tf.random.set_seed(42)\n",
        "\n",
        "insuranceModelTransformed = tf.keras.Sequential([\n",
        "    tf.keras.layers.Dense(100),\n",
        "    tf.keras.layers.Dense(10),\n",
        "    tf.keras.layers.Dense(1)\n",
        "])\n",
        "\n",
        "insuranceModelTransformed.compile(loss = tf.keras.losses.mae,\n",
        "                        optimizer = tf.keras.optimizers.Adam(),\n",
        "                        metrics = ['mae'])\n",
        "\n",
        "history = insuranceModelTransformed.fit(X_train_normal, y_train, epochs=150)\n"
      ],
      "metadata": {
        "id": "ETUJrj2l_rDb",
        "colab": {
          "base_uri": "https://localhost:8080/"
        },
        "outputId": "23fd28be-cf86-4649-87ab-be812cf0f41f"
      },
      "execution_count": null,
      "outputs": [
        {
          "output_type": "stream",
          "name": "stdout",
          "text": [
            "Epoch 1/150\n",
            "34/34 [==============================] - 1s 2ms/step - loss: 13343.0869 - mae: 13343.0869\n",
            "Epoch 2/150\n",
            "34/34 [==============================] - 0s 2ms/step - loss: 13332.0938 - mae: 13332.0938\n",
            "Epoch 3/150\n",
            "34/34 [==============================] - 0s 2ms/step - loss: 13305.3291 - mae: 13305.3291\n",
            "Epoch 4/150\n",
            "34/34 [==============================] - 0s 2ms/step - loss: 13251.5586 - mae: 13251.5586\n",
            "Epoch 5/150\n",
            "34/34 [==============================] - 0s 2ms/step - loss: 13159.7822 - mae: 13159.7822\n",
            "Epoch 6/150\n",
            "34/34 [==============================] - 0s 2ms/step - loss: 13019.4854 - mae: 13019.4854\n",
            "Epoch 7/150\n",
            "34/34 [==============================] - 0s 2ms/step - loss: 12820.9053 - mae: 12820.9053\n",
            "Epoch 8/150\n",
            "34/34 [==============================] - 0s 3ms/step - loss: 12554.2383 - mae: 12554.2383\n",
            "Epoch 9/150\n",
            "34/34 [==============================] - 0s 2ms/step - loss: 12209.5508 - mae: 12209.5508\n",
            "Epoch 10/150\n",
            "34/34 [==============================] - 0s 2ms/step - loss: 11787.0908 - mae: 11787.0908\n",
            "Epoch 11/150\n",
            "34/34 [==============================] - 0s 2ms/step - loss: 11301.9941 - mae: 11301.9941\n",
            "Epoch 12/150\n",
            "34/34 [==============================] - 0s 2ms/step - loss: 10798.8047 - mae: 10798.8047\n",
            "Epoch 13/150\n",
            "34/34 [==============================] - 0s 2ms/step - loss: 10301.3242 - mae: 10301.3242\n",
            "Epoch 14/150\n",
            "34/34 [==============================] - 0s 2ms/step - loss: 9814.7637 - mae: 9814.7637\n",
            "Epoch 15/150\n",
            "34/34 [==============================] - 0s 2ms/step - loss: 9361.2520 - mae: 9361.2520\n",
            "Epoch 16/150\n",
            "34/34 [==============================] - 0s 2ms/step - loss: 8964.3623 - mae: 8964.3623\n",
            "Epoch 17/150\n",
            "34/34 [==============================] - 0s 2ms/step - loss: 8638.0498 - mae: 8638.0498\n",
            "Epoch 18/150\n",
            "34/34 [==============================] - 0s 2ms/step - loss: 8374.6357 - mae: 8374.6357\n",
            "Epoch 19/150\n",
            "34/34 [==============================] - 0s 2ms/step - loss: 8181.8120 - mae: 8181.8120\n",
            "Epoch 20/150\n",
            "34/34 [==============================] - 0s 2ms/step - loss: 8047.3682 - mae: 8047.3682\n",
            "Epoch 21/150\n",
            "34/34 [==============================] - 0s 2ms/step - loss: 7948.6577 - mae: 7948.6577\n",
            "Epoch 22/150\n",
            "34/34 [==============================] - 0s 2ms/step - loss: 7880.0645 - mae: 7880.0645\n",
            "Epoch 23/150\n",
            "34/34 [==============================] - 0s 2ms/step - loss: 7824.4082 - mae: 7824.4082\n",
            "Epoch 24/150\n",
            "34/34 [==============================] - 0s 2ms/step - loss: 7773.6309 - mae: 7773.6309\n",
            "Epoch 25/150\n",
            "34/34 [==============================] - 0s 2ms/step - loss: 7734.5244 - mae: 7734.5244\n",
            "Epoch 26/150\n",
            "34/34 [==============================] - 0s 2ms/step - loss: 7683.1265 - mae: 7683.1265\n",
            "Epoch 27/150\n",
            "34/34 [==============================] - 0s 2ms/step - loss: 7640.2329 - mae: 7640.2329\n",
            "Epoch 28/150\n",
            "34/34 [==============================] - 0s 2ms/step - loss: 7596.8467 - mae: 7596.8467\n",
            "Epoch 29/150\n",
            "34/34 [==============================] - 0s 2ms/step - loss: 7553.0327 - mae: 7553.0327\n",
            "Epoch 30/150\n",
            "34/34 [==============================] - 0s 3ms/step - loss: 7508.5391 - mae: 7508.5391\n",
            "Epoch 31/150\n",
            "34/34 [==============================] - 0s 3ms/step - loss: 7463.5337 - mae: 7463.5337\n",
            "Epoch 32/150\n",
            "34/34 [==============================] - 0s 2ms/step - loss: 7418.1538 - mae: 7418.1538\n",
            "Epoch 33/150\n",
            "34/34 [==============================] - 0s 2ms/step - loss: 7372.5923 - mae: 7372.5923\n",
            "Epoch 34/150\n",
            "34/34 [==============================] - 0s 2ms/step - loss: 7322.9219 - mae: 7322.9219\n",
            "Epoch 35/150\n",
            "34/34 [==============================] - 0s 2ms/step - loss: 7274.6318 - mae: 7274.6318\n",
            "Epoch 36/150\n",
            "34/34 [==============================] - 0s 2ms/step - loss: 7222.8799 - mae: 7222.8799\n",
            "Epoch 37/150\n",
            "34/34 [==============================] - 0s 2ms/step - loss: 7170.8115 - mae: 7170.8115\n",
            "Epoch 38/150\n",
            "34/34 [==============================] - 0s 2ms/step - loss: 7117.9829 - mae: 7117.9829\n",
            "Epoch 39/150\n",
            "34/34 [==============================] - 0s 2ms/step - loss: 7061.2729 - mae: 7061.2729\n",
            "Epoch 40/150\n",
            "34/34 [==============================] - 0s 2ms/step - loss: 7003.7852 - mae: 7003.7852\n",
            "Epoch 41/150\n",
            "34/34 [==============================] - 0s 2ms/step - loss: 6945.1353 - mae: 6945.1353\n",
            "Epoch 42/150\n",
            "34/34 [==============================] - 0s 3ms/step - loss: 6883.5840 - mae: 6883.5840\n",
            "Epoch 43/150\n",
            "34/34 [==============================] - 0s 2ms/step - loss: 6818.3267 - mae: 6818.3267\n",
            "Epoch 44/150\n",
            "34/34 [==============================] - 0s 2ms/step - loss: 6749.1333 - mae: 6749.1333\n",
            "Epoch 45/150\n",
            "34/34 [==============================] - 0s 2ms/step - loss: 6678.9751 - mae: 6678.9751\n",
            "Epoch 46/150\n",
            "34/34 [==============================] - 0s 3ms/step - loss: 6606.7915 - mae: 6606.7915\n",
            "Epoch 47/150\n",
            "34/34 [==============================] - 0s 2ms/step - loss: 6531.8818 - mae: 6531.8818\n",
            "Epoch 48/150\n",
            "34/34 [==============================] - 0s 2ms/step - loss: 6449.5874 - mae: 6449.5874\n",
            "Epoch 49/150\n",
            "34/34 [==============================] - 0s 2ms/step - loss: 6367.0039 - mae: 6367.0039\n",
            "Epoch 50/150\n",
            "34/34 [==============================] - 0s 2ms/step - loss: 6276.8198 - mae: 6276.8198\n",
            "Epoch 51/150\n",
            "34/34 [==============================] - 0s 2ms/step - loss: 6187.6543 - mae: 6187.6543\n",
            "Epoch 52/150\n",
            "34/34 [==============================] - 0s 2ms/step - loss: 6089.6611 - mae: 6089.6611\n",
            "Epoch 53/150\n",
            "34/34 [==============================] - 0s 2ms/step - loss: 5988.5718 - mae: 5988.5718\n",
            "Epoch 54/150\n",
            "34/34 [==============================] - 0s 2ms/step - loss: 5884.3877 - mae: 5884.3877\n",
            "Epoch 55/150\n",
            "34/34 [==============================] - 0s 2ms/step - loss: 5771.4282 - mae: 5771.4282\n",
            "Epoch 56/150\n",
            "34/34 [==============================] - 0s 2ms/step - loss: 5657.3979 - mae: 5657.3979\n",
            "Epoch 57/150\n",
            "34/34 [==============================] - 0s 2ms/step - loss: 5538.1855 - mae: 5538.1855\n",
            "Epoch 58/150\n",
            "34/34 [==============================] - 0s 2ms/step - loss: 5418.4663 - mae: 5418.4663\n",
            "Epoch 59/150\n",
            "34/34 [==============================] - 0s 2ms/step - loss: 5293.1162 - mae: 5293.1162\n",
            "Epoch 60/150\n",
            "34/34 [==============================] - 0s 2ms/step - loss: 5168.0903 - mae: 5168.0903\n",
            "Epoch 61/150\n",
            "34/34 [==============================] - 0s 2ms/step - loss: 5038.8716 - mae: 5038.8716\n",
            "Epoch 62/150\n",
            "34/34 [==============================] - 0s 2ms/step - loss: 4904.7466 - mae: 4904.7466\n",
            "Epoch 63/150\n",
            "34/34 [==============================] - 0s 2ms/step - loss: 4775.0713 - mae: 4775.0713\n",
            "Epoch 64/150\n",
            "34/34 [==============================] - 0s 2ms/step - loss: 4643.4478 - mae: 4643.4478\n",
            "Epoch 65/150\n",
            "34/34 [==============================] - 0s 2ms/step - loss: 4520.5342 - mae: 4520.5342\n",
            "Epoch 66/150\n",
            "34/34 [==============================] - 0s 2ms/step - loss: 4405.5151 - mae: 4405.5151\n",
            "Epoch 67/150\n",
            "34/34 [==============================] - 0s 2ms/step - loss: 4301.0322 - mae: 4301.0322\n",
            "Epoch 68/150\n",
            "34/34 [==============================] - 0s 2ms/step - loss: 4197.1724 - mae: 4197.1724\n",
            "Epoch 69/150\n",
            "34/34 [==============================] - 0s 2ms/step - loss: 4103.6553 - mae: 4103.6553\n",
            "Epoch 70/150\n",
            "34/34 [==============================] - 0s 2ms/step - loss: 4018.2417 - mae: 4018.2417\n",
            "Epoch 71/150\n",
            "34/34 [==============================] - 0s 3ms/step - loss: 3941.6851 - mae: 3941.6851\n",
            "Epoch 72/150\n",
            "34/34 [==============================] - 0s 3ms/step - loss: 3876.4414 - mae: 3876.4414\n",
            "Epoch 73/150\n",
            "34/34 [==============================] - 0s 3ms/step - loss: 3823.8892 - mae: 3823.8892\n",
            "Epoch 74/150\n",
            "34/34 [==============================] - 0s 3ms/step - loss: 3779.0715 - mae: 3779.0715\n",
            "Epoch 75/150\n",
            "34/34 [==============================] - 0s 2ms/step - loss: 3748.2646 - mae: 3748.2646\n",
            "Epoch 76/150\n",
            "34/34 [==============================] - 0s 3ms/step - loss: 3725.3232 - mae: 3725.3232\n",
            "Epoch 77/150\n",
            "34/34 [==============================] - 0s 3ms/step - loss: 3705.8960 - mae: 3705.8960\n",
            "Epoch 78/150\n",
            "34/34 [==============================] - 0s 3ms/step - loss: 3694.2217 - mae: 3694.2219\n",
            "Epoch 79/150\n",
            "34/34 [==============================] - 0s 3ms/step - loss: 3685.3655 - mae: 3685.3655\n",
            "Epoch 80/150\n",
            "34/34 [==============================] - 0s 3ms/step - loss: 3677.5276 - mae: 3677.5276\n",
            "Epoch 81/150\n",
            "34/34 [==============================] - 0s 3ms/step - loss: 3672.5940 - mae: 3672.5940\n",
            "Epoch 82/150\n",
            "34/34 [==============================] - 0s 3ms/step - loss: 3670.0601 - mae: 3670.0601\n",
            "Epoch 83/150\n",
            "34/34 [==============================] - 0s 3ms/step - loss: 3664.7986 - mae: 3664.7986\n",
            "Epoch 84/150\n",
            "34/34 [==============================] - 0s 3ms/step - loss: 3662.5286 - mae: 3662.5286\n",
            "Epoch 85/150\n",
            "34/34 [==============================] - 0s 3ms/step - loss: 3660.4031 - mae: 3660.4031\n",
            "Epoch 86/150\n",
            "34/34 [==============================] - 0s 3ms/step - loss: 3658.8579 - mae: 3658.8579\n",
            "Epoch 87/150\n",
            "34/34 [==============================] - 0s 3ms/step - loss: 3655.9434 - mae: 3655.9434\n",
            "Epoch 88/150\n",
            "34/34 [==============================] - 0s 3ms/step - loss: 3653.5950 - mae: 3653.5950\n",
            "Epoch 89/150\n",
            "34/34 [==============================] - 0s 3ms/step - loss: 3652.4302 - mae: 3652.4302\n",
            "Epoch 90/150\n",
            "34/34 [==============================] - 0s 4ms/step - loss: 3650.5857 - mae: 3650.5857\n",
            "Epoch 91/150\n",
            "34/34 [==============================] - 0s 3ms/step - loss: 3647.4875 - mae: 3647.4875\n",
            "Epoch 92/150\n",
            "34/34 [==============================] - 0s 3ms/step - loss: 3646.8901 - mae: 3646.8901\n",
            "Epoch 93/150\n",
            "34/34 [==============================] - 0s 4ms/step - loss: 3644.5461 - mae: 3644.5461\n",
            "Epoch 94/150\n",
            "34/34 [==============================] - 0s 4ms/step - loss: 3642.9158 - mae: 3642.9158\n",
            "Epoch 95/150\n",
            "34/34 [==============================] - 0s 4ms/step - loss: 3643.6782 - mae: 3643.6782\n",
            "Epoch 96/150\n",
            "34/34 [==============================] - 0s 3ms/step - loss: 3640.9050 - mae: 3640.9050\n",
            "Epoch 97/150\n",
            "34/34 [==============================] - 0s 3ms/step - loss: 3638.3074 - mae: 3638.3074\n",
            "Epoch 98/150\n",
            "34/34 [==============================] - 0s 3ms/step - loss: 3636.2021 - mae: 3636.2021\n",
            "Epoch 99/150\n",
            "34/34 [==============================] - 0s 3ms/step - loss: 3635.5535 - mae: 3635.5535\n",
            "Epoch 100/150\n",
            "34/34 [==============================] - 0s 3ms/step - loss: 3634.2659 - mae: 3634.2659\n",
            "Epoch 101/150\n",
            "34/34 [==============================] - 0s 3ms/step - loss: 3631.2302 - mae: 3631.2302\n",
            "Epoch 102/150\n",
            "34/34 [==============================] - 0s 3ms/step - loss: 3628.7029 - mae: 3628.7029\n",
            "Epoch 103/150\n",
            "34/34 [==============================] - 0s 3ms/step - loss: 3627.4690 - mae: 3627.4690\n",
            "Epoch 104/150\n",
            "34/34 [==============================] - 0s 3ms/step - loss: 3625.0247 - mae: 3625.0247\n",
            "Epoch 105/150\n",
            "34/34 [==============================] - 0s 3ms/step - loss: 3623.4072 - mae: 3623.4072\n",
            "Epoch 106/150\n",
            "34/34 [==============================] - 0s 3ms/step - loss: 3622.1052 - mae: 3622.1052\n",
            "Epoch 107/150\n",
            "34/34 [==============================] - 0s 3ms/step - loss: 3621.6555 - mae: 3621.6555\n",
            "Epoch 108/150\n",
            "34/34 [==============================] - 0s 3ms/step - loss: 3618.7732 - mae: 3618.7732\n",
            "Epoch 109/150\n",
            "34/34 [==============================] - 0s 3ms/step - loss: 3619.1138 - mae: 3619.1138\n",
            "Epoch 110/150\n",
            "34/34 [==============================] - 0s 3ms/step - loss: 3615.9084 - mae: 3615.9084\n",
            "Epoch 111/150\n",
            "34/34 [==============================] - 0s 2ms/step - loss: 3613.0793 - mae: 3613.0793\n",
            "Epoch 112/150\n",
            "34/34 [==============================] - 0s 2ms/step - loss: 3611.0305 - mae: 3611.0305\n",
            "Epoch 113/150\n",
            "34/34 [==============================] - 0s 2ms/step - loss: 3609.5032 - mae: 3609.5032\n",
            "Epoch 114/150\n",
            "34/34 [==============================] - 0s 2ms/step - loss: 3608.4968 - mae: 3608.4968\n",
            "Epoch 115/150\n",
            "34/34 [==============================] - 0s 2ms/step - loss: 3606.8457 - mae: 3606.8457\n",
            "Epoch 116/150\n",
            "34/34 [==============================] - 0s 2ms/step - loss: 3605.3347 - mae: 3605.3347\n",
            "Epoch 117/150\n",
            "34/34 [==============================] - 0s 2ms/step - loss: 3602.3452 - mae: 3602.3452\n",
            "Epoch 118/150\n",
            "34/34 [==============================] - 0s 2ms/step - loss: 3598.6875 - mae: 3598.6875\n",
            "Epoch 119/150\n",
            "34/34 [==============================] - 0s 2ms/step - loss: 3600.7639 - mae: 3600.7639\n",
            "Epoch 120/150\n",
            "34/34 [==============================] - 0s 2ms/step - loss: 3597.7161 - mae: 3597.7161\n",
            "Epoch 121/150\n",
            "34/34 [==============================] - 0s 2ms/step - loss: 3592.5781 - mae: 3592.5781\n",
            "Epoch 122/150\n",
            "34/34 [==============================] - 0s 2ms/step - loss: 3591.9221 - mae: 3591.9221\n",
            "Epoch 123/150\n",
            "34/34 [==============================] - 0s 2ms/step - loss: 3589.8376 - mae: 3589.8376\n",
            "Epoch 124/150\n",
            "34/34 [==============================] - 0s 2ms/step - loss: 3587.5552 - mae: 3587.5552\n",
            "Epoch 125/150\n",
            "34/34 [==============================] - 0s 2ms/step - loss: 3585.5105 - mae: 3585.5105\n",
            "Epoch 126/150\n",
            "34/34 [==============================] - 0s 2ms/step - loss: 3584.6399 - mae: 3584.6399\n",
            "Epoch 127/150\n",
            "34/34 [==============================] - 0s 2ms/step - loss: 3584.8291 - mae: 3584.8291\n",
            "Epoch 128/150\n",
            "34/34 [==============================] - 0s 2ms/step - loss: 3581.3506 - mae: 3581.3506\n",
            "Epoch 129/150\n",
            "34/34 [==============================] - 0s 2ms/step - loss: 3579.7937 - mae: 3579.7937\n",
            "Epoch 130/150\n",
            "34/34 [==============================] - 0s 2ms/step - loss: 3576.0640 - mae: 3576.0640\n",
            "Epoch 131/150\n",
            "34/34 [==============================] - 0s 2ms/step - loss: 3574.7014 - mae: 3574.7014\n",
            "Epoch 132/150\n",
            "34/34 [==============================] - 0s 2ms/step - loss: 3571.8982 - mae: 3571.8982\n",
            "Epoch 133/150\n",
            "34/34 [==============================] - 0s 2ms/step - loss: 3570.2285 - mae: 3570.2285\n",
            "Epoch 134/150\n",
            "34/34 [==============================] - 0s 3ms/step - loss: 3568.0571 - mae: 3568.0571\n",
            "Epoch 135/150\n",
            "34/34 [==============================] - 0s 2ms/step - loss: 3566.0759 - mae: 3566.0759\n",
            "Epoch 136/150\n",
            "34/34 [==============================] - 0s 3ms/step - loss: 3564.5820 - mae: 3564.5820\n",
            "Epoch 137/150\n",
            "34/34 [==============================] - 0s 2ms/step - loss: 3563.2656 - mae: 3563.2656\n",
            "Epoch 138/150\n",
            "34/34 [==============================] - 0s 2ms/step - loss: 3560.9246 - mae: 3560.9246\n",
            "Epoch 139/150\n",
            "34/34 [==============================] - 0s 2ms/step - loss: 3560.1951 - mae: 3560.1951\n",
            "Epoch 140/150\n",
            "34/34 [==============================] - 0s 2ms/step - loss: 3557.9392 - mae: 3557.9392\n",
            "Epoch 141/150\n",
            "34/34 [==============================] - 0s 2ms/step - loss: 3557.9832 - mae: 3557.9832\n",
            "Epoch 142/150\n",
            "34/34 [==============================] - 0s 2ms/step - loss: 3555.1636 - mae: 3555.1636\n",
            "Epoch 143/150\n",
            "34/34 [==============================] - 0s 2ms/step - loss: 3555.8547 - mae: 3555.8547\n",
            "Epoch 144/150\n",
            "34/34 [==============================] - 0s 2ms/step - loss: 3552.5857 - mae: 3552.5857\n",
            "Epoch 145/150\n",
            "34/34 [==============================] - 0s 2ms/step - loss: 3550.7029 - mae: 3550.7029\n",
            "Epoch 146/150\n",
            "34/34 [==============================] - 0s 2ms/step - loss: 3550.8286 - mae: 3550.8286\n",
            "Epoch 147/150\n",
            "34/34 [==============================] - 0s 2ms/step - loss: 3548.3696 - mae: 3548.3696\n",
            "Epoch 148/150\n",
            "34/34 [==============================] - 0s 3ms/step - loss: 3547.0251 - mae: 3547.0251\n",
            "Epoch 149/150\n",
            "34/34 [==============================] - 0s 2ms/step - loss: 3544.2312 - mae: 3544.2312\n",
            "Epoch 150/150\n",
            "34/34 [==============================] - 0s 2ms/step - loss: 3544.0359 - mae: 3544.0359\n"
          ]
        }
      ]
    },
    {
      "cell_type": "code",
      "source": [
        "insuranceModelTransformed.evaluate(X_test_normal, y_test)"
      ],
      "metadata": {
        "id": "cXQqiLjC_10O",
        "colab": {
          "base_uri": "https://localhost:8080/"
        },
        "outputId": "41c1063b-f3c4-4955-8732-d111e2b56e4c"
      },
      "execution_count": null,
      "outputs": [
        {
          "output_type": "stream",
          "name": "stdout",
          "text": [
            "9/9 [==============================] - 0s 3ms/step - loss: 3285.6223 - mae: 3285.6223\n"
          ]
        },
        {
          "output_type": "execute_result",
          "data": {
            "text/plain": [
              "[3285.622314453125, 3285.622314453125]"
            ]
          },
          "metadata": {},
          "execution_count": 78
        }
      ]
    },
    {
      "cell_type": "code",
      "source": [],
      "metadata": {
        "id": "EIXK7y6S_-yT"
      },
      "execution_count": null,
      "outputs": []
    }
  ]
}